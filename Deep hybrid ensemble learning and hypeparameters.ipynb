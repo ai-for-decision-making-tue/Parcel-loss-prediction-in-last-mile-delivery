{
 "cells": [
  {
   "cell_type": "markdown",
   "id": "39b60a24",
   "metadata": {
    "heading_collapsed": true
   },
   "source": [
    "### Import Libraries"
   ]
  },
  {
   "cell_type": "code",
   "execution_count": 49,
   "id": "d60226d8",
   "metadata": {
    "hidden": true
   },
   "outputs": [],
   "source": [
    "import datetime \n",
    "import functions14\n",
    "import pickle\n",
    "import pandas as pd\n",
    "import tensorflow as tf\n",
    "import numpy as np\n",
    "from sklearn.ensemble import RandomForestClassifier, BaggingClassifier\n",
    "from sklearn.model_selection import StratifiedKFold, train_test_split\n",
    "from sklearn.metrics import (recall_score, precision_score, precision_recall_curve, \n",
    "                             roc_curve, confusion_matrix, auc, f1_score, \n",
    "                             balanced_accuracy_score, roc_auc_score, plot_confusion_matrix, make_scorer)\n",
    "from sklearn.metrics import precision_score\n",
    "from sklearn.metrics import precision_recall_curve\n",
    "from sklearn.metrics import roc_curve\n",
    "from sklearn.metrics import confusion_matrix\n",
    "import matplotlib.pyplot as plt\n",
    "from sklearn.model_selection import GridSearchCV, RandomizedSearchCV\n",
    "from sklearn.neighbors import KNeighborsClassifier\n",
    "from sklearn.linear_model import LogisticRegression\n",
    "from xgboost import XGBClassifier\n",
    "from sklearn.svm import SVC\n",
    "import seaborn as sns\n",
    "from sklearn.metrics import confusion_matrix\n",
    "from numpy import arange\n",
    "from numpy import argmax\n",
    "from numpy import argmin\n",
    "from sklearn.metrics import (confusion_matrix, precision_recall_curve, auc,\n",
    "                             roc_curve, recall_score, classification_report, f1_score,\n",
    "                             precision_recall_fscore_support)\n",
    "from sklearn.tree import DecisionTreeClassifier\n",
    "from imblearn.under_sampling import RandomUnderSampler\n",
    "import re\n",
    "import time"
   ]
  },
  {
   "cell_type": "markdown",
   "id": "1af2c14e",
   "metadata": {
    "heading_collapsed": true
   },
   "source": [
    "### Define Functions"
   ]
  },
  {
   "cell_type": "code",
   "execution_count": 96,
   "id": "e65e90a9",
   "metadata": {
    "hidden": true
   },
   "outputs": [],
   "source": [
    "def merge_test_set(X_test, y_test, y_pred):\n",
    "    X_test = X_test.reset_index()\n",
    "    y_test = y_test.reset_index()\n",
    "    y_pred = y_pred.reset_index()\n",
    "    test_df = pd.concat([X_test, y_test, y_pred], axis=1)\n",
    "    return pd.DataFrame(test_df)\n",
    "\n",
    "def calculate_insurance(stock_value):\n",
    "    if stock_value < 500:\n",
    "        return 1.73\n",
    "    if 500 <= stock_value < 1000:\n",
    "        return 3.46\n",
    "    if 1000 <= stock_value < 1500:\n",
    "        return 5.19\n",
    "    if 1500 <= stock_value < 2000:\n",
    "        return 6.92\n",
    "    if 2000 <= stock_value < 2500:\n",
    "        return 8.65\n",
    "    if 2500 <= stock_value < 3000:\n",
    "        return 10.38\n",
    "    if 3000 <= stock_value < 3500:\n",
    "        return 12.11\n",
    "    if 3500 <= stock_value < 4000:\n",
    "        return 13.84\n",
    "    if 4000 <= stock_value < 4500:\n",
    "        return 15.57\n",
    "    if 4500 <= stock_value < 5000:\n",
    "        return 17.30\n",
    "    if stock_value >= 5000: \n",
    "        return 19.03\n",
    "    \n",
    "def determine_misclass(pred, lost):\n",
    "    if pred == 1 and lost == 1:\n",
    "        misclass = 'TP'\n",
    "    if pred == 1 and lost == 0:\n",
    "        misclass= 'FP'\n",
    "    if pred == 0 and lost == 1:\n",
    "        misclass = 'FN'\n",
    "    if pred== 0 and lost == 0:\n",
    "        misclass = 'TN'\n",
    "    return misclass \n",
    "\n",
    "def determine_misclass_cost(classification, stock_value):\n",
    "    if classification == 'FP':\n",
    "        return calculate_insurance(stock_value)\n",
    "    if classification == 'FN':\n",
    "        return stock_value\n",
    "    else:\n",
    "        return 0\n",
    "    \n",
    "    \n",
    "def cost_test_set(X_test, y_test, y_pred):\n",
    "    y_pred = pd.DataFrame(y_pred)\n",
    "    y_pred.columns.values[0] = 'Pred'\n",
    "    test_df = merge_test_set(X_test['stock_value'], y_test, y_pred)\n",
    "    test_df['classification'] = test_df.apply(lambda x: determine_misclass(x.Pred, x.Is_lost_item), axis=1)\n",
    "    test_df['misclass_cost'] = test_df.apply(lambda x: determine_misclass_cost(x.classification, x.stock_value), axis=1)\n",
    "    return np.sum(test_df['misclass_cost'])\n",
    "\n",
    "\n",
    "def change_input_data(X_train_transformed, X_validate_transformed, X_test_transformed, y_test, y_validate, number_of_features):\n",
    "    FS_most = list(most_important_features)\n",
    "    feats = FS_most[:number_of_features]\n",
    "    X_train_transformed = X_train_transformed[feats]\n",
    "    X_validate_transformed = X_validate_transformed[feats]\n",
    "    X_test_transformed = X_test_transformed[feats]\n",
    "    \n",
    "    X_train_transformed = pd.DataFrame(X_train_transformed)\n",
    "    X_validate_transformed = pd.DataFrame(X_validate_transformed)\n",
    "    X_test_transformed = pd.DataFrame(X_test_transformed)\n",
    "    \n",
    "    y_validate =pd.DataFrame(y_validate)\n",
    "    y_test = pd.DataFrame(y_test)\n",
    "    \n",
    "    return X_train_transformed, X_validate_transformed, y_validate, X_test_transformed, y_test\n",
    "\n",
    "def evaluate_classifier_CV(model, X_train, y_train, SVM=False):\n",
    "    skf = StratifiedKFold(n_splits=3)\n",
    "    recalls = []\n",
    "    precisions = []\n",
    "    costs = []\n",
    "    ROC_AUCs = []\n",
    "    balanced_accuracys = []\n",
    "    \n",
    "    for train_index, test_index in skf.split(X_train, y_train):\n",
    "        X_train_fold, X_test_fold = X_train.iloc[train_index], X_train.iloc[test_index]\n",
    "        y_train_fold, y_test_fold = y_train.iloc[train_index], y_train.iloc[test_index]\n",
    "        model.fit(X_train_fold, y_train_fold)\n",
    "        y_pred_fold = model.predict(X_test_fold)\n",
    "        recalls.append(recall_score(y_test_fold, y_pred_fold, average=\"binary\", pos_label=1))\n",
    "        precisions.append(precision_score(y_test_fold, y_pred_fold, average=\"binary\", pos_label=1))\n",
    "        costs.append(functions14.calculate_cost(y_test_fold, y_pred_fold))\n",
    "        balanced_accuracys.append(balanced_accuracy_score(y_test_fold, y_pred_fold))\n",
    "        if SVM == True:\n",
    "            ROC_AUCs.append(0)\n",
    "        if SVM == False:\n",
    "            y_pred_proba = model.predict_proba(X_test_fold)\n",
    "            ROC_AUCs.append(roc_auc_score(y_test_fold, y_pred_proba[:, 1])) \n",
    "        plot_confusion_matrix(model, X_test_fold, y_test_fold)\n",
    "        plt.show()\n",
    "    \n",
    "    recall = np.mean(recalls)\n",
    "    precision = np.mean(precisions)\n",
    "    cost = np.mean(costs)\n",
    "    ROC_AUC= np.mean(ROC_AUCs)\n",
    "    balanced_accuracy = np.mean(balanced_accuracys)\n",
    "    print('CV RESULTS: Recall = {}, Precision = {}, ROC_AUC = {}, Costs are {}, Balanced Accuracy = {}'.format(recall, precision, ROC_AUC, cost, balanced_accuracy))\n",
    "    print('Stdev CV results: Recall stdev = {}, precision stdev = {}, Balanced Accuracy stdev = {}, ROC_AUC stdev = {}'.format(np.std(recalls), np.std(precisions), np.std(balanced_accuracys), np.std(ROC_AUCs)))\n",
    "    return recalls, precisions, costs, ROC_AUCs\n",
    "\n",
    "def evaluate_classifier_test(model, X_train, y_train, X_test, y_test, SVM=False):    \n",
    "    model.fit(X_train, y_train)\n",
    "    y_pred = model.predict(X_test)\n",
    "    ROC_AUC_test = 0\n",
    "    if SVM == False:\n",
    "        y_pred_proba = model.predict_proba(X_test)\n",
    "        ROC_AUC_test = roc_auc_score(y_test, y_pred_proba[:, 1])\n",
    "    recall_test = recall_score(y_test, y_pred, average=\"binary\", pos_label=1)\n",
    "    precision_test = precision_score(y_test, y_pred, average='binary', pos_label = 1)\n",
    "    balanced_accuracy2 = balanced_accuracy_score(y_test, y_pred)\n",
    "    cost_test = calculate_cost(y_test, y_pred)\n",
    "    print(cost_test)\n",
    "    plot_confusion_matrix(model, X_test, y_test)\n",
    "    plt.show()\n",
    "    CM = confusion_matrix(y_test, y_pred)\n",
    "    print(CM)\n",
    "    print('Test set results: Recall = {}, Precision = {}, ROC_AUC = {}, balanced accuracy = {},  Costs are {}'.\n",
    "          format(recall_test, precision_test, ROC_AUC_test, balanced_accuracy2, cost_test))\n",
    "    \n",
    "    return model\n",
    "\n",
    "def calculate_cost(y_true, y_pred, **kwargs):\n",
    "    CM = confusion_matrix(y_true, y_pred)\n",
    "\n",
    "    TN = CM[0][0]\n",
    "    FN = CM[1][0]\n",
    "    TP = CM[1][1]\n",
    "    FP = CM[0][1]\n",
    "    \n",
    "    #print('TN = {}, TP = {}, FP = {}, FN = {}'.format(TN, TP, FP, FN))\n",
    "    costs = FN* mean_stock_value + FP*mean_insurance_costs\n",
    "    #print('Costs are thus {}'.format(costs))\n",
    "    return costs \n",
    "\n",
    "mean_stock_value = 340.18\n",
    "mean_insurance_costs = 1.68\n",
    "cost_scorer = make_scorer(calculate_cost, greater_is_better = False)\n",
    "\n",
    "def find_optimal_parameters(model, param_grid, optimizer, cv, X_validate, y_validate):\n",
    "    \n",
    "    random_state=1\n",
    "    grid_search = RandomizedSearchCV(estimator = model, param_distributions = param_grid, scoring = optimizer, \n",
    "                          cv = cv, n_jobs = -1, verbose = 10)\n",
    "    grid_search.fit(X_validate, y_validate)\n",
    "    print(grid_search.best_params_)\n",
    "    print('best score is ', grid_search.best_score_)\n",
    "    \n",
    "    return grid_search.best_params_\n",
    "\n",
    "def evaluate_DH_performance(model, params, X_validate, y_validate, X_test, y_test):\n",
    "    \n",
    "    if model == 'RF':\n",
    "        model_optimized = RandomForestClassifier(n_estimators = params['n_estimators'], min_samples_split = params['min_samples_split'], \n",
    "            max_features = params['max_features'], max_depth = params['max_depth'], criterion = params['criterion'], \n",
    "                                                 class_weight = params['class_weight'], random_state=random_state)\n",
    "    \n",
    "    if model == 'LR':\n",
    "        model_optimized = LogisticRegression(penalty = params['penalty'], class_weight = params['class_weight'], \n",
    "                                             solver = params['solver'], random_state = random_state)\n",
    "        \n",
    "    if model == 'svm':\n",
    "        model_optimized = SVC(C = params['C'], kernel= params['kernel'], gamma = params['gamma'], \n",
    "                              class_weight = params['class_weight'], probability=True, random_state=random_state)\n",
    "    \n",
    "    if model == 'XGB':\n",
    "        model_optimized = XGBClassifier(booster = params['booster'], eta = params['eta'], gamma= params['gamma'], max_depth = params['max_depth'],\n",
    "                                        sampling_method = params['sampling_method'], tree_method = params['tree_method'], \n",
    "                                      scale_pos_weight = params['scale_pos_weight'], random_state=random_state)\n",
    "    if model == 'knn':\n",
    "        model_optimized = KNeighborsClassifier(n_neighbors = params['n_neighbors'], weights = params['weights'])\n",
    "        \n",
    "    if model == 'DT':\n",
    "        model_optimized = DecisionTreeClassifier(criterion = params['criterion'], max_depth = params['max_depth'], \n",
    "                                                min_samples_split = params['min_samples_split'], class_weight= params['class_weight'],\n",
    "                                                max_features = params['max_features'], random_state=random_state)\n",
    "    \n",
    "    #evaluate_classifier_CV(model_optimized, X_validate, y_validate, SVM=False)\n",
    "    evaluate_classifier_test(model_optimized, X_validate, y_validate, X_test, y_test, SVM=False)  \n",
    "\n",
    "    return \n",
    "\n",
    "\n",
    "def get_outcomes(model, params, X_validate, y_validate, X_test, y_test):\n",
    "    \n",
    "    if model == 'RF':\n",
    "        model_optimized = RandomForestClassifier(n_estimators = params['n_estimators'], min_samples_split = params['min_samples_split'], \n",
    "            max_features = params['max_features'], max_depth = params['max_depth'], criterion = params['criterion'], \n",
    "                                                 class_weight = params['class_weight'], random_state=random_state)\n",
    "    \n",
    "    if model == 'LR':\n",
    "        model_optimized = LogisticRegression(penalty = params['penalty'], class_weight = params['class_weight'], \n",
    "                                             solver = params['solver'], random_state = random_state)\n",
    "        \n",
    "    if model == 'svm':\n",
    "        model_optimized = SVC(C = params['C'], kernel= params['kernel'], gamma = params['gamma'], \n",
    "                              class_weight = params['class_weight'], probability=True, random_state=random_state)\n",
    "    \n",
    "    if model == 'XGB':\n",
    "        model_optimized = XGBClassifier(booster = params['booster'], eta = params['eta'], gamma= params['gamma'], max_depth = params['max_depth'],\n",
    "                                        sampling_method = params['sampling_method'], tree_method = params['tree_method'], \n",
    "                                      scale_pos_weight = params['scale_pos_weight'], random_state=random_state)\n",
    "    if model == 'knn':\n",
    "        model_optimized = KNeighborsClassifier(n_neighbors = params['n_neighbors'], weights = params['weights'])\n",
    "        \n",
    "    if model == 'DT':\n",
    "        model_optimized = DecisionTreeClassifier(criterion = params['criterion'], max_depth = params['max_depth'], \n",
    "                                                min_samples_split = params['min_samples_split'], class_weight= params['class_weight'],\n",
    "                                                max_features = params['max_features'], random_state=random_state)\n",
    "    \n",
    "    #evaluate_classifier_CV(model_optimized, X_validate, y_validate, SVM=False)\n",
    "    evaluate_classifier_test(model_optimized, X_validate, y_validate, X_test, y_test, SVM=False)  \n",
    "    model_optimized.fit(X_validate, y_validate)\n",
    "    y_pred = model_optimized.predict(X_test)\n",
    "    \n",
    "    return X_test, y_test, y_pred\n",
    "\n",
    "\n",
    "\n",
    "def make_confusion_matrix(y_test, y_pred):\n",
    "    cf_matrix = confusion_matrix(y_test, y_pred)\n",
    "    ax = sns.heatmap(cf_matrix, annot=True, cmap='Blues', fmt='d')\n",
    "    ax.set_title('Seaborn Confusion Matrix with labels\\n\\n');\n",
    "    ax.set_xlabel('\\nPredicted label')\n",
    "    ax.set_ylabel('Actual label ');\n",
    "    ## Ticket labels - List must be in alphabetical order\n",
    "    ax.xaxis.set_ticklabels(['0','1'])\n",
    "    ax.yaxis.set_ticklabels(['0','1'])\n",
    "    ## Display the visualization of the Confusion Matrix.\n",
    "    plt.show()\n",
    "    \n",
    "def mad_score(points):\n",
    "    \"\"\"https://www.itl.nist.gov/div898/handbook/eda/section3/eda35h.htm \"\"\"\n",
    "    m = np.median(points)\n",
    "    ad = np.abs(points - m)\n",
    "    mad = np.median(ad)\n",
    "    \n",
    "    return 0.6745 * ad / mad\n",
    "\n",
    "\n",
    "def merge_test_set(X_test, y_test, y_pred):\n",
    "    X_test = X_test.reset_index()\n",
    "    y_test = y_test.reset_index()\n",
    "    y_pred = y_pred.reset_index()\n",
    "    test_df = pd.concat([X_test, y_test, y_pred], axis=1)\n",
    "    return pd.DataFrame(test_df)\n",
    "\n",
    "def calculate_insurance(stock_value):\n",
    "    if stock_value < 500:\n",
    "        return 1.73\n",
    "    if 500 <= stock_value < 1000:\n",
    "        return 3.46\n",
    "    if 1000 <= stock_value < 1500:\n",
    "        return 5.19\n",
    "    if 1500 <= stock_value < 2000:\n",
    "        return 6.92\n",
    "    if 2000 <= stock_value < 2500:\n",
    "        return 8.65\n",
    "    if 2500 <= stock_value < 3000:\n",
    "        return 10.38\n",
    "    if 3000 <= stock_value < 3500:\n",
    "        return 12.11\n",
    "    if 3500 <= stock_value < 4000:\n",
    "        return 13.84\n",
    "    if 4000 <= stock_value < 4500:\n",
    "        return 15.57\n",
    "    if 4500 <= stock_value < 5000:\n",
    "        return 17.30\n",
    "    if stock_value >= 5000: \n",
    "        return 19.03\n",
    "    \n",
    "def determine_misclass(pred, lost):\n",
    "    if pred == 1 and lost == 1:\n",
    "        misclass = 'TP'\n",
    "    if pred == 1 and lost == 0:\n",
    "        misclass= 'FP'\n",
    "    if pred == 0 and lost == 1:\n",
    "        misclass = 'FN'\n",
    "    if pred== 0 and lost == 0:\n",
    "        misclass = 'TN'\n",
    "    return misclass \n",
    "\n",
    "def determine_misclass_cost(classification, stock_value):\n",
    "    if classification == 'FP':\n",
    "        return calculate_insurance(stock_value)\n",
    "    if classification == 'FN':\n",
    "        return stock_value\n",
    "    else:\n",
    "        return 0\n",
    "    \n",
    "def cost_test_set(X_test, y_test, y_pred):\n",
    "    y_pred = pd.DataFrame(y_pred)\n",
    "    #y_pred.set_axis(['Pred'], axis='columns', inplace=False)\n",
    "    y_test = y_test.astype(int)\n",
    "    test_df = merge_test_set(X_test['stock_value'], y_test, y_pred)\n",
    "    test_df['Pred'] = test_df.iloc[:,-1:]\n",
    "    test_df['stock_value_normal'] = np.exp(test_df[\"stock_value\"]) \n",
    "    test_df\n",
    "    test_df['classification'] = test_df.apply(lambda x: determine_misclass(x.Pred, x.Is_lost_item), axis=1)\n",
    "    test_df['misclass_cost'] = test_df.apply(lambda x: determine_misclass_cost(x.classification, x.stock_value_normal), axis=1)\n",
    "    print('Total misclassification costs are ', np.sum(test_df['misclass_cost']))\n",
    "    print(test_df['classification'].value_counts())\n",
    "    return np.sum(test_df['misclass_cost'])"
   ]
  },
  {
   "cell_type": "code",
   "execution_count": 73,
   "id": "3b740bc4",
   "metadata": {
    "hidden": true
   },
   "outputs": [],
   "source": [
    "#Best params AE RF\n",
    "best_params_AE_RF = {'n_estimators': 100, 'min_samples_split': 10, 'max_features': None, 'max_depth': 5, \n",
    "                     'criterion': 'entropy', 'class_weight': 'balanced'}\n",
    "best_params_VAE_RF = {'n_estimators': 100, 'min_samples_split': 10, 'max_features': None, 'max_depth': 5, \n",
    "                     'criterion': 'entropy', 'class_weight': 'balanced'}\n",
    "best_params_DAE_RF = {'n_estimators': 100, 'min_samples_split': 10, 'max_features': None, 'max_depth': 5, \n",
    "                     'criterion': 'entropy', 'class_weight': 'balanced'}\n",
    "\n",
    "#best params LR\n",
    "best_params_AE_LR = {'solver': 'liblinear', 'penalty': 'l2', 'class_weight': 'balanced'}\n",
    "best_params_VAE_LR = {'solver': 'liblinear', 'penalty': 'l1', 'class_weight': 'balanced'}\n",
    "best_params_DAE_LR = {'solver': 'liblinear', 'penalty': 'l2', 'class_weight': 'balanced'}\n",
    "\n",
    "#best params SVM\n",
    "best_params_AE_SVM = {'kernel': 'linear', 'gamma': 'scale', 'class_weight': 'balanced', 'C': 1}\n",
    "best_params_VAE_SVM = {'kernel': 'linear', 'gamma': 'scale', 'class_weight': 'balanced', 'C': 1}\n",
    "best_params_DAE_SVM = {'kernel': 'linear', 'gamma': 'scale', 'class_weight': 'balanced', 'C': 1}\n",
    "\n",
    "# #best params XGB\n",
    "best_params_AE_XGB = {'tree_method': 'hist', 'subsample': 1, 'scale_pos_weight': 10, 'sampling_method': 'gradient_based', 'max_depth': 5, \n",
    " 'lambda': 1, 'gamma': 10, 'eta': 0.4, 'booster': 'gbtree', 'alpha': 1}\n",
    "best_params_VAE_XGB = {'tree_method': 'approx', 'subsample': 1, 'scale_pos_weight': 10, 'sampling_method': 'uniform', 'max_depth': 5, \n",
    " 'lambda': 1, 'gamma': 10, 'eta': 0.4, 'booster': 'gbtree', 'alpha': 1}\n",
    "best_params_DAE_XGB = {'tree_method': 'approx', 'subsample': 1, 'scale_pos_weight': 10, 'sampling_method': 'gradient_based',\n",
    "'max_depth': None, 'lambda': 1, 'gamma': 10, 'eta': 0.4, 'booster': 'gbtree', 'alpha': 1}\n",
    "\n",
    "# #best params knn\n",
    "best_params_AE_knn = {'weights': 'uniform', 'n_neighbors': 1}\n",
    "best_params_VAE_knn = {'weights': 'distance', 'n_neighbors': 1}\n",
    "best_params_DAE_knn = {'weights': 'distance', 'n_neighbors': 2}\n",
    "\n",
    "\n",
    "best_params_AE_DT = {'criterion' : 'entropy', 'max_depth': 10, 'max_features' : None, 'min_samples_split': 150, \n",
    "                             'class_weight': 'balanced', 'random_state': random_state} "
   ]
  },
  {
   "cell_type": "code",
   "execution_count": 77,
   "id": "a7204b5c",
   "metadata": {
    "hidden": true
   },
   "outputs": [],
   "source": [
    "X = pd.read_csv('X_modeling2.csv', index_col = 0)\n",
    "y = pd.read_csv('y_modeling2.csv', index_col = 0)\n",
    "regex = re.compile(r\"\\[|\\]|<\", re.IGNORECASE)\n",
    "X.columns = [regex.sub(\"_\", col) if any(x in str(col) for x in set(('[', ']', '<'))) else col for col in X.columns.values]\n",
    "X_to_join = X.copy()\n",
    "X_to_join = X_to_join.reset_index()\n",
    "y_to_join = pd.DataFrame(y)\n",
    "y_to_join = y_to_join.reset_index()\n",
    "df = pd.concat([X_to_join, y_to_join], axis=1)\n",
    "df = df.drop(['index'], axis=1)\n",
    "X = X.drop('parent_securityshipment_Insurance', axis=1)\n",
    "X = X.drop('parent_securityshipment_None', axis=1)\n",
    "X = X.drop('parent_securityshipment_Signature', axis=1)"
   ]
  },
  {
   "cell_type": "code",
   "execution_count": 89,
   "id": "d9e9eda4",
   "metadata": {
    "hidden": true
   },
   "outputs": [
    {
     "name": "stderr",
     "output_type": "stream",
     "text": [
      "C:\\Users\\jan.deleeuw\\AppData\\Local\\Temp\\ipykernel_12192\\3256136399.py:6: DataConversionWarning: A column-vector y was passed when a 1d array was expected. Please change the shape of y to (n_samples,), for example using ravel().\n",
      "  RF = RandomForestClassifier(criterion = 'entropy', max_depth = 10, max_features = 10, min_samples_split = 100,\n"
     ]
    }
   ],
   "source": [
    "#List the features on feature importance according to best model supervised\n",
    "X_train, X_test, y_train, y_test = train_test_split(X, y, stratify=y, test_size=0.1, random_state=1)\n",
    "X_train_RU, y_train_RU = RandomUnderSampler(random_state= 1, sampling_strategy=0.3).fit_resample(X_train, y_train)\n",
    "\n",
    "#Best model supervised\n",
    "RF = RandomForestClassifier(criterion = 'entropy', max_depth = 10, max_features = 10, min_samples_split = 100, \n",
    "                            n_estimators = 200, class_weight = 'balanced', random_state=1).fit(X_train_RU, y_train_RU)\n",
    "\n",
    "feature_importances = RF.feature_importances_\n",
    "feature_list = list(X_train_RU.columns)\n",
    "relative_importances = pd.DataFrame(index=feature_list, data=feature_importances, columns=[\"importance\"])\n",
    "relative_importances = relative_importances.sort_values(by=\"importance\", ascending=False)\n",
    "most_important_features_df = pd.DataFrame(relative_importances, columns = ['col_name', 'importance'])\n",
    "most_important_features_df = most_important_features_df.reset_index(inplace=False)\n",
    "most_important_features = most_important_features_df['index'].values\n",
    "\n",
    "X_train_transformed = pd.read_csv('X_train_transformed.csv', index_col=0)\n",
    "X_validate_transformed = pd.read_csv('X_validate_transformed.csv', index_col=0)\n",
    "X_test_transformed = pd.read_csv('X_test_transformed.csv', index_col=0)\n",
    "y_test = pd.read_csv('y_test.csv', index_col=0)\n",
    "y_validate = pd.read_csv('y_validate.csv', index_col=0)"
   ]
  },
  {
   "cell_type": "code",
   "execution_count": 15,
   "id": "16b9dff1",
   "metadata": {
    "hidden": true
   },
   "outputs": [],
   "source": [
    "#Set running values\n",
    "early_stop = tf.keras.callbacks.EarlyStopping(\n",
    "    monitor='val_loss',\n",
    "    min_delta=0.000005,\n",
    "    patience=50,\n",
    "    verbose=1, \n",
    "    mode='min',\n",
    "    restore_best_weights=True)\n",
    "\n",
    "save_model = tf.keras.callbacks.ModelCheckpoint(\n",
    "    filepath='autoencoder_best_weights.hdf5',\n",
    "    save_best_only=True,\n",
    "    monitor='val_loss',\n",
    "    verbose=0,\n",
    "    mode='min')\n",
    "\n",
    "cb = [early_stop, save_model]"
   ]
  },
  {
   "cell_type": "markdown",
   "id": "4c8be679",
   "metadata": {
    "heading_collapsed": true
   },
   "source": [
    "# 1. Create unsupervised autoencoders"
   ]
  },
  {
   "cell_type": "markdown",
   "id": "d1fb8923",
   "metadata": {
    "heading_collapsed": true,
    "hidden": true
   },
   "source": [
    "### 1.1 Create and train optimal AE"
   ]
  },
  {
   "cell_type": "code",
   "execution_count": 16,
   "id": "db7d6f3a",
   "metadata": {
    "hidden": true,
    "scrolled": true
   },
   "outputs": [
    {
     "name": "stdout",
     "output_type": "stream",
     "text": [
      "Model: \"model\"\n",
      "_________________________________________________________________\n",
      " Layer (type)                Output Shape              Param #   \n",
      "=================================================================\n",
      " input_1 (InputLayer)        [(None, 25)]              0         \n",
      "                                                                 \n",
      " dense (Dense)               (None, 25)                650       \n",
      "                                                                 \n",
      " dense_1 (Dense)             (None, 8)                 208       \n",
      "                                                                 \n",
      " dropout (Dropout)           (None, 8)                 0         \n",
      "                                                                 \n",
      " dense_2 (Dense)             (None, 4)                 36        \n",
      "                                                                 \n",
      " dense_3 (Dense)             (None, 8)                 40        \n",
      "                                                                 \n",
      " dense_4 (Dense)             (None, 25)                225       \n",
      "                                                                 \n",
      "=================================================================\n",
      "Total params: 1,159\n",
      "Trainable params: 1,159\n",
      "Non-trainable params: 0\n",
      "_________________________________________________________________\n"
     ]
    }
   ],
   "source": [
    "#Set parameters autoencoder \n",
    "optimizer = 'Adam'\n",
    "loss = 'mse'\n",
    "activation_1 = 'relu'\n",
    "activation_2 = 'sigmoid'\n",
    "batch_size = 512\n",
    "hidden_layers = 3\n",
    "nodes_start = 8\n",
    "dropout_rate = 0.2\n",
    "places_dropout = 1\n",
    "amount_of_features = 25\n",
    "input_dim = amount_of_features\n",
    "epochs = 200\n",
    "latent_representation_number = 5\n",
    "random_state = 1\n",
    "\n",
    "#Get the corresponding data\n",
    "X_train_transformed, X_validate_transformed, y_validate, X_test_transformed, y_test =change_input_data(X_train_transformed, X_validate_transformed, X_test_transformed, y_test, y_validate, input_dim)\n",
    "\n",
    "#create model\n",
    "autoencoder = functions14.create_model_(optimizer, loss, activation_1, activation_2, batch_size, hidden_layers, \n",
    "                  nodes_start, dropout_rate, places_dropout, input_dim)"
   ]
  },
  {
   "cell_type": "code",
   "execution_count": 17,
   "id": "a28b66bf",
   "metadata": {
    "hidden": true,
    "scrolled": true
   },
   "outputs": [
    {
     "name": "stdout",
     "output_type": "stream",
     "text": [
      "Epoch 1/200\n",
      "1200/1200 [==============================] - 2s 1ms/step - loss: 0.0178 - mse: 0.0178 - auc: 0.7114 - accuracy: 0.2749 - val_loss: 0.0163 - val_mse: 0.0163 - val_auc: 0.7240 - val_accuracy: 0.2906\n",
      "Epoch 2/200\n",
      "1200/1200 [==============================] - 2s 1ms/step - loss: 0.0162 - mse: 0.0162 - auc: 0.7221 - accuracy: 0.2908 - val_loss: 0.0162 - val_mse: 0.0162 - val_auc: 0.7238 - val_accuracy: 0.2906\n",
      "Epoch 3/200\n",
      "1200/1200 [==============================] - 2s 1ms/step - loss: 0.0162 - mse: 0.0162 - auc: 0.7227 - accuracy: 0.2908 - val_loss: 0.0162 - val_mse: 0.0162 - val_auc: 0.7244 - val_accuracy: 0.2906\n",
      "Epoch 4/200\n",
      "1200/1200 [==============================] - 2s 1ms/step - loss: 0.0162 - mse: 0.0162 - auc: 0.7242 - accuracy: 0.2908 - val_loss: 0.0161 - val_mse: 0.0161 - val_auc: 0.7252 - val_accuracy: 0.2906\n",
      "Epoch 5/200\n",
      "1200/1200 [==============================] - 2s 1ms/step - loss: 0.0161 - mse: 0.0161 - auc: 0.7242 - accuracy: 0.2910 - val_loss: 0.0161 - val_mse: 0.0161 - val_auc: 0.7251 - val_accuracy: 0.2907\n",
      "Epoch 6/200\n",
      "1200/1200 [==============================] - 2s 1ms/step - loss: 0.0160 - mse: 0.0160 - auc: 0.7400 - accuracy: 0.2909 - val_loss: 0.0159 - val_mse: 0.0159 - val_auc: 0.7600 - val_accuracy: 0.2906\n",
      "Epoch 7/200\n",
      "1200/1200 [==============================] - 2s 1ms/step - loss: 0.0159 - mse: 0.0159 - auc: 0.7587 - accuracy: 0.2911 - val_loss: 0.0158 - val_mse: 0.0158 - val_auc: 0.7618 - val_accuracy: 0.2906\n",
      "Epoch 8/200\n",
      "1200/1200 [==============================] - 2s 1ms/step - loss: 0.0158 - mse: 0.0158 - auc: 0.7587 - accuracy: 0.2910 - val_loss: 0.0158 - val_mse: 0.0158 - val_auc: 0.7612 - val_accuracy: 0.2907\n",
      "Epoch 9/200\n",
      "1200/1200 [==============================] - 2s 1ms/step - loss: 0.0158 - mse: 0.0158 - auc: 0.7586 - accuracy: 0.2911 - val_loss: 0.0158 - val_mse: 0.0158 - val_auc: 0.7623 - val_accuracy: 0.2907\n",
      "Epoch 10/200\n",
      "1200/1200 [==============================] - 2s 1ms/step - loss: 0.0158 - mse: 0.0158 - auc: 0.7589 - accuracy: 0.2911 - val_loss: 0.0158 - val_mse: 0.0158 - val_auc: 0.7622 - val_accuracy: 0.2907\n",
      "Epoch 11/200\n",
      "1200/1200 [==============================] - 2s 1ms/step - loss: 0.0158 - mse: 0.0158 - auc: 0.7590 - accuracy: 0.2911 - val_loss: 0.0157 - val_mse: 0.0157 - val_auc: 0.7609 - val_accuracy: 0.2906\n",
      "Epoch 12/200\n",
      "1200/1200 [==============================] - 2s 1ms/step - loss: 0.0158 - mse: 0.0158 - auc: 0.7593 - accuracy: 0.2910 - val_loss: 0.0157 - val_mse: 0.0157 - val_auc: 0.7610 - val_accuracy: 0.2907\n",
      "Epoch 13/200\n",
      "1200/1200 [==============================] - 2s 1ms/step - loss: 0.0158 - mse: 0.0158 - auc: 0.7598 - accuracy: 0.2909 - val_loss: 0.0157 - val_mse: 0.0157 - val_auc: 0.7621 - val_accuracy: 0.2907\n",
      "Epoch 14/200\n",
      "1200/1200 [==============================] - 2s 1ms/step - loss: 0.0158 - mse: 0.0158 - auc: 0.7601 - accuracy: 0.2908 - val_loss: 0.0157 - val_mse: 0.0157 - val_auc: 0.7642 - val_accuracy: 0.2906\n",
      "Epoch 15/200\n",
      "1200/1200 [==============================] - 2s 1ms/step - loss: 0.0158 - mse: 0.0158 - auc: 0.7602 - accuracy: 0.2907 - val_loss: 0.0157 - val_mse: 0.0157 - val_auc: 0.7634 - val_accuracy: 0.2906\n",
      "Epoch 16/200\n",
      "1200/1200 [==============================] - 2s 1ms/step - loss: 0.0158 - mse: 0.0158 - auc: 0.7602 - accuracy: 0.2907 - val_loss: 0.0157 - val_mse: 0.0157 - val_auc: 0.7611 - val_accuracy: 0.2906\n",
      "Epoch 17/200\n",
      "1200/1200 [==============================] - 2s 1ms/step - loss: 0.0158 - mse: 0.0158 - auc: 0.7603 - accuracy: 0.2907 - val_loss: 0.0157 - val_mse: 0.0157 - val_auc: 0.7605 - val_accuracy: 0.2906\n",
      "Epoch 18/200\n",
      "1200/1200 [==============================] - 1s 1ms/step - loss: 0.0158 - mse: 0.0158 - auc: 0.7602 - accuracy: 0.2908 - val_loss: 0.0157 - val_mse: 0.0157 - val_auc: 0.7617 - val_accuracy: 0.2906\n",
      "Epoch 19/200\n",
      "1200/1200 [==============================] - 2s 1ms/step - loss: 0.0158 - mse: 0.0158 - auc: 0.7603 - accuracy: 0.2908 - val_loss: 0.0157 - val_mse: 0.0157 - val_auc: 0.7635 - val_accuracy: 0.2906\n",
      "Epoch 20/200\n",
      "1200/1200 [==============================] - 1s 1ms/step - loss: 0.0158 - mse: 0.0158 - auc: 0.7604 - accuracy: 0.2908 - val_loss: 0.0157 - val_mse: 0.0157 - val_auc: 0.7618 - val_accuracy: 0.2906\n",
      "Epoch 21/200\n",
      "1200/1200 [==============================] - 2s 1ms/step - loss: 0.0158 - mse: 0.0158 - auc: 0.7606 - accuracy: 0.2908 - val_loss: 0.0157 - val_mse: 0.0157 - val_auc: 0.7636 - val_accuracy: 0.2906\n",
      "Epoch 22/200\n",
      "1200/1200 [==============================] - 2s 1ms/step - loss: 0.0158 - mse: 0.0158 - auc: 0.7606 - accuracy: 0.2908 - val_loss: 0.0157 - val_mse: 0.0157 - val_auc: 0.7613 - val_accuracy: 0.2906\n",
      "Epoch 23/200\n",
      "1200/1200 [==============================] - 2s 1ms/step - loss: 0.0158 - mse: 0.0158 - auc: 0.7608 - accuracy: 0.2908 - val_loss: 0.0157 - val_mse: 0.0157 - val_auc: 0.7636 - val_accuracy: 0.2906\n",
      "Epoch 24/200\n",
      "1200/1200 [==============================] - 2s 1ms/step - loss: 0.0158 - mse: 0.0158 - auc: 0.7608 - accuracy: 0.2909 - val_loss: 0.0157 - val_mse: 0.0157 - val_auc: 0.7644 - val_accuracy: 0.2906\n",
      "Epoch 25/200\n",
      "1200/1200 [==============================] - 1s 1ms/step - loss: 0.0158 - mse: 0.0158 - auc: 0.7608 - accuracy: 0.2908 - val_loss: 0.0157 - val_mse: 0.0157 - val_auc: 0.7609 - val_accuracy: 0.2906\n",
      "Epoch 26/200\n",
      "1200/1200 [==============================] - 2s 1ms/step - loss: 0.0158 - mse: 0.0158 - auc: 0.7609 - accuracy: 0.2908 - val_loss: 0.0157 - val_mse: 0.0157 - val_auc: 0.7637 - val_accuracy: 0.2907\n",
      "Epoch 27/200\n",
      "1200/1200 [==============================] - 1s 1ms/step - loss: 0.0158 - mse: 0.0158 - auc: 0.7609 - accuracy: 0.2909 - val_loss: 0.0157 - val_mse: 0.0157 - val_auc: 0.7619 - val_accuracy: 0.2906\n",
      "Epoch 28/200\n",
      "1200/1200 [==============================] - 2s 1ms/step - loss: 0.0158 - mse: 0.0158 - auc: 0.7610 - accuracy: 0.2909 - val_loss: 0.0157 - val_mse: 0.0157 - val_auc: 0.7626 - val_accuracy: 0.2906\n",
      "Epoch 29/200\n",
      "1200/1200 [==============================] - 1s 1ms/step - loss: 0.0158 - mse: 0.0158 - auc: 0.7610 - accuracy: 0.2909 - val_loss: 0.0157 - val_mse: 0.0157 - val_auc: 0.7638 - val_accuracy: 0.2906\n",
      "Epoch 30/200\n",
      "1200/1200 [==============================] - 1s 1ms/step - loss: 0.0158 - mse: 0.0158 - auc: 0.7610 - accuracy: 0.2908 - val_loss: 0.0157 - val_mse: 0.0157 - val_auc: 0.7631 - val_accuracy: 0.2906\n",
      "Epoch 31/200\n",
      "1200/1200 [==============================] - 2s 1ms/step - loss: 0.0158 - mse: 0.0158 - auc: 0.7610 - accuracy: 0.2909 - val_loss: 0.0157 - val_mse: 0.0157 - val_auc: 0.7638 - val_accuracy: 0.2906\n",
      "Epoch 32/200\n",
      "1200/1200 [==============================] - 1s 1ms/step - loss: 0.0158 - mse: 0.0158 - auc: 0.7610 - accuracy: 0.2908 - val_loss: 0.0157 - val_mse: 0.0157 - val_auc: 0.7644 - val_accuracy: 0.2908\n",
      "Epoch 33/200\n",
      "1200/1200 [==============================] - 1s 1ms/step - loss: 0.0158 - mse: 0.0158 - auc: 0.7611 - accuracy: 0.2908 - val_loss: 0.0157 - val_mse: 0.0157 - val_auc: 0.7620 - val_accuracy: 0.2906\n",
      "Epoch 34/200\n",
      "1200/1200 [==============================] - 1s 1ms/step - loss: 0.0158 - mse: 0.0158 - auc: 0.7611 - accuracy: 0.2909 - val_loss: 0.0157 - val_mse: 0.0157 - val_auc: 0.7641 - val_accuracy: 0.2906\n",
      "Epoch 35/200\n",
      "1200/1200 [==============================] - 1s 1ms/step - loss: 0.0158 - mse: 0.0158 - auc: 0.7612 - accuracy: 0.2908 - val_loss: 0.0157 - val_mse: 0.0157 - val_auc: 0.7628 - val_accuracy: 0.2906\n",
      "Epoch 36/200\n",
      "1200/1200 [==============================] - 1s 1ms/step - loss: 0.0158 - mse: 0.0158 - auc: 0.7612 - accuracy: 0.2909 - val_loss: 0.0157 - val_mse: 0.0157 - val_auc: 0.7646 - val_accuracy: 0.2906\n",
      "Epoch 37/200\n",
      "1200/1200 [==============================] - 2s 1ms/step - loss: 0.0158 - mse: 0.0158 - auc: 0.7614 - accuracy: 0.2909 - val_loss: 0.0157 - val_mse: 0.0157 - val_auc: 0.7648 - val_accuracy: 0.2906\n",
      "Epoch 38/200\n",
      "1200/1200 [==============================] - 1s 1ms/step - loss: 0.0158 - mse: 0.0158 - auc: 0.7614 - accuracy: 0.2908 - val_loss: 0.0157 - val_mse: 0.0157 - val_auc: 0.7615 - val_accuracy: 0.2906\n",
      "Epoch 39/200\n",
      "1200/1200 [==============================] - 2s 1ms/step - loss: 0.0158 - mse: 0.0158 - auc: 0.7615 - accuracy: 0.2909 - val_loss: 0.0157 - val_mse: 0.0157 - val_auc: 0.7603 - val_accuracy: 0.2906\n",
      "Epoch 40/200\n",
      "1200/1200 [==============================] - 2s 1ms/step - loss: 0.0158 - mse: 0.0158 - auc: 0.7615 - accuracy: 0.2909 - val_loss: 0.0157 - val_mse: 0.0157 - val_auc: 0.7638 - val_accuracy: 0.2906\n",
      "Epoch 41/200\n",
      "1200/1200 [==============================] - 1s 1ms/step - loss: 0.0158 - mse: 0.0158 - auc: 0.7615 - accuracy: 0.2909 - val_loss: 0.0157 - val_mse: 0.0157 - val_auc: 0.7622 - val_accuracy: 0.2906\n",
      "Epoch 42/200\n",
      "1200/1200 [==============================] - 1s 1ms/step - loss: 0.0158 - mse: 0.0158 - auc: 0.7615 - accuracy: 0.2909 - val_loss: 0.0157 - val_mse: 0.0157 - val_auc: 0.7621 - val_accuracy: 0.2906\n",
      "Epoch 43/200\n",
      "1200/1200 [==============================] - 1s 1ms/step - loss: 0.0158 - mse: 0.0158 - auc: 0.7616 - accuracy: 0.2909 - val_loss: 0.0157 - val_mse: 0.0157 - val_auc: 0.7655 - val_accuracy: 0.2906\n",
      "Epoch 44/200\n",
      "1200/1200 [==============================] - 1s 1ms/step - loss: 0.0158 - mse: 0.0158 - auc: 0.7616 - accuracy: 0.2909 - val_loss: 0.0157 - val_mse: 0.0157 - val_auc: 0.7649 - val_accuracy: 0.2906\n",
      "Epoch 45/200\n",
      "1200/1200 [==============================] - 1s 1ms/step - loss: 0.0158 - mse: 0.0158 - auc: 0.7616 - accuracy: 0.2909 - val_loss: 0.0157 - val_mse: 0.0157 - val_auc: 0.7642 - val_accuracy: 0.2906\n",
      "Epoch 46/200\n",
      "1200/1200 [==============================] - 1s 1ms/step - loss: 0.0158 - mse: 0.0158 - auc: 0.7616 - accuracy: 0.2910 - val_loss: 0.0157 - val_mse: 0.0157 - val_auc: 0.7649 - val_accuracy: 0.2906\n",
      "Epoch 47/200\n",
      "1200/1200 [==============================] - 1s 1ms/step - loss: 0.0158 - mse: 0.0158 - auc: 0.7616 - accuracy: 0.2909 - val_loss: 0.0157 - val_mse: 0.0157 - val_auc: 0.7627 - val_accuracy: 0.2906\n",
      "Epoch 48/200\n",
      "1200/1200 [==============================] - 1s 1ms/step - loss: 0.0158 - mse: 0.0158 - auc: 0.7616 - accuracy: 0.2909 - val_loss: 0.0157 - val_mse: 0.0157 - val_auc: 0.7646 - val_accuracy: 0.2906\n",
      "Epoch 49/200\n",
      "1200/1200 [==============================] - 1s 1ms/step - loss: 0.0158 - mse: 0.0158 - auc: 0.7617 - accuracy: 0.2910 - val_loss: 0.0157 - val_mse: 0.0157 - val_auc: 0.7627 - val_accuracy: 0.2906\n",
      "Epoch 50/200\n",
      "1200/1200 [==============================] - 1s 1ms/step - loss: 0.0158 - mse: 0.0158 - auc: 0.7618 - accuracy: 0.2910 - val_loss: 0.0157 - val_mse: 0.0157 - val_auc: 0.7617 - val_accuracy: 0.2906\n",
      "Epoch 51/200\n",
      "1200/1200 [==============================] - 2s 1ms/step - loss: 0.0158 - mse: 0.0158 - auc: 0.7618 - accuracy: 0.2910 - val_loss: 0.0157 - val_mse: 0.0157 - val_auc: 0.7636 - val_accuracy: 0.2906\n",
      "Epoch 52/200\n",
      "1200/1200 [==============================] - 2s 1ms/step - loss: 0.0158 - mse: 0.0158 - auc: 0.7618 - accuracy: 0.2910 - val_loss: 0.0157 - val_mse: 0.0157 - val_auc: 0.7650 - val_accuracy: 0.2906\n",
      "Epoch 53/200\n",
      "1200/1200 [==============================] - 1s 1ms/step - loss: 0.0158 - mse: 0.0158 - auc: 0.7619 - accuracy: 0.2910 - val_loss: 0.0157 - val_mse: 0.0157 - val_auc: 0.7642 - val_accuracy: 0.2906\n",
      "Epoch 54/200\n",
      "1200/1200 [==============================] - 1s 1ms/step - loss: 0.0158 - mse: 0.0158 - auc: 0.7619 - accuracy: 0.2910 - val_loss: 0.0157 - val_mse: 0.0157 - val_auc: 0.7648 - val_accuracy: 0.2906\n",
      "Epoch 55/200\n",
      "1200/1200 [==============================] - 1s 1ms/step - loss: 0.0158 - mse: 0.0158 - auc: 0.7619 - accuracy: 0.2910 - val_loss: 0.0157 - val_mse: 0.0157 - val_auc: 0.7622 - val_accuracy: 0.2906\n",
      "Epoch 56/200\n",
      "1200/1200 [==============================] - 2s 1ms/step - loss: 0.0158 - mse: 0.0158 - auc: 0.7620 - accuracy: 0.2910 - val_loss: 0.0157 - val_mse: 0.0157 - val_auc: 0.7648 - val_accuracy: 0.2906\n",
      "Epoch 57/200\n",
      "1200/1200 [==============================] - 1s 1ms/step - loss: 0.0158 - mse: 0.0158 - auc: 0.7621 - accuracy: 0.2910 - val_loss: 0.0157 - val_mse: 0.0157 - val_auc: 0.7628 - val_accuracy: 0.2906\n",
      "Epoch 58/200\n",
      "1200/1200 [==============================] - 2s 1ms/step - loss: 0.0158 - mse: 0.0158 - auc: 0.7621 - accuracy: 0.2910 - val_loss: 0.0157 - val_mse: 0.0157 - val_auc: 0.7617 - val_accuracy: 0.2906\n",
      "Epoch 59/200\n",
      "1200/1200 [==============================] - 1s 1ms/step - loss: 0.0158 - mse: 0.0158 - auc: 0.7622 - accuracy: 0.2910 - val_loss: 0.0157 - val_mse: 0.0157 - val_auc: 0.7654 - val_accuracy: 0.2906\n",
      "Epoch 60/200\n",
      "1200/1200 [==============================] - 1s 1ms/step - loss: 0.0158 - mse: 0.0158 - auc: 0.7622 - accuracy: 0.2910 - val_loss: 0.0157 - val_mse: 0.0157 - val_auc: 0.7634 - val_accuracy: 0.2906\n",
      "Epoch 61/200\n",
      "1200/1200 [==============================] - 2s 1ms/step - loss: 0.0158 - mse: 0.0158 - auc: 0.7622 - accuracy: 0.2910 - val_loss: 0.0157 - val_mse: 0.0157 - val_auc: 0.7651 - val_accuracy: 0.2906\n",
      "Epoch 62/200\n",
      "1200/1200 [==============================] - 1s 1ms/step - loss: 0.0158 - mse: 0.0158 - auc: 0.7622 - accuracy: 0.2910 - val_loss: 0.0157 - val_mse: 0.0157 - val_auc: 0.7632 - val_accuracy: 0.2906\n",
      "Epoch 63/200\n",
      "1200/1200 [==============================] - 1s 1ms/step - loss: 0.0158 - mse: 0.0158 - auc: 0.7623 - accuracy: 0.2910 - val_loss: 0.0157 - val_mse: 0.0157 - val_auc: 0.7634 - val_accuracy: 0.2906\n",
      "Epoch 64/200\n",
      "1200/1200 [==============================] - 1s 1ms/step - loss: 0.0158 - mse: 0.0158 - auc: 0.7623 - accuracy: 0.2910 - val_loss: 0.0157 - val_mse: 0.0157 - val_auc: 0.7634 - val_accuracy: 0.2906\n",
      "Epoch 65/200\n",
      "1200/1200 [==============================] - 1s 1ms/step - loss: 0.0158 - mse: 0.0158 - auc: 0.7623 - accuracy: 0.2909 - val_loss: 0.0157 - val_mse: 0.0157 - val_auc: 0.7628 - val_accuracy: 0.2906\n",
      "Epoch 66/200\n",
      "1200/1200 [==============================] - 1s 1ms/step - loss: 0.0158 - mse: 0.0158 - auc: 0.7623 - accuracy: 0.2909 - val_loss: 0.0157 - val_mse: 0.0157 - val_auc: 0.7639 - val_accuracy: 0.2906\n",
      "Epoch 67/200\n",
      "1200/1200 [==============================] - 1s 1ms/step - loss: 0.0158 - mse: 0.0158 - auc: 0.7623 - accuracy: 0.2910 - val_loss: 0.0157 - val_mse: 0.0157 - val_auc: 0.7654 - val_accuracy: 0.2906\n",
      "Epoch 68/200\n",
      "1200/1200 [==============================] - 1s 1ms/step - loss: 0.0158 - mse: 0.0158 - auc: 0.7623 - accuracy: 0.2909 - val_loss: 0.0157 - val_mse: 0.0157 - val_auc: 0.7646 - val_accuracy: 0.2906\n",
      "Epoch 69/200\n",
      "1200/1200 [==============================] - 1s 1ms/step - loss: 0.0158 - mse: 0.0158 - auc: 0.7623 - accuracy: 0.2909 - val_loss: 0.0157 - val_mse: 0.0157 - val_auc: 0.7659 - val_accuracy: 0.2906\n",
      "Epoch 70/200\n",
      "1200/1200 [==============================] - 2s 1ms/step - loss: 0.0158 - mse: 0.0158 - auc: 0.7623 - accuracy: 0.2909 - val_loss: 0.0157 - val_mse: 0.0157 - val_auc: 0.7660 - val_accuracy: 0.2906\n",
      "Epoch 71/200\n",
      "1200/1200 [==============================] - 2s 1ms/step - loss: 0.0158 - mse: 0.0158 - auc: 0.7623 - accuracy: 0.2909 - val_loss: 0.0157 - val_mse: 0.0157 - val_auc: 0.7643 - val_accuracy: 0.2906\n",
      "Epoch 72/200\n",
      "1200/1200 [==============================] - 1s 1ms/step - loss: 0.0158 - mse: 0.0158 - auc: 0.7623 - accuracy: 0.2909 - val_loss: 0.0157 - val_mse: 0.0157 - val_auc: 0.7658 - val_accuracy: 0.2906\n",
      "Epoch 73/200\n",
      "1200/1200 [==============================] - 1s 1ms/step - loss: 0.0158 - mse: 0.0158 - auc: 0.7623 - accuracy: 0.2909 - val_loss: 0.0157 - val_mse: 0.0157 - val_auc: 0.7653 - val_accuracy: 0.2906\n",
      "Epoch 74/200\n",
      "1200/1200 [==============================] - 1s 1ms/step - loss: 0.0158 - mse: 0.0158 - auc: 0.7623 - accuracy: 0.2909 - val_loss: 0.0157 - val_mse: 0.0157 - val_auc: 0.7662 - val_accuracy: 0.2907\n",
      "Epoch 75/200\n",
      "1200/1200 [==============================] - 1s 1ms/step - loss: 0.0158 - mse: 0.0158 - auc: 0.7623 - accuracy: 0.2909 - val_loss: 0.0157 - val_mse: 0.0157 - val_auc: 0.7624 - val_accuracy: 0.2906\n",
      "Epoch 76/200\n",
      "1200/1200 [==============================] - 2s 1ms/step - loss: 0.0158 - mse: 0.0158 - auc: 0.7623 - accuracy: 0.2909 - val_loss: 0.0157 - val_mse: 0.0157 - val_auc: 0.7663 - val_accuracy: 0.2906\n",
      "Epoch 77/200\n",
      "1200/1200 [==============================] - 1s 1ms/step - loss: 0.0158 - mse: 0.0158 - auc: 0.7623 - accuracy: 0.2909 - val_loss: 0.0157 - val_mse: 0.0157 - val_auc: 0.7635 - val_accuracy: 0.2906\n",
      "Epoch 78/200\n",
      "1200/1200 [==============================] - 1s 1ms/step - loss: 0.0158 - mse: 0.0158 - auc: 0.7623 - accuracy: 0.2909 - val_loss: 0.0157 - val_mse: 0.0157 - val_auc: 0.7662 - val_accuracy: 0.2906\n",
      "Epoch 79/200\n",
      "1200/1200 [==============================] - 1s 1ms/step - loss: 0.0158 - mse: 0.0158 - auc: 0.7623 - accuracy: 0.2910 - val_loss: 0.0157 - val_mse: 0.0157 - val_auc: 0.7657 - val_accuracy: 0.2906\n",
      "Epoch 80/200\n",
      "1200/1200 [==============================] - 1s 1ms/step - loss: 0.0158 - mse: 0.0158 - auc: 0.7624 - accuracy: 0.2909 - val_loss: 0.0157 - val_mse: 0.0157 - val_auc: 0.7647 - val_accuracy: 0.2907\n",
      "Epoch 81/200\n",
      "1200/1200 [==============================] - 1s 1ms/step - loss: 0.0158 - mse: 0.0158 - auc: 0.7624 - accuracy: 0.2909 - val_loss: 0.0157 - val_mse: 0.0157 - val_auc: 0.7639 - val_accuracy: 0.2906\n",
      "Epoch 82/200\n",
      "1200/1200 [==============================] - 2s 1ms/step - loss: 0.0158 - mse: 0.0158 - auc: 0.7624 - accuracy: 0.2909 - val_loss: 0.0157 - val_mse: 0.0157 - val_auc: 0.7656 - val_accuracy: 0.2906\n",
      "Epoch 83/200\n",
      "1200/1200 [==============================] - 2s 1ms/step - loss: 0.0158 - mse: 0.0158 - auc: 0.7624 - accuracy: 0.2909 - val_loss: 0.0157 - val_mse: 0.0157 - val_auc: 0.7658 - val_accuracy: 0.2906\n",
      "Epoch 84/200\n",
      "1200/1200 [==============================] - 2s 1ms/step - loss: 0.0158 - mse: 0.0158 - auc: 0.7624 - accuracy: 0.2909 - val_loss: 0.0157 - val_mse: 0.0157 - val_auc: 0.7634 - val_accuracy: 0.2907\n",
      "Epoch 85/200\n",
      "1200/1200 [==============================] - 2s 1ms/step - loss: 0.0158 - mse: 0.0158 - auc: 0.7793 - accuracy: 0.2909 - val_loss: 0.0157 - val_mse: 0.0157 - val_auc: 0.7908 - val_accuracy: 0.2907\n",
      "Epoch 86/200\n",
      "1200/1200 [==============================] - 2s 1ms/step - loss: 0.0158 - mse: 0.0158 - auc: 0.8004 - accuracy: 0.2909 - val_loss: 0.0157 - val_mse: 0.0157 - val_auc: 0.8138 - val_accuracy: 0.2908\n",
      "Epoch 87/200\n",
      "1200/1200 [==============================] - 2s 1ms/step - loss: 0.0158 - mse: 0.0158 - auc: 0.8081 - accuracy: 0.2909 - val_loss: 0.0157 - val_mse: 0.0157 - val_auc: 0.8117 - val_accuracy: 0.2909\n",
      "Epoch 88/200\n",
      "1200/1200 [==============================] - 1s 1ms/step - loss: 0.0158 - mse: 0.0158 - auc: 0.8088 - accuracy: 0.2908 - val_loss: 0.0157 - val_mse: 0.0157 - val_auc: 0.8109 - val_accuracy: 0.2908\n",
      "Epoch 89/200\n",
      "1200/1200 [==============================] - 1s 1ms/step - loss: 0.0158 - mse: 0.0158 - auc: 0.8093 - accuracy: 0.2909 - val_loss: 0.0157 - val_mse: 0.0157 - val_auc: 0.8132 - val_accuracy: 0.2908\n",
      "Epoch 90/200\n",
      "1200/1200 [==============================] - 2s 1ms/step - loss: 0.0158 - mse: 0.0158 - auc: 0.8095 - accuracy: 0.2908 - val_loss: 0.0157 - val_mse: 0.0157 - val_auc: 0.8091 - val_accuracy: 0.2908\n",
      "Epoch 91/200\n",
      "1200/1200 [==============================] - 2s 1ms/step - loss: 0.0158 - mse: 0.0158 - auc: 0.8096 - accuracy: 0.2908 - val_loss: 0.0157 - val_mse: 0.0157 - val_auc: 0.8107 - val_accuracy: 0.2907\n",
      "Epoch 92/200\n",
      "1200/1200 [==============================] - 2s 1ms/step - loss: 0.0158 - mse: 0.0158 - auc: 0.8096 - accuracy: 0.2908 - val_loss: 0.0157 - val_mse: 0.0157 - val_auc: 0.8111 - val_accuracy: 0.2908\n",
      "Epoch 93/200\n",
      "1200/1200 [==============================] - 2s 1ms/step - loss: 0.0158 - mse: 0.0158 - auc: 0.8097 - accuracy: 0.2909 - val_loss: 0.0157 - val_mse: 0.0157 - val_auc: 0.8127 - val_accuracy: 0.2911\n",
      "Epoch 94/200\n",
      "1200/1200 [==============================] - 2s 1ms/step - loss: 0.0158 - mse: 0.0158 - auc: 0.8097 - accuracy: 0.2909 - val_loss: 0.0157 - val_mse: 0.0157 - val_auc: 0.8116 - val_accuracy: 0.2907\n",
      "Epoch 95/200\n",
      "1200/1200 [==============================] - 2s 1ms/step - loss: 0.0158 - mse: 0.0158 - auc: 0.8097 - accuracy: 0.2909 - val_loss: 0.0157 - val_mse: 0.0157 - val_auc: 0.8113 - val_accuracy: 0.2906\n",
      "Epoch 96/200\n",
      "1200/1200 [==============================] - 2s 1ms/step - loss: 0.0158 - mse: 0.0158 - auc: 0.8098 - accuracy: 0.2908 - val_loss: 0.0157 - val_mse: 0.0157 - val_auc: 0.8148 - val_accuracy: 0.2907\n",
      "Epoch 97/200\n",
      "1200/1200 [==============================] - 2s 1ms/step - loss: 0.0158 - mse: 0.0158 - auc: 0.8098 - accuracy: 0.2909 - val_loss: 0.0157 - val_mse: 0.0157 - val_auc: 0.8117 - val_accuracy: 0.2908\n",
      "Epoch 98/200\n",
      "1200/1200 [==============================] - 2s 1ms/step - loss: 0.0158 - mse: 0.0158 - auc: 0.8098 - accuracy: 0.2908 - val_loss: 0.0157 - val_mse: 0.0157 - val_auc: 0.8103 - val_accuracy: 0.2907\n",
      "Epoch 99/200\n",
      "1200/1200 [==============================] - 1s 1ms/step - loss: 0.0158 - mse: 0.0158 - auc: 0.8097 - accuracy: 0.2909 - val_loss: 0.0157 - val_mse: 0.0157 - val_auc: 0.8139 - val_accuracy: 0.2908\n",
      "Epoch 100/200\n",
      "1200/1200 [==============================] - 1s 1ms/step - loss: 0.0158 - mse: 0.0158 - auc: 0.8096 - accuracy: 0.2908 - val_loss: 0.0157 - val_mse: 0.0157 - val_auc: 0.8122 - val_accuracy: 0.2908\n",
      "Epoch 101/200\n",
      "1200/1200 [==============================] - 1s 1ms/step - loss: 0.0158 - mse: 0.0158 - auc: 0.8097 - accuracy: 0.2909 - val_loss: 0.0157 - val_mse: 0.0157 - val_auc: 0.8125 - val_accuracy: 0.2906\n",
      "Epoch 102/200\n",
      "1200/1200 [==============================] - 1s 1ms/step - loss: 0.0158 - mse: 0.0158 - auc: 0.8097 - accuracy: 0.2908 - val_loss: 0.0157 - val_mse: 0.0157 - val_auc: 0.8126 - val_accuracy: 0.2908\n",
      "Epoch 103/200\n",
      "1200/1200 [==============================] - 1s 1ms/step - loss: 0.0158 - mse: 0.0158 - auc: 0.8097 - accuracy: 0.2909 - val_loss: 0.0157 - val_mse: 0.0157 - val_auc: 0.8116 - val_accuracy: 0.2907\n",
      "Epoch 104/200\n",
      "1200/1200 [==============================] - 1s 1ms/step - loss: 0.0158 - mse: 0.0158 - auc: 0.8097 - accuracy: 0.2909 - val_loss: 0.0157 - val_mse: 0.0157 - val_auc: 0.8140 - val_accuracy: 0.2906\n",
      "Epoch 105/200\n",
      "1200/1200 [==============================] - 1s 1ms/step - loss: 0.0158 - mse: 0.0158 - auc: 0.8097 - accuracy: 0.2908 - val_loss: 0.0157 - val_mse: 0.0157 - val_auc: 0.8108 - val_accuracy: 0.2910\n",
      "Epoch 106/200\n",
      "1200/1200 [==============================] - 1s 1ms/step - loss: 0.0158 - mse: 0.0158 - auc: 0.8097 - accuracy: 0.2909 - val_loss: 0.0157 - val_mse: 0.0157 - val_auc: 0.8117 - val_accuracy: 0.2908\n",
      "Epoch 107/200\n",
      "1200/1200 [==============================] - 1s 1ms/step - loss: 0.0158 - mse: 0.0158 - auc: 0.8097 - accuracy: 0.2909 - val_loss: 0.0157 - val_mse: 0.0157 - val_auc: 0.8098 - val_accuracy: 0.2911\n",
      "Epoch 108/200\n",
      "1200/1200 [==============================] - 1s 1ms/step - loss: 0.0158 - mse: 0.0158 - auc: 0.8097 - accuracy: 0.2908 - val_loss: 0.0157 - val_mse: 0.0157 - val_auc: 0.8112 - val_accuracy: 0.2908\n",
      "Epoch 109/200\n",
      "1200/1200 [==============================] - 1s 1ms/step - loss: 0.0158 - mse: 0.0158 - auc: 0.8098 - accuracy: 0.2908 - val_loss: 0.0157 - val_mse: 0.0157 - val_auc: 0.8135 - val_accuracy: 0.2908\n",
      "Epoch 110/200\n",
      "1200/1200 [==============================] - 1s 1ms/step - loss: 0.0158 - mse: 0.0158 - auc: 0.8098 - accuracy: 0.2909 - val_loss: 0.0157 - val_mse: 0.0157 - val_auc: 0.8123 - val_accuracy: 0.2906\n",
      "Epoch 111/200\n",
      "1200/1200 [==============================] - 1s 1ms/step - loss: 0.0158 - mse: 0.0158 - auc: 0.8097 - accuracy: 0.2908 - val_loss: 0.0157 - val_mse: 0.0157 - val_auc: 0.8117 - val_accuracy: 0.2908\n",
      "Epoch 112/200\n",
      "1200/1200 [==============================] - 1s 1ms/step - loss: 0.0158 - mse: 0.0158 - auc: 0.8097 - accuracy: 0.2908 - val_loss: 0.0157 - val_mse: 0.0157 - val_auc: 0.8088 - val_accuracy: 0.2908\n",
      "Epoch 113/200\n",
      "1200/1200 [==============================] - 1s 1ms/step - loss: 0.0158 - mse: 0.0158 - auc: 0.8098 - accuracy: 0.2908 - val_loss: 0.0157 - val_mse: 0.0157 - val_auc: 0.8104 - val_accuracy: 0.2908\n",
      "Epoch 114/200\n",
      "1200/1200 [==============================] - 1s 1ms/step - loss: 0.0158 - mse: 0.0158 - auc: 0.8097 - accuracy: 0.2908 - val_loss: 0.0157 - val_mse: 0.0157 - val_auc: 0.8120 - val_accuracy: 0.2908\n",
      "Epoch 115/200\n",
      "1200/1200 [==============================] - 1s 1ms/step - loss: 0.0158 - mse: 0.0158 - auc: 0.8097 - accuracy: 0.2908 - val_loss: 0.0157 - val_mse: 0.0157 - val_auc: 0.8107 - val_accuracy: 0.2908\n",
      "Epoch 116/200\n",
      "1200/1200 [==============================] - 1s 1ms/step - loss: 0.0158 - mse: 0.0158 - auc: 0.8098 - accuracy: 0.2908 - val_loss: 0.0157 - val_mse: 0.0157 - val_auc: 0.8133 - val_accuracy: 0.2908\n",
      "Epoch 117/200\n",
      "1200/1200 [==============================] - 1s 1ms/step - loss: 0.0158 - mse: 0.0158 - auc: 0.8098 - accuracy: 0.2908 - val_loss: 0.0157 - val_mse: 0.0157 - val_auc: 0.8118 - val_accuracy: 0.2908\n",
      "Epoch 118/200\n",
      "1200/1200 [==============================] - 1s 1ms/step - loss: 0.0158 - mse: 0.0158 - auc: 0.8098 - accuracy: 0.2908 - val_loss: 0.0157 - val_mse: 0.0157 - val_auc: 0.8131 - val_accuracy: 0.2908\n",
      "Epoch 119/200\n",
      "1200/1200 [==============================] - 2s 1ms/step - loss: 0.0158 - mse: 0.0158 - auc: 0.8098 - accuracy: 0.2909 - val_loss: 0.0157 - val_mse: 0.0157 - val_auc: 0.8117 - val_accuracy: 0.2908\n",
      "Epoch 120/200\n",
      "1200/1200 [==============================] - 1s 1ms/step - loss: 0.0158 - mse: 0.0158 - auc: 0.8098 - accuracy: 0.2909 - val_loss: 0.0157 - val_mse: 0.0157 - val_auc: 0.8108 - val_accuracy: 0.2907\n",
      "Epoch 121/200\n",
      "1200/1200 [==============================] - 1s 1ms/step - loss: 0.0158 - mse: 0.0158 - auc: 0.8098 - accuracy: 0.2909 - val_loss: 0.0157 - val_mse: 0.0157 - val_auc: 0.8133 - val_accuracy: 0.2908\n",
      "Epoch 122/200\n",
      "1200/1200 [==============================] - 2s 1ms/step - loss: 0.0158 - mse: 0.0158 - auc: 0.8099 - accuracy: 0.2909 - val_loss: 0.0157 - val_mse: 0.0157 - val_auc: 0.8118 - val_accuracy: 0.2909\n",
      "Epoch 123/200\n",
      "1200/1200 [==============================] - 1s 1ms/step - loss: 0.0158 - mse: 0.0158 - auc: 0.8098 - accuracy: 0.2908 - val_loss: 0.0157 - val_mse: 0.0157 - val_auc: 0.8114 - val_accuracy: 0.2909\n",
      "Epoch 124/200\n",
      "1200/1200 [==============================] - 1s 1ms/step - loss: 0.0158 - mse: 0.0158 - auc: 0.8099 - accuracy: 0.2908 - val_loss: 0.0157 - val_mse: 0.0157 - val_auc: 0.8120 - val_accuracy: 0.2907\n",
      "Epoch 125/200\n",
      "1200/1200 [==============================] - 2s 1ms/step - loss: 0.0158 - mse: 0.0158 - auc: 0.8099 - accuracy: 0.2909 - val_loss: 0.0157 - val_mse: 0.0157 - val_auc: 0.8117 - val_accuracy: 0.2908\n",
      "Epoch 126/200\n",
      "1200/1200 [==============================] - 1s 1ms/step - loss: 0.0158 - mse: 0.0158 - auc: 0.8099 - accuracy: 0.2909 - val_loss: 0.0157 - val_mse: 0.0157 - val_auc: 0.8141 - val_accuracy: 0.2907\n",
      "Epoch 127/200\n",
      "1200/1200 [==============================] - 1s 1ms/step - loss: 0.0158 - mse: 0.0158 - auc: 0.8100 - accuracy: 0.2909 - val_loss: 0.0157 - val_mse: 0.0157 - val_auc: 0.8130 - val_accuracy: 0.2908\n",
      "Epoch 128/200\n",
      "1200/1200 [==============================] - 2s 1ms/step - loss: 0.0158 - mse: 0.0158 - auc: 0.8098 - accuracy: 0.2909 - val_loss: 0.0157 - val_mse: 0.0157 - val_auc: 0.8118 - val_accuracy: 0.2908\n",
      "Epoch 129/200\n",
      "1200/1200 [==============================] - 1s 1ms/step - loss: 0.0158 - mse: 0.0158 - auc: 0.8099 - accuracy: 0.2909 - val_loss: 0.0157 - val_mse: 0.0157 - val_auc: 0.8113 - val_accuracy: 0.2908\n",
      "Epoch 130/200\n",
      "1200/1200 [==============================] - 2s 1ms/step - loss: 0.0158 - mse: 0.0158 - auc: 0.8098 - accuracy: 0.2909 - val_loss: 0.0157 - val_mse: 0.0157 - val_auc: 0.8126 - val_accuracy: 0.2907\n",
      "Epoch 131/200\n",
      "1200/1200 [==============================] - 1s 1ms/step - loss: 0.0158 - mse: 0.0158 - auc: 0.8099 - accuracy: 0.2909 - val_loss: 0.0157 - val_mse: 0.0157 - val_auc: 0.8073 - val_accuracy: 0.2907\n",
      "Epoch 132/200\n",
      "1200/1200 [==============================] - 1s 1ms/step - loss: 0.0158 - mse: 0.0158 - auc: 0.8098 - accuracy: 0.2909 - val_loss: 0.0157 - val_mse: 0.0157 - val_auc: 0.8135 - val_accuracy: 0.2908\n",
      "Epoch 133/200\n",
      "1200/1200 [==============================] - 1s 1ms/step - loss: 0.0158 - mse: 0.0158 - auc: 0.8099 - accuracy: 0.2909 - val_loss: 0.0157 - val_mse: 0.0157 - val_auc: 0.8119 - val_accuracy: 0.2908\n",
      "Epoch 134/200\n",
      "1200/1200 [==============================] - 2s 1ms/step - loss: 0.0158 - mse: 0.0158 - auc: 0.8099 - accuracy: 0.2909 - val_loss: 0.0157 - val_mse: 0.0157 - val_auc: 0.8126 - val_accuracy: 0.2910\n",
      "Epoch 135/200\n",
      "1170/1200 [============================>.] - ETA: 0s - loss: 0.0158 - mse: 0.0158 - auc: 0.8098 - accuracy: 0.2909Restoring model weights from the end of the best epoch: 85.\n",
      "1200/1200 [==============================] - 1s 1ms/step - loss: 0.0158 - mse: 0.0158 - auc: 0.8098 - accuracy: 0.2909 - val_loss: 0.0157 - val_mse: 0.0157 - val_auc: 0.8101 - val_accuracy: 0.2907\n",
      "Epoch 135: early stopping\n"
     ]
    },
    {
     "data": {
      "image/png": "[encoded data removed]",
      "text/plain": [
       "<Figure size 432x288 with 1 Axes>"
      ]
     },
     "metadata": {
      "needs_background": "light"
     },
     "output_type": "display_data"
    },
    {
     "data": {
      "image/png": "[encoded data removed]",
      "text/plain": [
       "<Figure size 432x288 with 1 Axes>"
      ]
     },
     "metadata": {
      "needs_background": "light"
     },
     "output_type": "display_data"
    },
    {
     "name": "stdout",
     "output_type": "stream",
     "text": [
      "2726/2726 [==============================] - 1s 497us/step\n",
      "The classifications using the MAD method on validation set with threshold=1.1800000000000006 are as follows:\n",
      "    [[66777 18495]\n",
      " [ 1088   868]]\n",
      "    # % of transactions labeled as fraud that were correct (precision): 868/(18495+868) = 4.48%\n",
      "    # % of fraudulent transactions were caught succesfully (recall):    868/(1088+868) = 44.38%\n",
      "Balanced accuracy =  0.6134343036242882\n",
      "              precision    recall  f1-score   support\n",
      "\n",
      "           0       0.98      0.78      0.87     85272\n",
      "           1       0.04      0.44      0.08      1956\n",
      "\n",
      "    accuracy                           0.78     87228\n",
      "   macro avg       0.51      0.61      0.48     87228\n",
      "weighted avg       0.96      0.78      0.85     87228\n",
      "\n",
      "ROC_AUC =  0.6523150218590777\n",
      "2672/2672 [==============================] - 1s 512us/step\n",
      "The classifications using the MAD method on validation set with threshold=1.1800000000000006 are as follows:\n",
      "    [[66606 18667]\n",
      " [  120    98]]\n",
      "    # % of transactions labeled as fraud that were correct (precision): 98/(18667+98) = 0.52%\n",
      "    # % of fraudulent transactions were caught succesfully (recall):    98/(120+98) = 44.95%\n",
      "Balanced accuracy =  0.6153163014374663\n",
      "              precision    recall  f1-score   support\n",
      "\n",
      "           0       1.00      0.78      0.88     85273\n",
      "           1       0.01      0.45      0.01       218\n",
      "\n",
      "    accuracy                           0.78     85491\n",
      "   macro avg       0.50      0.62      0.44     85491\n",
      "weighted avg       1.00      0.78      0.87     85491\n",
      "\n",
      "ROC_AUC =  0.6559653469154708\n",
      "Model: \"sequential\"\n",
      "_________________________________________________________________\n",
      " Layer (type)                Output Shape              Param #   \n",
      "=================================================================\n",
      " dense (Dense)               (None, 25)                650       \n",
      "                                                                 \n",
      " dense_1 (Dense)             (None, 8)                 208       \n",
      "                                                                 \n",
      " dropout (Dropout)           (None, 8)                 0         \n",
      "                                                                 \n",
      " dense_2 (Dense)             (None, 4)                 36        \n",
      "                                                                 \n",
      "=================================================================\n",
      "Total params: 894\n",
      "Trainable params: 894\n",
      "Non-trainable params: 0\n",
      "_________________________________________________________________\n",
      "None\n",
      "2726/2726 [==============================] - 1s 476us/step\n",
      "2672/2672 [==============================] - 1s 484us/step\n",
      "2726/2726 [==============================] - 1s 521us/step\n",
      "2672/2672 [==============================] - 1s 531us/step\n",
      "2726/2726 [==============================] - 1s 507us/step\n",
      "2672/2672 [==============================] - 1s 499us/step\n"
     ]
    }
   ],
   "source": [
    "#train model \n",
    "X_train_train_transformed, X_train_validate_transformed = train_test_split(X_train_transformed, \n",
    "                                                                        train_size = 0.9, random_state=1)\n",
    "history = autoencoder.fit(\n",
    "    X_train_train_transformed, X_train_train_transformed,\n",
    "    shuffle=True,\n",
    "    epochs=epochs,\n",
    "    batch_size=batch_size,\n",
    "    callbacks=cb,\n",
    "    validation_data=(X_train_validate_transformed, X_train_validate_transformed))\n",
    "functions14.plot_metrics(history)\n",
    "\n",
    "#Interpret training results ationsutoencoder \n",
    "functions14.get_results_autoencoder(X_validate_transformed, X_test_transformed, y_validate['Is_lost_item'], y_test['Is_lost_item'], autoencoder)\n",
    "\n",
    "#Get latent representations \n",
    "AE_encoder = tf.keras.models.Sequential(autoencoder.layers[:latent_representation_number])\n",
    "print(AE_encoder.summary())\n",
    "AE_latent_representations_validate = pd.DataFrame(AE_encoder.predict(X_validate_transformed))\n",
    "AE_latent_representations_test = pd.DataFrame(AE_encoder.predict(X_test_transformed))\n",
    "\n",
    "#Get reconstruction errors\n",
    "df_AE_reconstructions_validate = pd.DataFrame(autoencoder.predict(X_validate_transformed))\n",
    "df_AE_reconstructions_test = pd.DataFrame(autoencoder.predict(X_test_transformed))\n",
    "\n",
    "AE_reconstructions_validate = autoencoder.predict(X_validate_transformed)\n",
    "AE_reconstructions_test = autoencoder.predict(X_test_transformed)\n",
    "AE_reconstruction_error_validate_mae = X_validate_transformed - AE_reconstructions_validate\n",
    "AE_reconstruction_error_validate_mse = np.power(X_validate_transformed - AE_reconstructions_validate,2)\n",
    "AE_reconstruction_error_test_mae = X_test_transformed - AE_reconstructions_test\n",
    "AE_reconstruction_error_test_mse = np.power(X_test_transformed - AE_reconstructions_test,2)"
   ]
  },
  {
   "cell_type": "markdown",
   "id": "8bdee0cf",
   "metadata": {
    "heading_collapsed": true,
    "hidden": true
   },
   "source": [
    "### 1.2 Create and train optimal VAE"
   ]
  },
  {
   "cell_type": "code",
   "execution_count": 24,
   "id": "bafbe451",
   "metadata": {
    "hidden": true,
    "scrolled": true
   },
   "outputs": [
    {
     "name": "stdout",
     "output_type": "stream",
     "text": [
      "Model: \"encoder\"\n",
      "__________________________________________________________________________________________________\n",
      " Layer (type)                   Output Shape         Param #     Connected to                     \n",
      "==================================================================================================\n",
      " input_6 (InputLayer)           [(None, 25)]         0           []                               \n",
      "                                                                                                  \n",
      " dense_20 (Dense)               (None, 25)           650         ['input_6[0][0]']                \n",
      "                                                                                                  \n",
      " dense_21 (Dense)               (None, 8)            208         ['dense_20[0][0]']               \n",
      "                                                                                                  \n",
      " dropout_4 (Dropout)            (None, 8)            0           ['dense_21[0][0]']               \n",
      "                                                                                                  \n",
      " dense_22 (Dense)               (None, 4)            36          ['dropout_4[0][0]']              \n",
      "                                                                                                  \n",
      " z_mean (Dense)                 (None, 4)            20          ['dense_22[0][0]']               \n",
      "                                                                                                  \n",
      " z_log_var (Dense)              (None, 4)            20          ['dense_22[0][0]']               \n",
      "                                                                                                  \n",
      " sampling_1 (Sampling)          (None, 4)            0           ['z_mean[0][0]',                 \n",
      "                                                                  'z_log_var[0][0]']              \n",
      "                                                                                                  \n",
      "==================================================================================================\n",
      "Total params: 934\n",
      "Trainable params: 934\n",
      "Non-trainable params: 0\n",
      "__________________________________________________________________________________________________\n",
      "None\n",
      "Model: \"decoder\"\n",
      "_________________________________________________________________\n",
      " Layer (type)                Output Shape              Param #   \n",
      "=================================================================\n",
      " input_7 (InputLayer)        [(None, 4)]               0         \n",
      "                                                                 \n",
      " dense_23 (Dense)            (None, 8)                 40        \n",
      "                                                                 \n",
      " dense_24 (Dense)            (None, 25)                225       \n",
      "                                                                 \n",
      "=================================================================\n",
      "Total params: 265\n",
      "Trainable params: 265\n",
      "Non-trainable params: 0\n",
      "_________________________________________________________________\n",
      "None\n",
      "You must install pydot (`pip install pydot`) and install graphviz (see instructions at https://graphviz.gitlab.io/download/) for plot_model/model_to_dot to work.\n",
      "Model: \"VAE\"\n",
      "_________________________________________________________________\n",
      " Layer (type)                Output Shape              Param #   \n",
      "=================================================================\n",
      " VAE_input (InputLayer)      [(None, 25)]              0         \n",
      "                                                                 \n",
      " encoder (Functional)        (None, 4)                 934       \n",
      "                                                                 \n",
      " decoder (Functional)        (None, 25)                265       \n",
      "                                                                 \n",
      "=================================================================\n",
      "Total params: 1,199\n",
      "Trainable params: 1,199\n",
      "Non-trainable params: 0\n",
      "_________________________________________________________________\n",
      "None\n"
     ]
    }
   ],
   "source": [
    "#Set parameters autoencoder \n",
    "optimizer = 'Adam'\n",
    "loss = 'mse'\n",
    "activation_1 = 'sigmoid'\n",
    "activation_2 = 'elu'\n",
    "batch_size = 1500\n",
    "hidden_layers = 3\n",
    "nodes_start = 8\n",
    "dropout_rate = 0.5\n",
    "places_dropout = 1\n",
    "amount_of_features = 25\n",
    "input_dim = amount_of_features\n",
    "latent_dim = 4\n",
    "epochs = 100\n",
    "latent_representation_number = 2\n",
    "\n",
    "#Get the corresponding data\n",
    "X_train_transformed, X_validate_transformed, y_validate, X_test_transformed, y_test =change_input_data(X_train_transformed, X_validate_transformed, X_test_transformed, y_test, y_validate, input_dim)\n",
    "\n",
    "#create model\n",
    "vae = functions14.create_vae(optimizer, loss, activation_1, activation_2, batch_size, hidden_layers, \n",
    "                             nodes_start, dropout_rate, places_dropout, input_dim, latent_dim)"
   ]
  },
  {
   "cell_type": "code",
   "execution_count": 25,
   "id": "6bd3e95c",
   "metadata": {
    "hidden": true,
    "scrolled": true
   },
   "outputs": [
    {
     "name": "stdout",
     "output_type": "stream",
     "text": [
      "Epoch 1/100\n",
      "(None, 25)\n",
      "(None, 25)\n",
      "(None, 25)\n",
      "(None, 25)\n",
      "451/455 [============================>.] - ETA: 0s - loss: 39.9054 - mse: 0.0388 - auc: 0.7350(None, 25)\n",
      "(None, 25)\n",
      "455/455 [==============================] - 2s 3ms/step - loss: 39.6042 - mse: 0.0385 - auc: 0.7358 - val_loss: 2.7992 - val_mse: 0.0020 - val_auc: 0.8455\n",
      "Epoch 2/100\n",
      "455/455 [==============================] - 1s 3ms/step - loss: 3.3836 - mse: 0.0026 - auc: 0.8442 - val_loss: 2.7068 - val_mse: 0.0019 - val_auc: 0.8520\n",
      "Epoch 3/100\n",
      "455/455 [==============================] - 1s 3ms/step - loss: 2.9773 - mse: 0.0022 - auc: 0.8528 - val_loss: 2.6867 - val_mse: 0.0019 - val_auc: 0.8573\n",
      "Epoch 4/100\n",
      "455/455 [==============================] - 1s 3ms/step - loss: 2.8248 - mse: 0.0020 - auc: 0.8554 - val_loss: 2.6788 - val_mse: 0.0019 - val_auc: 0.8574\n",
      "Epoch 5/100\n",
      "455/455 [==============================] - 1s 3ms/step - loss: 2.7471 - mse: 0.0019 - auc: 0.8565 - val_loss: 2.6772 - val_mse: 0.0019 - val_auc: 0.8576\n",
      "Epoch 6/100\n",
      "455/455 [==============================] - 1s 3ms/step - loss: 2.7084 - mse: 0.0019 - auc: 0.8572 - val_loss: 2.6754 - val_mse: 0.0019 - val_auc: 0.8574\n",
      "Epoch 7/100\n",
      "455/455 [==============================] - 1s 3ms/step - loss: 2.6863 - mse: 0.0019 - auc: 0.8576 - val_loss: 2.6738 - val_mse: 0.0019 - val_auc: 0.8573\n",
      "Epoch 8/100\n",
      "455/455 [==============================] - 1s 3ms/step - loss: 2.6736 - mse: 0.0019 - auc: 0.8579 - val_loss: 2.6725 - val_mse: 0.0018 - val_auc: 0.8573\n",
      "Epoch 9/100\n",
      "455/455 [==============================] - 1s 3ms/step - loss: 2.6650 - mse: 0.0018 - auc: 0.8581 - val_loss: 2.6706 - val_mse: 0.0018 - val_auc: 0.8574\n",
      "Epoch 10/100\n",
      "455/455 [==============================] - 1s 3ms/step - loss: 2.6588 - mse: 0.0018 - auc: 0.8583 - val_loss: 2.6666 - val_mse: 0.0018 - val_auc: 0.8573\n",
      "Epoch 11/100\n",
      "455/455 [==============================] - 1s 3ms/step - loss: 2.6521 - mse: 0.0018 - auc: 0.8584 - val_loss: 2.6614 - val_mse: 0.0018 - val_auc: 0.8573\n",
      "Epoch 12/100\n",
      "455/455 [==============================] - 1s 3ms/step - loss: 2.6419 - mse: 0.0018 - auc: 0.8585 - val_loss: 2.6379 - val_mse: 0.0018 - val_auc: 0.8574\n",
      "Epoch 13/100\n",
      "455/455 [==============================] - 1s 3ms/step - loss: 2.5719 - mse: 0.0017 - auc: 0.8586 - val_loss: 2.3435 - val_mse: 0.0015 - val_auc: 0.8578\n",
      "Epoch 14/100\n",
      "455/455 [==============================] - 1s 3ms/step - loss: 2.2055 - mse: 0.0014 - auc: 0.8600 - val_loss: 1.9724 - val_mse: 0.0011 - val_auc: 0.8615\n",
      "Epoch 15/100\n",
      "455/455 [==============================] - 1s 3ms/step - loss: 2.0750 - mse: 0.0012 - auc: 0.8831 - val_loss: 1.8874 - val_mse: 0.0011 - val_auc: 0.9155\n",
      "Epoch 16/100\n",
      "455/455 [==============================] - 1s 3ms/step - loss: 1.9591 - mse: 0.0011 - auc: 0.9163 - val_loss: 1.8038 - val_mse: 9.7597e-04 - val_auc: 0.9313\n",
      "Epoch 17/100\n",
      "455/455 [==============================] - 1s 3ms/step - loss: 1.8361 - mse: 0.0010 - auc: 0.9358 - val_loss: 1.6361 - val_mse: 8.0725e-04 - val_auc: 0.9375\n",
      "Epoch 18/100\n",
      "455/455 [==============================] - 1s 3ms/step - loss: 1.7055 - mse: 8.7566e-04 - auc: 0.9326 - val_loss: 1.5243 - val_mse: 6.9538e-04 - val_auc: 0.9337\n",
      "Epoch 19/100\n",
      "455/455 [==============================] - 1s 3ms/step - loss: 1.6693 - mse: 8.3920e-04 - auc: 0.9321 - val_loss: 1.4920 - val_mse: 6.6321e-04 - val_auc: 0.9327\n",
      "Epoch 20/100\n",
      "455/455 [==============================] - 1s 3ms/step - loss: 1.6531 - mse: 8.2296e-04 - auc: 0.9338 - val_loss: 1.4790 - val_mse: 6.5225e-04 - val_auc: 0.9360\n",
      "Epoch 21/100\n",
      "455/455 [==============================] - 1s 3ms/step - loss: 1.6435 - mse: 8.1326e-04 - auc: 0.9348 - val_loss: 1.4619 - val_mse: 6.3415e-04 - val_auc: 0.9358\n",
      "Epoch 22/100\n",
      "455/455 [==============================] - 1s 3ms/step - loss: 1.6371 - mse: 8.0681e-04 - auc: 0.9343 - val_loss: 1.4552 - val_mse: 6.2593e-04 - val_auc: 0.9350\n",
      "Epoch 23/100\n",
      "455/455 [==============================] - 1s 3ms/step - loss: 1.6309 - mse: 8.0061e-04 - auc: 0.9335 - val_loss: 1.4491 - val_mse: 6.1880e-04 - val_auc: 0.9340\n",
      "Epoch 24/100\n",
      "455/455 [==============================] - 1s 3ms/step - loss: 1.6278 - mse: 7.9742e-04 - auc: 0.9326 - val_loss: 1.4494 - val_mse: 6.2021e-04 - val_auc: 0.9327\n",
      "Epoch 25/100\n",
      "455/455 [==============================] - 1s 3ms/step - loss: 1.6220 - mse: 7.9164e-04 - auc: 0.9317 - val_loss: 1.4446 - val_mse: 6.1500e-04 - val_auc: 0.9312\n",
      "Epoch 26/100\n",
      "455/455 [==============================] - 1s 3ms/step - loss: 1.6181 - mse: 7.8763e-04 - auc: 0.9310 - val_loss: 1.4371 - val_mse: 6.0783e-04 - val_auc: 0.9296\n",
      "Epoch 27/100\n",
      "455/455 [==============================] - 1s 3ms/step - loss: 1.6153 - mse: 7.8481e-04 - auc: 0.9306 - val_loss: 1.4369 - val_mse: 6.0942e-04 - val_auc: 0.9317\n",
      "Epoch 28/100\n",
      "455/455 [==============================] - 1s 3ms/step - loss: 1.6096 - mse: 7.7911e-04 - auc: 0.9303 - val_loss: 1.4309 - val_mse: 6.0194e-04 - val_auc: 0.9299\n",
      "Epoch 29/100\n",
      "455/455 [==============================] - 1s 3ms/step - loss: 1.6058 - mse: 7.7528e-04 - auc: 0.9301 - val_loss: 1.4265 - val_mse: 5.9722e-04 - val_auc: 0.9308\n",
      "Epoch 30/100\n",
      "455/455 [==============================] - 1s 3ms/step - loss: 1.6022 - mse: 7.7163e-04 - auc: 0.9304 - val_loss: 1.4208 - val_mse: 5.9016e-04 - val_auc: 0.9313\n",
      "Epoch 31/100\n",
      "455/455 [==============================] - 1s 3ms/step - loss: 1.5975 - mse: 7.6690e-04 - auc: 0.9309 - val_loss: 1.4155 - val_mse: 5.8590e-04 - val_auc: 0.9318\n",
      "Epoch 32/100\n",
      "455/455 [==============================] - 1s 3ms/step - loss: 1.5905 - mse: 7.5984e-04 - auc: 0.9313 - val_loss: 1.4079 - val_mse: 5.7608e-04 - val_auc: 0.9321\n",
      "Epoch 33/100\n",
      "455/455 [==============================] - 1s 3ms/step - loss: 1.5842 - mse: 7.5350e-04 - auc: 0.9319 - val_loss: 1.3980 - val_mse: 5.6930e-04 - val_auc: 0.9336\n",
      "Epoch 34/100\n",
      "455/455 [==============================] - 1s 3ms/step - loss: 1.5752 - mse: 7.4448e-04 - auc: 0.9326 - val_loss: 1.3766 - val_mse: 5.4567e-04 - val_auc: 0.9333\n",
      "Epoch 35/100\n",
      "455/455 [==============================] - 1s 3ms/step - loss: 1.5618 - mse: 7.3096e-04 - auc: 0.9334 - val_loss: 1.3488 - val_mse: 5.2038e-04 - val_auc: 0.9362\n",
      "Epoch 36/100\n",
      "455/455 [==============================] - 1s 3ms/step - loss: 1.5521 - mse: 7.2117e-04 - auc: 0.9344 - val_loss: 1.3318 - val_mse: 5.0137e-04 - val_auc: 0.9367\n",
      "Epoch 37/100\n",
      "455/455 [==============================] - 1s 3ms/step - loss: 1.5447 - mse: 7.1380e-04 - auc: 0.9351 - val_loss: 1.3185 - val_mse: 4.8808e-04 - val_auc: 0.9365\n",
      "Epoch 38/100\n",
      "455/455 [==============================] - 1s 3ms/step - loss: 1.5370 - mse: 7.0601e-04 - auc: 0.9354 - val_loss: 1.3141 - val_mse: 4.8444e-04 - val_auc: 0.9369\n",
      "Epoch 39/100\n",
      "455/455 [==============================] - 1s 3ms/step - loss: 1.5307 - mse: 6.9968e-04 - auc: 0.9354 - val_loss: 1.3073 - val_mse: 4.7665e-04 - val_auc: 0.9370\n",
      "Epoch 40/100\n",
      "455/455 [==============================] - 1s 3ms/step - loss: 1.5266 - mse: 6.9557e-04 - auc: 0.9356 - val_loss: 1.3040 - val_mse: 4.7319e-04 - val_auc: 0.9375\n",
      "Epoch 41/100\n",
      "455/455 [==============================] - 1s 3ms/step - loss: 1.5212 - mse: 6.9014e-04 - auc: 0.9359 - val_loss: 1.3086 - val_mse: 4.8059e-04 - val_auc: 0.9379\n",
      "Epoch 42/100\n",
      "455/455 [==============================] - 1s 3ms/step - loss: 1.5183 - mse: 6.8715e-04 - auc: 0.9363 - val_loss: 1.2985 - val_mse: 4.6845e-04 - val_auc: 0.9380\n",
      "Epoch 43/100\n",
      "455/455 [==============================] - 1s 3ms/step - loss: 1.5165 - mse: 6.8537e-04 - auc: 0.9367 - val_loss: 1.3034 - val_mse: 4.7550e-04 - val_auc: 0.9388\n",
      "Epoch 44/100\n",
      "455/455 [==============================] - 1s 3ms/step - loss: 1.5136 - mse: 6.8245e-04 - auc: 0.9370 - val_loss: 1.3067 - val_mse: 4.8031e-04 - val_auc: 0.9392\n",
      "Epoch 45/100\n",
      "455/455 [==============================] - 1s 3ms/step - loss: 1.5113 - mse: 6.8013e-04 - auc: 0.9373 - val_loss: 1.2945 - val_mse: 4.6520e-04 - val_auc: 0.9398\n",
      "Epoch 46/100\n",
      "455/455 [==============================] - 1s 3ms/step - loss: 1.5099 - mse: 6.7869e-04 - auc: 0.9376 - val_loss: 1.2988 - val_mse: 4.7190e-04 - val_auc: 0.9394\n",
      "Epoch 47/100\n",
      "455/455 [==============================] - 1s 3ms/step - loss: 1.5085 - mse: 6.7733e-04 - auc: 0.9378 - val_loss: 1.2894 - val_mse: 4.5983e-04 - val_auc: 0.9392\n",
      "Epoch 48/100\n",
      "455/455 [==============================] - 1s 3ms/step - loss: 1.5072 - mse: 6.7595e-04 - auc: 0.9382 - val_loss: 1.2929 - val_mse: 4.6523e-04 - val_auc: 0.9405\n",
      "Epoch 49/100\n",
      "455/455 [==============================] - 1s 3ms/step - loss: 1.5061 - mse: 6.7485e-04 - auc: 0.9384 - val_loss: 1.2929 - val_mse: 4.6553e-04 - val_auc: 0.9403\n",
      "Epoch 50/100\n",
      "455/455 [==============================] - 1s 3ms/step - loss: 1.5039 - mse: 6.7270e-04 - auc: 0.9385 - val_loss: 1.2952 - val_mse: 4.6797e-04 - val_auc: 0.9400\n",
      "Epoch 51/100\n",
      "455/455 [==============================] - 1s 3ms/step - loss: 1.5028 - mse: 6.7155e-04 - auc: 0.9387 - val_loss: 1.2866 - val_mse: 4.5806e-04 - val_auc: 0.9408\n",
      "Epoch 52/100\n",
      "455/455 [==============================] - 1s 3ms/step - loss: 1.5028 - mse: 6.7152e-04 - auc: 0.9386 - val_loss: 1.2880 - val_mse: 4.5903e-04 - val_auc: 0.9407\n",
      "Epoch 53/100\n",
      "455/455 [==============================] - 1s 3ms/step - loss: 1.5019 - mse: 6.7063e-04 - auc: 0.9387 - val_loss: 1.2806 - val_mse: 4.4875e-04 - val_auc: 0.9412\n",
      "Epoch 54/100\n",
      "455/455 [==============================] - 1s 3ms/step - loss: 1.5000 - mse: 6.6873e-04 - auc: 0.9387 - val_loss: 1.2932 - val_mse: 4.6661e-04 - val_auc: 0.9411\n",
      "Epoch 55/100\n",
      "455/455 [==============================] - 1s 3ms/step - loss: 1.4991 - mse: 6.6778e-04 - auc: 0.9386 - val_loss: 1.2905 - val_mse: 4.6327e-04 - val_auc: 0.9411\n",
      "Epoch 56/100\n",
      "455/455 [==============================] - 1s 3ms/step - loss: 1.4985 - mse: 6.6723e-04 - auc: 0.9387 - val_loss: 1.2921 - val_mse: 4.6508e-04 - val_auc: 0.9411\n",
      "Epoch 57/100\n",
      "455/455 [==============================] - 1s 3ms/step - loss: 1.4980 - mse: 6.6669e-04 - auc: 0.9386 - val_loss: 1.2789 - val_mse: 4.4622e-04 - val_auc: 0.9409\n",
      "Epoch 58/100\n",
      "455/455 [==============================] - 1s 3ms/step - loss: 1.4961 - mse: 6.6477e-04 - auc: 0.9385 - val_loss: 1.2817 - val_mse: 4.5202e-04 - val_auc: 0.9410\n",
      "Epoch 59/100\n",
      "455/455 [==============================] - 1s 3ms/step - loss: 1.4942 - mse: 6.6291e-04 - auc: 0.9385 - val_loss: 1.2872 - val_mse: 4.5919e-04 - val_auc: 0.9409\n",
      "Epoch 60/100\n",
      "455/455 [==============================] - 1s 3ms/step - loss: 1.4917 - mse: 6.6046e-04 - auc: 0.9385 - val_loss: 1.2832 - val_mse: 4.5409e-04 - val_auc: 0.9408\n",
      "Epoch 61/100\n",
      "455/455 [==============================] - 1s 3ms/step - loss: 1.4869 - mse: 6.5560e-04 - auc: 0.9384 - val_loss: 1.2817 - val_mse: 4.5227e-04 - val_auc: 0.9407\n",
      "Epoch 62/100\n",
      "455/455 [==============================] - 1s 3ms/step - loss: 1.4848 - mse: 6.5350e-04 - auc: 0.9385 - val_loss: 1.2838 - val_mse: 4.5391e-04 - val_auc: 0.9406\n",
      "Epoch 63/100\n",
      "455/455 [==============================] - 1s 3ms/step - loss: 1.4839 - mse: 6.5261e-04 - auc: 0.9385 - val_loss: 1.2806 - val_mse: 4.4987e-04 - val_auc: 0.9409\n",
      "Epoch 64/100\n",
      "455/455 [==============================] - 1s 3ms/step - loss: 1.4816 - mse: 6.5021e-04 - auc: 0.9385 - val_loss: 1.2798 - val_mse: 4.4912e-04 - val_auc: 0.9415\n",
      "Epoch 65/100\n",
      "455/455 [==============================] - 1s 3ms/step - loss: 1.4795 - mse: 6.4815e-04 - auc: 0.9385 - val_loss: 1.2805 - val_mse: 4.4955e-04 - val_auc: 0.9411\n",
      "Epoch 66/100\n",
      "455/455 [==============================] - 1s 3ms/step - loss: 1.4779 - mse: 6.4649e-04 - auc: 0.9384 - val_loss: 1.2784 - val_mse: 4.4507e-04 - val_auc: 0.9407\n",
      "Epoch 67/100\n",
      "455/455 [==============================] - 1s 3ms/step - loss: 1.4757 - mse: 6.4429e-04 - auc: 0.9384 - val_loss: 1.2788 - val_mse: 4.4771e-04 - val_auc: 0.9414\n",
      "Epoch 68/100\n",
      "455/455 [==============================] - 1s 3ms/step - loss: 1.4757 - mse: 6.4431e-04 - auc: 0.9384 - val_loss: 1.2810 - val_mse: 4.5082e-04 - val_auc: 0.9407\n",
      "Epoch 69/100\n",
      "455/455 [==============================] - 1s 3ms/step - loss: 1.4745 - mse: 6.4307e-04 - auc: 0.9384 - val_loss: 1.2845 - val_mse: 4.5124e-04 - val_auc: 0.9416\n",
      "Epoch 70/100\n",
      "455/455 [==============================] - 1s 3ms/step - loss: 1.4732 - mse: 6.4173e-04 - auc: 0.9383 - val_loss: 1.2789 - val_mse: 4.4645e-04 - val_auc: 0.9410\n",
      "Epoch 71/100\n",
      "455/455 [==============================] - 1s 3ms/step - loss: 1.4726 - mse: 6.4117e-04 - auc: 0.9383 - val_loss: 1.2804 - val_mse: 4.4890e-04 - val_auc: 0.9409\n",
      "Epoch 72/100\n",
      "455/455 [==============================] - 1s 3ms/step - loss: 1.4715 - mse: 6.4005e-04 - auc: 0.9383 - val_loss: 1.2779 - val_mse: 4.4627e-04 - val_auc: 0.9411\n",
      "Epoch 73/100\n",
      "455/455 [==============================] - 1s 3ms/step - loss: 1.4710 - mse: 6.3956e-04 - auc: 0.9382 - val_loss: 1.2801 - val_mse: 4.5095e-04 - val_auc: 0.9413\n",
      "Epoch 74/100\n",
      "455/455 [==============================] - 1s 3ms/step - loss: 1.4708 - mse: 6.3939e-04 - auc: 0.9384 - val_loss: 1.2811 - val_mse: 4.5180e-04 - val_auc: 0.9403\n",
      "Epoch 75/100\n",
      "455/455 [==============================] - 1s 3ms/step - loss: 1.4692 - mse: 6.3772e-04 - auc: 0.9386 - val_loss: 1.2801 - val_mse: 4.5074e-04 - val_auc: 0.9419\n",
      "Epoch 76/100\n",
      "455/455 [==============================] - 1s 3ms/step - loss: 1.4694 - mse: 6.3796e-04 - auc: 0.9384 - val_loss: 1.2833 - val_mse: 4.5536e-04 - val_auc: 0.9417\n",
      "Epoch 77/100\n",
      "455/455 [==============================] - 1s 3ms/step - loss: 1.4682 - mse: 6.3678e-04 - auc: 0.9385 - val_loss: 1.2786 - val_mse: 4.4437e-04 - val_auc: 0.9400\n",
      "Epoch 78/100\n",
      "455/455 [==============================] - 1s 3ms/step - loss: 1.4671 - mse: 6.3561e-04 - auc: 0.9382 - val_loss: 1.2796 - val_mse: 4.4860e-04 - val_auc: 0.9414\n",
      "Epoch 79/100\n",
      "455/455 [==============================] - 1s 3ms/step - loss: 1.4672 - mse: 6.3574e-04 - auc: 0.9383 - val_loss: 1.2766 - val_mse: 4.4423e-04 - val_auc: 0.9419\n",
      "Epoch 80/100\n",
      "455/455 [==============================] - 1s 3ms/step - loss: 1.4671 - mse: 6.3559e-04 - auc: 0.9383 - val_loss: 1.2751 - val_mse: 4.4292e-04 - val_auc: 0.9417\n",
      "Epoch 81/100\n",
      "455/455 [==============================] - 1s 3ms/step - loss: 1.4663 - mse: 6.3483e-04 - auc: 0.9384 - val_loss: 1.2777 - val_mse: 4.4516e-04 - val_auc: 0.9413\n",
      "Epoch 82/100\n",
      "455/455 [==============================] - 1s 3ms/step - loss: 1.4661 - mse: 6.3461e-04 - auc: 0.9379 - val_loss: 1.2779 - val_mse: 4.4654e-04 - val_auc: 0.9417\n",
      "Epoch 83/100\n",
      "455/455 [==============================] - 1s 3ms/step - loss: 1.4664 - mse: 6.3490e-04 - auc: 0.9385 - val_loss: 1.2755 - val_mse: 4.4451e-04 - val_auc: 0.9428\n",
      "Epoch 84/100\n",
      "455/455 [==============================] - 1s 3ms/step - loss: 1.4661 - mse: 6.3458e-04 - auc: 0.9385 - val_loss: 1.2775 - val_mse: 4.4559e-04 - val_auc: 0.9421\n",
      "Epoch 85/100\n",
      "455/455 [==============================] - 1s 3ms/step - loss: 1.4637 - mse: 6.3222e-04 - auc: 0.9385 - val_loss: 1.2851 - val_mse: 4.5725e-04 - val_auc: 0.9425\n",
      "Epoch 86/100\n",
      "455/455 [==============================] - 1s 3ms/step - loss: 1.4646 - mse: 6.3307e-04 - auc: 0.9385 - val_loss: 1.2785 - val_mse: 4.4804e-04 - val_auc: 0.9426\n",
      "Epoch 87/100\n",
      "455/455 [==============================] - 1s 3ms/step - loss: 1.4625 - mse: 6.3097e-04 - auc: 0.9385 - val_loss: 1.2775 - val_mse: 4.4520e-04 - val_auc: 0.9419\n",
      "Epoch 88/100\n",
      "455/455 [==============================] - 1s 3ms/step - loss: 1.4631 - mse: 6.3161e-04 - auc: 0.9386 - val_loss: 1.2799 - val_mse: 4.4549e-04 - val_auc: 0.9427\n",
      "Epoch 89/100\n",
      "455/455 [==============================] - 1s 3ms/step - loss: 1.4634 - mse: 6.3187e-04 - auc: 0.9386 - val_loss: 1.2769 - val_mse: 4.4477e-04 - val_auc: 0.9426\n",
      "Epoch 90/100\n",
      "455/455 [==============================] - 1s 3ms/step - loss: 1.4638 - mse: 6.3229e-04 - auc: 0.9387 - val_loss: 1.2764 - val_mse: 4.4350e-04 - val_auc: 0.9421\n",
      "Epoch 91/100\n",
      "455/455 [==============================] - 1s 3ms/step - loss: 1.4624 - mse: 6.3085e-04 - auc: 0.9387 - val_loss: 1.2806 - val_mse: 4.5105e-04 - val_auc: 0.9426\n",
      "Epoch 92/100\n",
      "455/455 [==============================] - 1s 3ms/step - loss: 1.4630 - mse: 6.3151e-04 - auc: 0.9384 - val_loss: 1.2785 - val_mse: 4.4527e-04 - val_auc: 0.9425\n",
      "Epoch 93/100\n",
      "455/455 [==============================] - 1s 3ms/step - loss: 1.4626 - mse: 6.3112e-04 - auc: 0.9387 - val_loss: 1.2758 - val_mse: 4.4383e-04 - val_auc: 0.9430\n",
      "Epoch 94/100\n",
      "455/455 [==============================] - 1s 3ms/step - loss: 1.4621 - mse: 6.3056e-04 - auc: 0.9388 - val_loss: 1.2784 - val_mse: 4.4487e-04 - val_auc: 0.9420\n",
      "Epoch 95/100\n",
      "455/455 [==============================] - 1s 3ms/step - loss: 1.4610 - mse: 6.2943e-04 - auc: 0.9386 - val_loss: 1.2803 - val_mse: 4.4597e-04 - val_auc: 0.9424\n",
      "Epoch 96/100\n",
      "455/455 [==============================] - 1s 3ms/step - loss: 1.4613 - mse: 6.2981e-04 - auc: 0.9387 - val_loss: 1.2747 - val_mse: 4.4263e-04 - val_auc: 0.9428\n",
      "Epoch 97/100\n",
      "455/455 [==============================] - 1s 3ms/step - loss: 1.4620 - mse: 6.3047e-04 - auc: 0.9384 - val_loss: 1.2795 - val_mse: 4.5040e-04 - val_auc: 0.9429\n",
      "Epoch 98/100\n",
      "455/455 [==============================] - 1s 3ms/step - loss: 1.4614 - mse: 6.2984e-04 - auc: 0.9388 - val_loss: 1.2778 - val_mse: 4.4723e-04 - val_auc: 0.9429\n",
      "Epoch 99/100\n",
      "455/455 [==============================] - 1s 3ms/step - loss: 1.4612 - mse: 6.2965e-04 - auc: 0.9384 - val_loss: 1.2775 - val_mse: 4.4709e-04 - val_auc: 0.9424\n",
      "Epoch 100/100\n",
      "455/455 [==============================] - 1s 3ms/step - loss: 1.4601 - mse: 6.2861e-04 - auc: 0.9388 - val_loss: 1.2760 - val_mse: 4.4355e-04 - val_auc: 0.9431\n"
     ]
    },
    {
     "data": {
      "image/png": "[encoded data removed]",
      "text/plain": [
       "<Figure size 432x288 with 1 Axes>"
      ]
     },
     "metadata": {
      "needs_background": "light"
     },
     "output_type": "display_data"
    },
    {
     "data": {
      "image/png": "[encoded data removed]",
      "text/plain": [
       "<Figure size 432x288 with 1 Axes>"
      ]
     },
     "metadata": {
      "needs_background": "light"
     },
     "output_type": "display_data"
    },
    {
     "name": "stdout",
     "output_type": "stream",
     "text": [
      "2726/2726 [==============================] - 1s 514us/step\n",
      "The classifications using the MAD method on validation set with threshold=1.0100000000000005 are as follows:\n",
      "    [[60218 25054]\n",
      " [ 1147   809]]\n",
      "    # % of transactions labeled as fraud that were correct (precision): 809/(25054+809) = 3.13%\n",
      "    # % of fraudulent transactions were caught succesfully (recall):    809/(1147+809) = 41.36%\n",
      "Balanced accuracy =  0.5598932207984612\n",
      "              precision    recall  f1-score   support\n",
      "\n",
      "           0       0.98      0.71      0.82     85272\n",
      "           1       0.03      0.41      0.06      1956\n",
      "\n",
      "    accuracy                           0.70     87228\n",
      "   macro avg       0.51      0.56      0.44     87228\n",
      "weighted avg       0.96      0.70      0.80     87228\n",
      "\n",
      "ROC_AUC =  0.5753111515542901\n",
      "2672/2672 [==============================] - 1s 514us/step\n",
      "The classifications using the MAD method on validation set with threshold=1.0100000000000005 are as follows:\n",
      "    [[60184 25089]\n",
      " [  140    78]]\n",
      "    # % of transactions labeled as fraud that were correct (precision): 78/(25089+78) = 0.31%\n",
      "    # % of fraudulent transactions were caught succesfully (recall):    78/(140+78) = 35.78%\n",
      "Balanced accuracy =  0.5317892119180738\n",
      "              precision    recall  f1-score   support\n",
      "\n",
      "           0       1.00      0.71      0.83     85273\n",
      "           1       0.00      0.36      0.01       218\n",
      "\n",
      "    accuracy                           0.70     85491\n",
      "   macro avg       0.50      0.53      0.42     85491\n",
      "weighted avg       1.00      0.70      0.82     85491\n",
      "\n",
      "ROC_AUC =  0.5635097829884095\n",
      "Model: \"sequential_4\"\n",
      "_________________________________________________________________\n",
      " Layer (type)                Output Shape              Param #   \n",
      "=================================================================\n",
      " encoder (Functional)        (None, 4)                 934       \n",
      "                                                                 \n",
      "=================================================================\n",
      "Total params: 934\n",
      "Trainable params: 934\n",
      "Non-trainable params: 0\n",
      "_________________________________________________________________\n",
      "None\n",
      "2726/2726 [==============================] - 2s 539us/step\n",
      "2672/2672 [==============================] - 1s 507us/step\n",
      "2726/2726 [==============================] - 1s 518us/step\n",
      "2672/2672 [==============================] - 1s 520us/step\n"
     ]
    }
   ],
   "source": [
    "history_vae = vae.fit(\n",
    "    X_train_transformed, X_train_transformed,\n",
    "    shuffle=True,\n",
    "    epochs=epochs,\n",
    "    batch_size=batch_size,\n",
    "    callbacks=cb,\n",
    "    validation_data=(X_validate_transformed, X_validate_transformed))\n",
    "functions14.plot_metrics(history_vae)\n",
    "\n",
    "#Interpret training results ationsutoencoder \n",
    "functions14.get_results_autoencoder(X_validate_transformed, X_test_transformed, y_validate['Is_lost_item'], y_test['Is_lost_item'], vae)\n",
    "\n",
    "#Get latent representations \n",
    "VAE_encoder = tf.keras.models.Sequential(vae.layers[:latent_representation_number])\n",
    "print(VAE_encoder.summary())\n",
    "VAE_latent_representations_validate = pd.DataFrame(VAE_encoder.predict(X_validate_transformed))\n",
    "VAE_latent_representations_test = pd.DataFrame(VAE_encoder.predict(X_test_transformed))\n",
    "\n",
    "#Get reconstruction errors\n",
    "VAE_reconstructions_validate = vae.predict(X_validate_transformed)\n",
    "VAE_reconstructions_test = vae.predict(X_test_transformed)\n",
    "VAE_reconstruction_error_validate_mae = X_validate_transformed - VAE_reconstructions_validate\n",
    "VAE_reconstruction_error_validate_mse = np.power(X_validate_transformed - VAE_reconstructions_validate,2)\n",
    "VAE_reconstruction_error_test_mae = X_test_transformed - VAE_reconstructions_test\n",
    "VAE_reconstruction_error_test_mse = np.power(X_test_transformed - VAE_reconstructions_test,2)"
   ]
  },
  {
   "cell_type": "markdown",
   "id": "281627a1",
   "metadata": {
    "heading_collapsed": true,
    "hidden": true
   },
   "source": [
    "### 1.3 Create and train optimal DAE"
   ]
  },
  {
   "cell_type": "code",
   "execution_count": 22,
   "id": "44090580",
   "metadata": {
    "hidden": true,
    "scrolled": true
   },
   "outputs": [
    {
     "name": "stdout",
     "output_type": "stream",
     "text": [
      "Model: \"model_2\"\n",
      "_________________________________________________________________\n",
      " Layer (type)                Output Shape              Param #   \n",
      "=================================================================\n",
      " input_5 (InputLayer)        [(None, 25)]              0         \n",
      "                                                                 \n",
      " dense_15 (Dense)            (None, 25)                650       \n",
      "                                                                 \n",
      " dense_16 (Dense)            (None, 8)                 208       \n",
      "                                                                 \n",
      " dropout_3 (Dropout)         (None, 8)                 0         \n",
      "                                                                 \n",
      " dense_17 (Dense)            (None, 4)                 36        \n",
      "                                                                 \n",
      " dense_18 (Dense)            (None, 8)                 40        \n",
      "                                                                 \n",
      " dense_19 (Dense)            (None, 25)                225       \n",
      "                                                                 \n",
      "=================================================================\n",
      "Total params: 1,159\n",
      "Trainable params: 1,159\n",
      "Non-trainable params: 0\n",
      "_________________________________________________________________\n"
     ]
    }
   ],
   "source": [
    "#Set parameters autoencoder \n",
    "optimizer = 'Adam'\n",
    "loss = 'mse'\n",
    "activation_1 = 'sigmoid'\n",
    "activation_2 = 'elu'\n",
    "batch_size = 1000\n",
    "hidden_layers = 3\n",
    "nodes_start = 8\n",
    "dropout_rate = 0.5\n",
    "places_dropout = 1\n",
    "amount_of_features = 25\n",
    "input_dim = amount_of_features\n",
    "epochs = 100\n",
    "latent_representation_number = 5\n",
    "stdev = 0.1\n",
    "\n",
    "#Get the corresponding data\n",
    "X_train_transformed, X_validate_transformed, y_validate, X_test_transformed, y_test =change_input_data(X_train_transformed, X_validate_transformed, X_test_transformed, y_test, y_validate, input_dim)\n",
    "X_train_transformed_n = functions14.gaussian_noise(X_train_transformed, 0, stdev)\n",
    "X_validate_transformed_n = functions14.gaussian_noise(X_validate_transformed, 0, stdev)\n",
    "X_test_transformed_n = functions14.gaussian_noise(X_test_transformed, 0, stdev)\n",
    "\n",
    "#create model\n",
    "dae = functions14.create_model_(optimizer, loss, activation_1, activation_2, batch_size, hidden_layers, \n",
    "                  nodes_start, dropout_rate, places_dropout, input_dim)"
   ]
  },
  {
   "cell_type": "code",
   "execution_count": 23,
   "id": "112e8fd3",
   "metadata": {
    "hidden": true,
    "scrolled": true
   },
   "outputs": [
    {
     "name": "stdout",
     "output_type": "stream",
     "text": [
      "Epoch 1/100\n",
      "683/683 [==============================] - 2s 2ms/step - loss: 0.0302 - mse: 0.0302 - auc: 0.7387 - accuracy: 0.6033 - val_loss: 0.0020 - val_mse: 0.0020 - val_auc: 0.8049 - val_accuracy: 0.7112\n",
      "Epoch 2/100\n",
      "683/683 [==============================] - 1s 2ms/step - loss: 0.0023 - mse: 0.0023 - auc: 0.8292 - accuracy: 0.7062 - val_loss: 0.0019 - val_mse: 0.0019 - val_auc: 0.8572 - val_accuracy: 0.7112\n",
      "Epoch 3/100\n",
      "683/683 [==============================] - 1s 2ms/step - loss: 0.0020 - mse: 0.0020 - auc: 0.8540 - accuracy: 0.7085 - val_loss: 0.0018 - val_mse: 0.0018 - val_auc: 0.8574 - val_accuracy: 0.7112\n",
      "Epoch 4/100\n",
      "683/683 [==============================] - 1s 2ms/step - loss: 0.0019 - mse: 0.0019 - auc: 0.8564 - accuracy: 0.7085 - val_loss: 0.0019 - val_mse: 0.0019 - val_auc: 0.8573 - val_accuracy: 0.7112\n",
      "Epoch 5/100\n",
      "683/683 [==============================] - 1s 2ms/step - loss: 0.0019 - mse: 0.0019 - auc: 0.8574 - accuracy: 0.7085 - val_loss: 0.0018 - val_mse: 0.0018 - val_auc: 0.8573 - val_accuracy: 0.7112\n",
      "Epoch 6/100\n",
      "683/683 [==============================] - 1s 2ms/step - loss: 0.0018 - mse: 0.0018 - auc: 0.8581 - accuracy: 0.7085 - val_loss: 0.0018 - val_mse: 0.0018 - val_auc: 0.8573 - val_accuracy: 0.7112\n",
      "Epoch 7/100\n",
      "683/683 [==============================] - 1s 2ms/step - loss: 0.0018 - mse: 0.0018 - auc: 0.8584 - accuracy: 0.7085 - val_loss: 0.0018 - val_mse: 0.0018 - val_auc: 0.8573 - val_accuracy: 0.7112\n",
      "Epoch 8/100\n",
      "683/683 [==============================] - 1s 2ms/step - loss: 0.0018 - mse: 0.0018 - auc: 0.8587 - accuracy: 0.7085 - val_loss: 0.0018 - val_mse: 0.0018 - val_auc: 0.8573 - val_accuracy: 0.7112\n",
      "Epoch 9/100\n",
      "683/683 [==============================] - 1s 2ms/step - loss: 0.0018 - mse: 0.0018 - auc: 0.8601 - accuracy: 0.7085 - val_loss: 0.0018 - val_mse: 0.0018 - val_auc: 0.8631 - val_accuracy: 0.7112\n",
      "Epoch 10/100\n",
      "683/683 [==============================] - 1s 2ms/step - loss: 0.0018 - mse: 0.0018 - auc: 0.8714 - accuracy: 0.7085 - val_loss: 0.0017 - val_mse: 0.0017 - val_auc: 0.8781 - val_accuracy: 0.7112\n",
      "Epoch 11/100\n",
      "683/683 [==============================] - 1s 2ms/step - loss: 0.0015 - mse: 0.0015 - auc: 0.9105 - accuracy: 0.7095 - val_loss: 0.0013 - val_mse: 0.0013 - val_auc: 0.9290 - val_accuracy: 0.7116\n",
      "Epoch 12/100\n",
      "683/683 [==============================] - 1s 2ms/step - loss: 0.0013 - mse: 0.0013 - auc: 0.9331 - accuracy: 0.7102 - val_loss: 0.0012 - val_mse: 0.0012 - val_auc: 0.9355 - val_accuracy: 0.7122\n",
      "Epoch 13/100\n",
      "683/683 [==============================] - 1s 2ms/step - loss: 0.0013 - mse: 0.0013 - auc: 0.9341 - accuracy: 0.7152 - val_loss: 0.0012 - val_mse: 0.0012 - val_auc: 0.9346 - val_accuracy: 0.7196\n",
      "Epoch 14/100\n",
      "683/683 [==============================] - 1s 2ms/step - loss: 0.0012 - mse: 0.0012 - auc: 0.9325 - accuracy: 0.7245 - val_loss: 0.0012 - val_mse: 0.0012 - val_auc: 0.9341 - val_accuracy: 0.7373\n",
      "Epoch 15/100\n",
      "683/683 [==============================] - 1s 2ms/step - loss: 0.0012 - mse: 0.0012 - auc: 0.9337 - accuracy: 0.7292 - val_loss: 0.0011 - val_mse: 0.0011 - val_auc: 0.9345 - val_accuracy: 0.7327\n",
      "Epoch 16/100\n",
      "683/683 [==============================] - 1s 2ms/step - loss: 0.0012 - mse: 0.0012 - auc: 0.9353 - accuracy: 0.7310 - val_loss: 0.0011 - val_mse: 0.0011 - val_auc: 0.9357 - val_accuracy: 0.7398\n",
      "Epoch 17/100\n",
      "683/683 [==============================] - 1s 2ms/step - loss: 0.0012 - mse: 0.0012 - auc: 0.9365 - accuracy: 0.7318 - val_loss: 0.0011 - val_mse: 0.0011 - val_auc: 0.9369 - val_accuracy: 0.7371\n",
      "Epoch 18/100\n",
      "683/683 [==============================] - 1s 2ms/step - loss: 0.0012 - mse: 0.0012 - auc: 0.9375 - accuracy: 0.7319 - val_loss: 0.0011 - val_mse: 0.0011 - val_auc: 0.9367 - val_accuracy: 0.7409\n",
      "Epoch 19/100\n",
      "683/683 [==============================] - 1s 2ms/step - loss: 0.0012 - mse: 0.0012 - auc: 0.9380 - accuracy: 0.7319 - val_loss: 0.0011 - val_mse: 0.0011 - val_auc: 0.9372 - val_accuracy: 0.7401\n",
      "Epoch 20/100\n",
      "683/683 [==============================] - 1s 2ms/step - loss: 0.0012 - mse: 0.0012 - auc: 0.9382 - accuracy: 0.7304 - val_loss: 0.0011 - val_mse: 0.0011 - val_auc: 0.9372 - val_accuracy: 0.7406\n",
      "Epoch 21/100\n",
      "683/683 [==============================] - 1s 2ms/step - loss: 0.0012 - mse: 0.0012 - auc: 0.9382 - accuracy: 0.7291 - val_loss: 0.0011 - val_mse: 0.0011 - val_auc: 0.9371 - val_accuracy: 0.7328\n",
      "Epoch 22/100\n",
      "683/683 [==============================] - 1s 2ms/step - loss: 0.0012 - mse: 0.0012 - auc: 0.9380 - accuracy: 0.7278 - val_loss: 0.0011 - val_mse: 0.0011 - val_auc: 0.9371 - val_accuracy: 0.7347\n",
      "Epoch 23/100\n",
      "683/683 [==============================] - 1s 2ms/step - loss: 0.0012 - mse: 0.0012 - auc: 0.9378 - accuracy: 0.7273 - val_loss: 0.0011 - val_mse: 0.0011 - val_auc: 0.9372 - val_accuracy: 0.7341\n",
      "Epoch 24/100\n",
      "683/683 [==============================] - 1s 2ms/step - loss: 0.0012 - mse: 0.0012 - auc: 0.9378 - accuracy: 0.7266 - val_loss: 0.0011 - val_mse: 0.0011 - val_auc: 0.9371 - val_accuracy: 0.7314\n",
      "Epoch 25/100\n",
      "683/683 [==============================] - 1s 2ms/step - loss: 0.0012 - mse: 0.0012 - auc: 0.9379 - accuracy: 0.7266 - val_loss: 0.0011 - val_mse: 0.0011 - val_auc: 0.9375 - val_accuracy: 0.7371\n",
      "Epoch 26/100\n",
      "683/683 [==============================] - 1s 2ms/step - loss: 0.0012 - mse: 0.0012 - auc: 0.9381 - accuracy: 0.7260 - val_loss: 0.0011 - val_mse: 0.0011 - val_auc: 0.9373 - val_accuracy: 0.7362\n",
      "Epoch 27/100\n",
      "683/683 [==============================] - 1s 2ms/step - loss: 0.0012 - mse: 0.0012 - auc: 0.9384 - accuracy: 0.7255 - val_loss: 0.0011 - val_mse: 0.0011 - val_auc: 0.9379 - val_accuracy: 0.7360\n",
      "Epoch 28/100\n",
      "683/683 [==============================] - 1s 2ms/step - loss: 0.0012 - mse: 0.0012 - auc: 0.9387 - accuracy: 0.7250 - val_loss: 0.0011 - val_mse: 0.0011 - val_auc: 0.9383 - val_accuracy: 0.7356\n",
      "Epoch 29/100\n",
      "683/683 [==============================] - 1s 2ms/step - loss: 0.0011 - mse: 0.0011 - auc: 0.9390 - accuracy: 0.7250 - val_loss: 0.0011 - val_mse: 0.0011 - val_auc: 0.9387 - val_accuracy: 0.7347\n",
      "Epoch 30/100\n",
      "683/683 [==============================] - 1s 2ms/step - loss: 0.0011 - mse: 0.0011 - auc: 0.9391 - accuracy: 0.7240 - val_loss: 0.0011 - val_mse: 0.0011 - val_auc: 0.9389 - val_accuracy: 0.7358\n",
      "Epoch 31/100\n",
      "683/683 [==============================] - 1s 2ms/step - loss: 0.0011 - mse: 0.0011 - auc: 0.9391 - accuracy: 0.7235 - val_loss: 0.0011 - val_mse: 0.0011 - val_auc: 0.9376 - val_accuracy: 0.7335\n",
      "Epoch 32/100\n",
      "683/683 [==============================] - 1s 2ms/step - loss: 0.0011 - mse: 0.0011 - auc: 0.9391 - accuracy: 0.7225 - val_loss: 0.0011 - val_mse: 0.0011 - val_auc: 0.9391 - val_accuracy: 0.7312\n",
      "Epoch 33/100\n",
      "683/683 [==============================] - 1s 2ms/step - loss: 0.0011 - mse: 0.0011 - auc: 0.9391 - accuracy: 0.7220 - val_loss: 0.0011 - val_mse: 0.0011 - val_auc: 0.9378 - val_accuracy: 0.7309\n",
      "Epoch 34/100\n",
      "683/683 [==============================] - 1s 2ms/step - loss: 0.0011 - mse: 0.0011 - auc: 0.9391 - accuracy: 0.7213 - val_loss: 0.0011 - val_mse: 0.0011 - val_auc: 0.9380 - val_accuracy: 0.7265\n",
      "Epoch 35/100\n",
      "683/683 [==============================] - 1s 2ms/step - loss: 0.0011 - mse: 0.0011 - auc: 0.9390 - accuracy: 0.7212 - val_loss: 0.0011 - val_mse: 0.0011 - val_auc: 0.9385 - val_accuracy: 0.7321\n",
      "Epoch 36/100\n",
      "683/683 [==============================] - 1s 2ms/step - loss: 0.0011 - mse: 0.0011 - auc: 0.9388 - accuracy: 0.7210 - val_loss: 0.0011 - val_mse: 0.0011 - val_auc: 0.9386 - val_accuracy: 0.7269\n",
      "Epoch 37/100\n",
      "683/683 [==============================] - 1s 2ms/step - loss: 0.0011 - mse: 0.0011 - auc: 0.9388 - accuracy: 0.7205 - val_loss: 0.0011 - val_mse: 0.0011 - val_auc: 0.9389 - val_accuracy: 0.7296\n",
      "Epoch 38/100\n",
      "683/683 [==============================] - 1s 2ms/step - loss: 0.0011 - mse: 0.0011 - auc: 0.9387 - accuracy: 0.7203 - val_loss: 0.0011 - val_mse: 0.0011 - val_auc: 0.9384 - val_accuracy: 0.7266\n",
      "Epoch 39/100\n",
      "683/683 [==============================] - 1s 2ms/step - loss: 0.0011 - mse: 0.0011 - auc: 0.9386 - accuracy: 0.7204 - val_loss: 0.0011 - val_mse: 0.0011 - val_auc: 0.9380 - val_accuracy: 0.7300\n",
      "Epoch 40/100\n",
      "683/683 [==============================] - 1s 2ms/step - loss: 0.0011 - mse: 0.0011 - auc: 0.9386 - accuracy: 0.7204 - val_loss: 0.0011 - val_mse: 0.0011 - val_auc: 0.9390 - val_accuracy: 0.7292\n",
      "Epoch 41/100\n",
      "683/683 [==============================] - 1s 2ms/step - loss: 0.0011 - mse: 0.0011 - auc: 0.9385 - accuracy: 0.7204 - val_loss: 0.0011 - val_mse: 0.0011 - val_auc: 0.9379 - val_accuracy: 0.7273\n",
      "Epoch 42/100\n",
      "683/683 [==============================] - 1s 2ms/step - loss: 0.0011 - mse: 0.0011 - auc: 0.9384 - accuracy: 0.7201 - val_loss: 0.0011 - val_mse: 0.0011 - val_auc: 0.9385 - val_accuracy: 0.7280\n",
      "Epoch 43/100\n",
      "683/683 [==============================] - 1s 2ms/step - loss: 0.0011 - mse: 0.0011 - auc: 0.9383 - accuracy: 0.7204 - val_loss: 0.0011 - val_mse: 0.0011 - val_auc: 0.9374 - val_accuracy: 0.7280\n",
      "Epoch 44/100\n",
      "683/683 [==============================] - 1s 2ms/step - loss: 0.0011 - mse: 0.0011 - auc: 0.9383 - accuracy: 0.7208 - val_loss: 0.0011 - val_mse: 0.0011 - val_auc: 0.9388 - val_accuracy: 0.7264\n",
      "Epoch 45/100\n",
      "683/683 [==============================] - 1s 2ms/step - loss: 0.0011 - mse: 0.0011 - auc: 0.9384 - accuracy: 0.7209 - val_loss: 0.0011 - val_mse: 0.0011 - val_auc: 0.9383 - val_accuracy: 0.7296\n",
      "Epoch 46/100\n",
      "683/683 [==============================] - 1s 2ms/step - loss: 0.0011 - mse: 0.0011 - auc: 0.9384 - accuracy: 0.7211 - val_loss: 0.0011 - val_mse: 0.0011 - val_auc: 0.9384 - val_accuracy: 0.7300\n",
      "Epoch 47/100\n",
      "683/683 [==============================] - 1s 2ms/step - loss: 0.0011 - mse: 0.0011 - auc: 0.9384 - accuracy: 0.7205 - val_loss: 0.0011 - val_mse: 0.0011 - val_auc: 0.9388 - val_accuracy: 0.7314\n",
      "Epoch 48/100\n",
      "683/683 [==============================] - 1s 2ms/step - loss: 0.0011 - mse: 0.0011 - auc: 0.9384 - accuracy: 0.7213 - val_loss: 0.0011 - val_mse: 0.0011 - val_auc: 0.9381 - val_accuracy: 0.7269\n",
      "Epoch 49/100\n",
      "683/683 [==============================] - 1s 2ms/step - loss: 0.0011 - mse: 0.0011 - auc: 0.9385 - accuracy: 0.7208 - val_loss: 0.0011 - val_mse: 0.0011 - val_auc: 0.9389 - val_accuracy: 0.7311\n",
      "Epoch 50/100\n",
      "683/683 [==============================] - 1s 2ms/step - loss: 0.0011 - mse: 0.0011 - auc: 0.9385 - accuracy: 0.7214 - val_loss: 0.0011 - val_mse: 0.0011 - val_auc: 0.9384 - val_accuracy: 0.7309\n",
      "Epoch 51/100\n",
      "683/683 [==============================] - 1s 2ms/step - loss: 0.0011 - mse: 0.0011 - auc: 0.9385 - accuracy: 0.7216 - val_loss: 0.0011 - val_mse: 0.0011 - val_auc: 0.9389 - val_accuracy: 0.7307\n",
      "Epoch 52/100\n",
      "683/683 [==============================] - 1s 2ms/step - loss: 0.0011 - mse: 0.0011 - auc: 0.9386 - accuracy: 0.7212 - val_loss: 0.0011 - val_mse: 0.0011 - val_auc: 0.9393 - val_accuracy: 0.7312\n",
      "Epoch 53/100\n",
      "683/683 [==============================] - 1s 2ms/step - loss: 0.0011 - mse: 0.0011 - auc: 0.9385 - accuracy: 0.7212 - val_loss: 0.0011 - val_mse: 0.0011 - val_auc: 0.9387 - val_accuracy: 0.7290\n",
      "Epoch 54/100\n",
      "683/683 [==============================] - 1s 2ms/step - loss: 0.0011 - mse: 0.0011 - auc: 0.9387 - accuracy: 0.7210 - val_loss: 0.0011 - val_mse: 0.0011 - val_auc: 0.9396 - val_accuracy: 0.7302\n",
      "Epoch 55/100\n",
      "683/683 [==============================] - 1s 2ms/step - loss: 0.0011 - mse: 0.0011 - auc: 0.9387 - accuracy: 0.7215 - val_loss: 0.0011 - val_mse: 0.0011 - val_auc: 0.9390 - val_accuracy: 0.7303\n",
      "Epoch 56/100\n",
      "683/683 [==============================] - 1s 2ms/step - loss: 0.0011 - mse: 0.0011 - auc: 0.9388 - accuracy: 0.7222 - val_loss: 0.0011 - val_mse: 0.0011 - val_auc: 0.9400 - val_accuracy: 0.7311\n",
      "Epoch 57/100\n",
      "683/683 [==============================] - 1s 2ms/step - loss: 0.0011 - mse: 0.0011 - auc: 0.9389 - accuracy: 0.7215 - val_loss: 0.0011 - val_mse: 0.0011 - val_auc: 0.9396 - val_accuracy: 0.7304\n",
      "Epoch 58/100\n",
      "683/683 [==============================] - 1s 2ms/step - loss: 0.0011 - mse: 0.0011 - auc: 0.9389 - accuracy: 0.7210 - val_loss: 0.0011 - val_mse: 0.0011 - val_auc: 0.9408 - val_accuracy: 0.7302\n",
      "Epoch 59/100\n",
      "683/683 [==============================] - 1s 2ms/step - loss: 0.0011 - mse: 0.0011 - auc: 0.9390 - accuracy: 0.7215 - val_loss: 0.0011 - val_mse: 0.0011 - val_auc: 0.9392 - val_accuracy: 0.7309\n",
      "Epoch 60/100\n",
      "683/683 [==============================] - 1s 2ms/step - loss: 0.0011 - mse: 0.0011 - auc: 0.9388 - accuracy: 0.7220 - val_loss: 0.0011 - val_mse: 0.0011 - val_auc: 0.9395 - val_accuracy: 0.7287\n",
      "Epoch 61/100\n",
      "683/683 [==============================] - 1s 2ms/step - loss: 0.0011 - mse: 0.0011 - auc: 0.9389 - accuracy: 0.7218 - val_loss: 0.0011 - val_mse: 0.0011 - val_auc: 0.9398 - val_accuracy: 0.7293\n",
      "Epoch 62/100\n",
      "683/683 [==============================] - 1s 2ms/step - loss: 0.0011 - mse: 0.0011 - auc: 0.9390 - accuracy: 0.7221 - val_loss: 0.0011 - val_mse: 0.0011 - val_auc: 0.9397 - val_accuracy: 0.7309\n",
      "Epoch 63/100\n",
      "683/683 [==============================] - 1s 2ms/step - loss: 0.0011 - mse: 0.0011 - auc: 0.9389 - accuracy: 0.7221 - val_loss: 0.0011 - val_mse: 0.0011 - val_auc: 0.9401 - val_accuracy: 0.7312\n",
      "Epoch 64/100\n",
      "683/683 [==============================] - 1s 2ms/step - loss: 0.0011 - mse: 0.0011 - auc: 0.9390 - accuracy: 0.7216 - val_loss: 0.0011 - val_mse: 0.0011 - val_auc: 0.9391 - val_accuracy: 0.7263\n",
      "Epoch 65/100\n",
      "683/683 [==============================] - 1s 2ms/step - loss: 0.0011 - mse: 0.0011 - auc: 0.9391 - accuracy: 0.7211 - val_loss: 0.0011 - val_mse: 0.0011 - val_auc: 0.9395 - val_accuracy: 0.7303\n",
      "Epoch 66/100\n",
      "683/683 [==============================] - 1s 2ms/step - loss: 0.0011 - mse: 0.0011 - auc: 0.9391 - accuracy: 0.7217 - val_loss: 0.0011 - val_mse: 0.0011 - val_auc: 0.9403 - val_accuracy: 0.7295\n",
      "Epoch 67/100\n",
      "683/683 [==============================] - 1s 2ms/step - loss: 0.0011 - mse: 0.0011 - auc: 0.9391 - accuracy: 0.7215 - val_loss: 0.0011 - val_mse: 0.0011 - val_auc: 0.9403 - val_accuracy: 0.7293\n",
      "Epoch 68/100\n",
      "683/683 [==============================] - 1s 2ms/step - loss: 0.0011 - mse: 0.0011 - auc: 0.9391 - accuracy: 0.7218 - val_loss: 0.0011 - val_mse: 0.0011 - val_auc: 0.9397 - val_accuracy: 0.7276\n",
      "Epoch 69/100\n",
      "683/683 [==============================] - 1s 2ms/step - loss: 0.0011 - mse: 0.0011 - auc: 0.9393 - accuracy: 0.7216 - val_loss: 0.0011 - val_mse: 0.0011 - val_auc: 0.9396 - val_accuracy: 0.7292\n",
      "Epoch 70/100\n",
      "683/683 [==============================] - 1s 2ms/step - loss: 0.0011 - mse: 0.0011 - auc: 0.9393 - accuracy: 0.7220 - val_loss: 0.0011 - val_mse: 0.0011 - val_auc: 0.9391 - val_accuracy: 0.7284\n",
      "Epoch 71/100\n",
      "683/683 [==============================] - 1s 2ms/step - loss: 0.0011 - mse: 0.0011 - auc: 0.9394 - accuracy: 0.7219 - val_loss: 0.0011 - val_mse: 0.0011 - val_auc: 0.9403 - val_accuracy: 0.7298\n",
      "Epoch 72/100\n",
      "683/683 [==============================] - 1s 2ms/step - loss: 0.0011 - mse: 0.0011 - auc: 0.9391 - accuracy: 0.7212 - val_loss: 0.0011 - val_mse: 0.0011 - val_auc: 0.9400 - val_accuracy: 0.7270\n",
      "Epoch 73/100\n",
      "683/683 [==============================] - 1s 2ms/step - loss: 0.0011 - mse: 0.0011 - auc: 0.9394 - accuracy: 0.7216 - val_loss: 0.0011 - val_mse: 0.0011 - val_auc: 0.9398 - val_accuracy: 0.7283\n",
      "Epoch 74/100\n",
      "683/683 [==============================] - 1s 2ms/step - loss: 0.0011 - mse: 0.0011 - auc: 0.9394 - accuracy: 0.7216 - val_loss: 0.0011 - val_mse: 0.0011 - val_auc: 0.9406 - val_accuracy: 0.7279\n",
      "Epoch 75/100\n",
      "683/683 [==============================] - 1s 2ms/step - loss: 0.0011 - mse: 0.0011 - auc: 0.9394 - accuracy: 0.7214 - val_loss: 0.0011 - val_mse: 0.0011 - val_auc: 0.9404 - val_accuracy: 0.7280\n",
      "Epoch 76/100\n",
      "683/683 [==============================] - 1s 2ms/step - loss: 0.0011 - mse: 0.0011 - auc: 0.9394 - accuracy: 0.7220 - val_loss: 0.0011 - val_mse: 0.0011 - val_auc: 0.9409 - val_accuracy: 0.7287\n",
      "Epoch 77/100\n",
      "683/683 [==============================] - 1s 2ms/step - loss: 0.0011 - mse: 0.0011 - auc: 0.9395 - accuracy: 0.7211 - val_loss: 0.0011 - val_mse: 0.0011 - val_auc: 0.9402 - val_accuracy: 0.7289\n",
      "Epoch 78/100\n",
      "683/683 [==============================] - 1s 2ms/step - loss: 0.0011 - mse: 0.0011 - auc: 0.9394 - accuracy: 0.7216 - val_loss: 0.0011 - val_mse: 0.0011 - val_auc: 0.9404 - val_accuracy: 0.7281\n",
      "Epoch 79/100\n",
      "683/683 [==============================] - 1s 2ms/step - loss: 0.0011 - mse: 0.0011 - auc: 0.9396 - accuracy: 0.7218 - val_loss: 0.0011 - val_mse: 0.0011 - val_auc: 0.9413 - val_accuracy: 0.7287\n",
      "Epoch 80/100\n",
      "683/683 [==============================] - 1s 2ms/step - loss: 0.0011 - mse: 0.0011 - auc: 0.9395 - accuracy: 0.7221 - val_loss: 0.0011 - val_mse: 0.0011 - val_auc: 0.9403 - val_accuracy: 0.7271\n",
      "Epoch 81/100\n",
      "683/683 [==============================] - 1s 2ms/step - loss: 0.0011 - mse: 0.0011 - auc: 0.9396 - accuracy: 0.7216 - val_loss: 0.0011 - val_mse: 0.0011 - val_auc: 0.9404 - val_accuracy: 0.7275\n",
      "Epoch 82/100\n",
      "683/683 [==============================] - 1s 2ms/step - loss: 0.0011 - mse: 0.0011 - auc: 0.9394 - accuracy: 0.7218 - val_loss: 0.0011 - val_mse: 0.0011 - val_auc: 0.9408 - val_accuracy: 0.7261\n",
      "Epoch 83/100\n",
      "683/683 [==============================] - 1s 2ms/step - loss: 0.0011 - mse: 0.0011 - auc: 0.9395 - accuracy: 0.7220 - val_loss: 0.0011 - val_mse: 0.0011 - val_auc: 0.9402 - val_accuracy: 0.7251\n",
      "Epoch 84/100\n",
      "683/683 [==============================] - 1s 2ms/step - loss: 0.0011 - mse: 0.0011 - auc: 0.9394 - accuracy: 0.7212 - val_loss: 0.0011 - val_mse: 0.0011 - val_auc: 0.9398 - val_accuracy: 0.7269\n",
      "Epoch 85/100\n",
      "683/683 [==============================] - 1s 2ms/step - loss: 0.0011 - mse: 0.0011 - auc: 0.9394 - accuracy: 0.7217 - val_loss: 0.0011 - val_mse: 0.0011 - val_auc: 0.9410 - val_accuracy: 0.7282\n",
      "Epoch 86/100\n",
      "683/683 [==============================] - 1s 2ms/step - loss: 0.0011 - mse: 0.0011 - auc: 0.9393 - accuracy: 0.7214 - val_loss: 0.0011 - val_mse: 0.0011 - val_auc: 0.9406 - val_accuracy: 0.7275\n",
      "Epoch 87/100\n",
      "683/683 [==============================] - 1s 2ms/step - loss: 0.0011 - mse: 0.0011 - auc: 0.9394 - accuracy: 0.7216 - val_loss: 0.0011 - val_mse: 0.0011 - val_auc: 0.9397 - val_accuracy: 0.7254\n",
      "Epoch 88/100\n",
      "683/683 [==============================] - 1s 2ms/step - loss: 0.0011 - mse: 0.0011 - auc: 0.9394 - accuracy: 0.7213 - val_loss: 0.0011 - val_mse: 0.0011 - val_auc: 0.9400 - val_accuracy: 0.7248\n",
      "Epoch 89/100\n",
      "683/683 [==============================] - 1s 2ms/step - loss: 0.0011 - mse: 0.0011 - auc: 0.9392 - accuracy: 0.7212 - val_loss: 0.0011 - val_mse: 0.0011 - val_auc: 0.9403 - val_accuracy: 0.7258\n",
      "Epoch 90/100\n",
      "683/683 [==============================] - 1s 2ms/step - loss: 0.0011 - mse: 0.0011 - auc: 0.9392 - accuracy: 0.7215 - val_loss: 0.0011 - val_mse: 0.0011 - val_auc: 0.9402 - val_accuracy: 0.7271\n",
      "Epoch 91/100\n",
      "683/683 [==============================] - 1s 2ms/step - loss: 0.0011 - mse: 0.0011 - auc: 0.9394 - accuracy: 0.7213 - val_loss: 0.0011 - val_mse: 0.0011 - val_auc: 0.9401 - val_accuracy: 0.7250\n",
      "Epoch 92/100\n",
      "683/683 [==============================] - 1s 2ms/step - loss: 0.0011 - mse: 0.0011 - auc: 0.9393 - accuracy: 0.7215 - val_loss: 0.0011 - val_mse: 0.0011 - val_auc: 0.9410 - val_accuracy: 0.7274\n",
      "Epoch 93/100\n",
      "683/683 [==============================] - 1s 2ms/step - loss: 0.0011 - mse: 0.0011 - auc: 0.9393 - accuracy: 0.7214 - val_loss: 0.0011 - val_mse: 0.0011 - val_auc: 0.9395 - val_accuracy: 0.7241\n",
      "Epoch 94/100\n",
      "683/683 [==============================] - 1s 2ms/step - loss: 0.0011 - mse: 0.0011 - auc: 0.9393 - accuracy: 0.7213 - val_loss: 0.0011 - val_mse: 0.0011 - val_auc: 0.9400 - val_accuracy: 0.7256\n",
      "Epoch 95/100\n",
      "683/683 [==============================] - 1s 2ms/step - loss: 0.0011 - mse: 0.0011 - auc: 0.9394 - accuracy: 0.7216 - val_loss: 0.0011 - val_mse: 0.0011 - val_auc: 0.9405 - val_accuracy: 0.7265\n",
      "Epoch 96/100\n",
      "683/683 [==============================] - 1s 2ms/step - loss: 0.0011 - mse: 0.0011 - auc: 0.9393 - accuracy: 0.7214 - val_loss: 0.0011 - val_mse: 0.0011 - val_auc: 0.9403 - val_accuracy: 0.7251\n",
      "Epoch 97/100\n",
      "683/683 [==============================] - 1s 2ms/step - loss: 0.0011 - mse: 0.0011 - auc: 0.9394 - accuracy: 0.7213 - val_loss: 0.0011 - val_mse: 0.0011 - val_auc: 0.9396 - val_accuracy: 0.7249\n",
      "Epoch 98/100\n",
      "683/683 [==============================] - 1s 2ms/step - loss: 0.0011 - mse: 0.0011 - auc: 0.9392 - accuracy: 0.7216 - val_loss: 0.0011 - val_mse: 0.0011 - val_auc: 0.9404 - val_accuracy: 0.7256\n",
      "Epoch 99/100\n",
      "683/683 [==============================] - 1s 2ms/step - loss: 0.0011 - mse: 0.0011 - auc: 0.9392 - accuracy: 0.7215 - val_loss: 0.0011 - val_mse: 0.0011 - val_auc: 0.9395 - val_accuracy: 0.7258\n",
      "Epoch 100/100\n",
      "683/683 [==============================] - 1s 2ms/step - loss: 0.0011 - mse: 0.0011 - auc: 0.9393 - accuracy: 0.7210 - val_loss: 0.0011 - val_mse: 0.0011 - val_auc: 0.9407 - val_accuracy: 0.7261\n"
     ]
    },
    {
     "data": {
      "image/png": "[encoded data removed]",
      "text/plain": [
       "<Figure size 432x288 with 1 Axes>"
      ]
     },
     "metadata": {
      "needs_background": "light"
     },
     "output_type": "display_data"
    },
    {
     "data": {
      "image/png": "[encoded data removed]",
      "text/plain": [
       "<Figure size 432x288 with 1 Axes>"
      ]
     },
     "metadata": {
      "needs_background": "light"
     },
     "output_type": "display_data"
    },
    {
     "name": "stdout",
     "output_type": "stream",
     "text": [
      "2726/2726 [==============================] - 1s 510us/step\n",
      "The classifications using the MAD method on validation set with threshold=1.3300000000000007 are as follows:\n",
      "    [[67375 17897]\n",
      " [ 1265   691]]\n",
      "    # % of transactions labeled as fraud that were correct (precision): 691/(17897+691) = 3.72%\n",
      "    # % of fraudulent transactions were caught succesfully (recall):    691/(1265+691) = 35.33%\n",
      "Balanced accuracy =  0.5716953313453247\n",
      "              precision    recall  f1-score   support\n",
      "\n",
      "           0       0.98      0.79      0.88     85272\n",
      "           1       0.04      0.35      0.07      1956\n",
      "\n",
      "    accuracy                           0.78     87228\n",
      "   macro avg       0.51      0.57      0.47     87228\n",
      "weighted avg       0.96      0.78      0.86     87228\n",
      "\n",
      "ROC_AUC =  0.6144196204768343\n",
      "2672/2672 [==============================] - 1s 492us/step\n",
      "The classifications using the MAD method on validation set with threshold=1.3300000000000007 are as follows:\n",
      "    [[67130 18143]\n",
      " [  140    78]]\n",
      "    # % of transactions labeled as fraud that were correct (precision): 78/(18143+78) = 0.43%\n",
      "    # % of fraudulent transactions were caught succesfully (recall):    78/(140+78) = 35.78%\n",
      "Balanced accuracy =  0.5725172266472378\n",
      "              precision    recall  f1-score   support\n",
      "\n",
      "           0       1.00      0.79      0.88     85273\n",
      "           1       0.00      0.36      0.01       218\n",
      "\n",
      "    accuracy                           0.79     85491\n",
      "   macro avg       0.50      0.57      0.44     85491\n",
      "weighted avg       1.00      0.79      0.88     85491\n",
      "\n",
      "ROC_AUC =  0.6159471409526898\n",
      "Model: \"sequential_3\"\n",
      "_________________________________________________________________\n",
      " Layer (type)                Output Shape              Param #   \n",
      "=================================================================\n",
      " dense_15 (Dense)            (None, 25)                650       \n",
      "                                                                 \n",
      " dense_16 (Dense)            (None, 8)                 208       \n",
      "                                                                 \n",
      " dropout_3 (Dropout)         (None, 8)                 0         \n",
      "                                                                 \n",
      " dense_17 (Dense)            (None, 4)                 36        \n",
      "                                                                 \n",
      "=================================================================\n",
      "Total params: 894\n",
      "Trainable params: 894\n",
      "Non-trainable params: 0\n",
      "_________________________________________________________________\n",
      "None\n",
      "2726/2726 [==============================] - 1s 463us/step\n",
      "2672/2672 [==============================] - 1s 462us/step\n",
      "2726/2726 [==============================] - 1s 513us/step\n",
      "2672/2672 [==============================] - 1s 497us/step\n"
     ]
    }
   ],
   "source": [
    "history_dae = dae.fit(\n",
    "    X_train_transformed_n, X_train_transformed,\n",
    "    shuffle=True,\n",
    "    epochs=epochs,\n",
    "    batch_size=batch_size,\n",
    "    callbacks=cb,\n",
    "    validation_data=(X_validate_transformed_n, X_validate_transformed))\n",
    "functions14.plot_metrics(history_dae)\n",
    "\n",
    "#Interpret training results ationsutoencoder \n",
    "functions14.get_results_autoencoder(X_validate_transformed, X_test_transformed, y_validate['Is_lost_item'], y_test['Is_lost_item'], dae)\n",
    "\n",
    "#Get latent representations \n",
    "DAE_encoder = tf.keras.models.Sequential(dae.layers[:latent_representation_number])\n",
    "print(DAE_encoder.summary())\n",
    "DAE_latent_representations_validate = pd.DataFrame(DAE_encoder.predict(X_validate_transformed))\n",
    "DAE_latent_representations_test = pd.DataFrame(DAE_encoder.predict(X_test_transformed))\n",
    "\n",
    "#Get reconstruction errors\n",
    "DAE_reconstructions_validate = dae.predict(X_validate_transformed)\n",
    "DAE_reconstructions_test = dae.predict(X_test_transformed)\n",
    "DAE_reconstruction_error_validate_mae = X_validate_transformed - DAE_reconstructions_validate\n",
    "DAE_reconstruction_error_validate_mse = np.power(X_validate_transformed - DAE_reconstructions_validate, 2)\n",
    "DAE_reconstruction_error_test_mae = X_test_transformed - DAE_reconstructions_test\n",
    "DAE_reconstruction_error_test_mse = np.power(X_test_transformed - DAE_reconstructions_test, 2)"
   ]
  },
  {
   "cell_type": "markdown",
   "id": "66875d2f",
   "metadata": {
    "heading_collapsed": true
   },
   "source": [
    "# 2. Supervised classifiers that reconstruction error as input "
   ]
  },
  {
   "cell_type": "markdown",
   "id": "dcbc1eea",
   "metadata": {
    "heading_collapsed": true,
    "hidden": true
   },
   "source": [
    "## 2.1 Random Forest"
   ]
  },
  {
   "cell_type": "markdown",
   "id": "1410dbd0",
   "metadata": {
    "hidden": true
   },
   "source": [
    "### 2.1.1 Latent representation as input "
   ]
  },
  {
   "cell_type": "code",
   "execution_count": 50,
   "id": "87b210e1",
   "metadata": {
    "hidden": true,
    "scrolled": true
   },
   "outputs": [
    {
     "name": "stderr",
     "output_type": "stream",
     "text": [
      "C:\\Users\\jan.deleeuw\\AppData\\Local\\Temp\\ipykernel_12192\\1559080196.py:52: DataConversionWarning: A column-vector y was passed when a 1d array was expected. Please change the shape of y to (n_samples,), for example using ravel().\n",
      "  model.fit(X_train, y_train)\n"
     ]
    },
    {
     "name": "stdout",
     "output_type": "stream",
     "text": [
      "72074.48\n"
     ]
    },
    {
     "name": "stderr",
     "output_type": "stream",
     "text": [
      "C:\\Users\\jan.deleeuw\\Anaconda3\\lib\\site-packages\\sklearn\\utils\\deprecation.py:87: FutureWarning: Function plot_confusion_matrix is deprecated; Function `plot_confusion_matrix` is deprecated in 1.0 and will be removed in 1.2. Use one of the class methods: ConfusionMatrixDisplay.from_predictions or ConfusionMatrixDisplay.from_estimator.\n",
      "  warnings.warn(msg, category=FutureWarning)\n"
     ]
    },
    {
     "data": {
      "image/png": "[encoded data removed]",
      "text/plain": [
       "<Figure size 432x288 with 2 Axes>"
      ]
     },
     "metadata": {
      "needs_background": "light"
     },
     "output_type": "display_data"
    },
    {
     "name": "stdout",
     "output_type": "stream",
     "text": [
      "[[68290 16983]\n",
      " [  128    90]]\n",
      "Test set results: Recall = 0.41284403669724773, Precision = 0.005271481286241434, ROC_AUC = 0.6464716882862026, balanced accuracy = 0.6068418464301971,  Costs are 72074.48\n",
      "--- 54.23312759399414 seconds ---\n"
     ]
    },
    {
     "name": "stderr",
     "output_type": "stream",
     "text": [
      "C:\\Users\\jan.deleeuw\\AppData\\Local\\Temp\\ipykernel_12192\\1559080196.py:52: DataConversionWarning: A column-vector y was passed when a 1d array was expected. Please change the shape of y to (n_samples,), for example using ravel().\n",
      "  model.fit(X_train, y_train)\n"
     ]
    },
    {
     "name": "stdout",
     "output_type": "stream",
     "text": [
      "73245.92\n"
     ]
    },
    {
     "name": "stderr",
     "output_type": "stream",
     "text": [
      "C:\\Users\\jan.deleeuw\\Anaconda3\\lib\\site-packages\\sklearn\\utils\\deprecation.py:87: FutureWarning: Function plot_confusion_matrix is deprecated; Function `plot_confusion_matrix` is deprecated in 1.0 and will be removed in 1.2. Use one of the class methods: ConfusionMatrixDisplay.from_predictions or ConfusionMatrixDisplay.from_estimator.\n",
      "  warnings.warn(msg, category=FutureWarning)\n"
     ]
    },
    {
     "data": {
      "image/png": "[encoded data removed]",
      "text/plain": [
       "<Figure size 432x288 with 2 Axes>"
      ]
     },
     "metadata": {
      "needs_background": "light"
     },
     "output_type": "display_data"
    },
    {
     "name": "stdout",
     "output_type": "stream",
     "text": [
      "[[62733 22540]\n",
      " [  104   114]]\n",
      "Test set results: Recall = 0.5229357798165137, Precision = 0.005032223889820782, ROC_AUC = 0.6641329084773275, balanced accuracy = 0.6293041335023606,  Costs are 73245.92\n",
      "--- 18.200374126434326 seconds ---\n"
     ]
    },
    {
     "name": "stderr",
     "output_type": "stream",
     "text": [
      "C:\\Users\\jan.deleeuw\\AppData\\Local\\Temp\\ipykernel_12192\\1559080196.py:52: DataConversionWarning: A column-vector y was passed when a 1d array was expected. Please change the shape of y to (n_samples,), for example using ravel().\n",
      "  model.fit(X_train, y_train)\n"
     ]
    },
    {
     "name": "stdout",
     "output_type": "stream",
     "text": [
      "71118.02\n"
     ]
    },
    {
     "name": "stderr",
     "output_type": "stream",
     "text": [
      "C:\\Users\\jan.deleeuw\\Anaconda3\\lib\\site-packages\\sklearn\\utils\\deprecation.py:87: FutureWarning: Function plot_confusion_matrix is deprecated; Function `plot_confusion_matrix` is deprecated in 1.0 and will be removed in 1.2. Use one of the class methods: ConfusionMatrixDisplay.from_predictions or ConfusionMatrixDisplay.from_estimator.\n",
      "  warnings.warn(msg, category=FutureWarning)\n"
     ]
    },
    {
     "data": {
      "image/png": "[encoded data removed]",
      "text/plain": [
       "<Figure size 432x288 with 2 Axes>"
      ]
     },
     "metadata": {
      "needs_background": "light"
     },
     "output_type": "display_data"
    },
    {
     "name": "stdout",
     "output_type": "stream",
     "text": [
      "[[65822 19451]\n",
      " [  113   105]]\n",
      "Test set results: Recall = 0.481651376146789, Precision = 0.00536919615463285, ROC_AUC = 0.671128519013461, balanced accuracy = 0.6267743470862122,  Costs are 71118.02\n",
      "--- 16.499786853790283 seconds ---\n"
     ]
    }
   ],
   "source": [
    "random_state = 1\n",
    "model_RF = RandomForestClassifier(random_state=random_state)\n",
    "\n",
    "param_grid = {\n",
    "    'criterion': ['entropy'],\n",
    "    'max_depth': [5, None],\n",
    "    'max_features': [2, 5, None],\n",
    "    'min_samples_split': [5, None],\n",
    "    'n_estimators': [100, 500],\n",
    "    'class_weight': ['balanced']}\n",
    "\n",
    "#LATENT REPRESENTATION AS INPUT results \n",
    "#Autoencoder\n",
    "#best_params_AE = find_optimal_parameters(model_RF, param_grid, cost_scorer, 3, AE_latent_representations_validate, y_validate)\n",
    "start_time = time.time()\n",
    "best_params_AE_RF = {'n_estimators': 200, 'min_samples_split': 5, 'max_features': None,\n",
    "                     'max_depth': 10, 'criterion': 'entropy', 'class_weight': 'balanced'}\n",
    "evaluate_DH_performance('RF', best_params_AE_RF, AE_latent_representations_validate, y_validate, AE_latent_representations_test, y_test)   \n",
    "print(\"--- %s seconds ---\" % (time.time() - start_time))\n",
    "\n",
    "# #VAE\n",
    "start_time = time.time()\n",
    "# best_params_VAE = find_optimal_parameters(model_RF, param_grid, 'roc_auc', 3, VAE_latent_representations_validate, y_validate)\n",
    "evaluate_DH_performance('RF', best_params_VAE_RF, VAE_latent_representations_validate, y_validate, VAE_latent_representations_test, y_test)   \n",
    "print(\"--- %s seconds ---\" % (time.time() - start_time))\n",
    "\n",
    "# #DAE\n",
    "start_time = time.time()\n",
    "# best_params_DAE = find_optimal_parameters(model_RF, param_grid, 'roc_auc', 3, DAE_latent_representations_validate, y_validate)\n",
    "evaluate_DH_performance('RF', best_params_DAE_RF, DAE_latent_representations_validate, y_validate, DAE_latent_representations_test, y_test) \n",
    "print(\"--- %s seconds ---\" % (time.time() - start_time))"
   ]
  },
  {
   "cell_type": "markdown",
   "id": "41f027f6",
   "metadata": {
    "hidden": true
   },
   "source": [
    "### 2.1.2 Reconstruction error as input "
   ]
  },
  {
   "cell_type": "code",
   "execution_count": 68,
   "id": "aa1c186c",
   "metadata": {
    "hidden": true,
    "scrolled": false
   },
   "outputs": [
    {
     "name": "stderr",
     "output_type": "stream",
     "text": [
      "C:\\Users\\jan.deleeuw\\AppData\\Local\\Temp\\ipykernel_12192\\770339783.py:112: DataConversionWarning: A column-vector y was passed when a 1d array was expected. Please change the shape of y to (n_samples,), for example using ravel().\n",
      "  model.fit(X_train, y_train)\n"
     ]
    },
    {
     "name": "stdout",
     "output_type": "stream",
     "text": [
      "54283.68\n"
     ]
    },
    {
     "name": "stderr",
     "output_type": "stream",
     "text": [
      "C:\\Users\\jan.deleeuw\\Anaconda3\\lib\\site-packages\\sklearn\\utils\\deprecation.py:87: FutureWarning: Function plot_confusion_matrix is deprecated; Function `plot_confusion_matrix` is deprecated in 1.0 and will be removed in 1.2. Use one of the class methods: ConfusionMatrixDisplay.from_predictions or ConfusionMatrixDisplay.from_estimator.\n",
      "  warnings.warn(msg, category=FutureWarning)\n"
     ]
    },
    {
     "data": {
      "image/png": "[encoded data removed]",
      "text/plain": [
       "<Figure size 432x288 with 2 Axes>"
      ]
     },
     "metadata": {
      "needs_background": "light"
     },
     "output_type": "display_data"
    },
    {
     "name": "stdout",
     "output_type": "stream",
     "text": [
      "[[74830 10443]\n",
      " [  108   110]]\n",
      "Test set results: Recall = 0.5045871559633027, Precision = 0.010423576234246185, ROC_AUC = 0.7425179593183556, balanced accuracy = 0.6910608313912887,  Costs are 54283.68\n"
     ]
    },
    {
     "name": "stderr",
     "output_type": "stream",
     "text": [
      "C:\\Users\\jan.deleeuw\\AppData\\Local\\Temp\\ipykernel_12192\\770339783.py:222: DataConversionWarning: A column-vector y was passed when a 1d array was expected. Please change the shape of y to (n_samples,), for example using ravel().\n",
      "  model_optimized.fit(X_validate, y_validate)\n"
     ]
    },
    {
     "name": "stdout",
     "output_type": "stream",
     "text": [
      "Total misclassification costs are  51140.82000000001\n",
      "TN    74830\n",
      "FP    10443\n",
      "TP      110\n",
      "FN      108\n",
      "Name: classification, dtype: int64\n"
     ]
    },
    {
     "name": "stderr",
     "output_type": "stream",
     "text": [
      "C:\\Users\\jan.deleeuw\\AppData\\Local\\Temp\\ipykernel_12192\\770339783.py:112: DataConversionWarning: A column-vector y was passed when a 1d array was expected. Please change the shape of y to (n_samples,), for example using ravel().\n",
      "  model.fit(X_train, y_train)\n"
     ]
    },
    {
     "name": "stdout",
     "output_type": "stream",
     "text": [
      "54247.92\n"
     ]
    },
    {
     "name": "stderr",
     "output_type": "stream",
     "text": [
      "C:\\Users\\jan.deleeuw\\Anaconda3\\lib\\site-packages\\sklearn\\utils\\deprecation.py:87: FutureWarning: Function plot_confusion_matrix is deprecated; Function `plot_confusion_matrix` is deprecated in 1.0 and will be removed in 1.2. Use one of the class methods: ConfusionMatrixDisplay.from_predictions or ConfusionMatrixDisplay.from_estimator.\n",
      "  warnings.warn(msg, category=FutureWarning)\n"
     ]
    },
    {
     "data": {
      "image/png": "[encoded data removed]",
      "text/plain": [
       "<Figure size 432x288 with 2 Axes>"
      ]
     },
     "metadata": {
      "needs_background": "light"
     },
     "output_type": "display_data"
    },
    {
     "name": "stdout",
     "output_type": "stream",
     "text": [
      "[[79711  5562]\n",
      " [  132    86]]\n",
      "Test set results: Recall = 0.3944954128440367, Precision = 0.015226628895184136, ROC_AUC = 0.7323293121057388, balanced accuracy = 0.6646348043310869,  Costs are 54247.92\n"
     ]
    },
    {
     "name": "stderr",
     "output_type": "stream",
     "text": [
      "C:\\Users\\jan.deleeuw\\AppData\\Local\\Temp\\ipykernel_12192\\770339783.py:222: DataConversionWarning: A column-vector y was passed when a 1d array was expected. Please change the shape of y to (n_samples,), for example using ravel().\n",
      "  model_optimized.fit(X_validate, y_validate)\n"
     ]
    },
    {
     "name": "stdout",
     "output_type": "stream",
     "text": [
      "Total misclassification costs are  76721.37000000007\n",
      "TN    79711\n",
      "FP     5562\n",
      "FN      132\n",
      "TP       86\n",
      "Name: classification, dtype: int64\n"
     ]
    },
    {
     "name": "stderr",
     "output_type": "stream",
     "text": [
      "C:\\Users\\jan.deleeuw\\AppData\\Local\\Temp\\ipykernel_12192\\770339783.py:112: DataConversionWarning: A column-vector y was passed when a 1d array was expected. Please change the shape of y to (n_samples,), for example using ravel().\n",
      "  model.fit(X_train, y_train)\n"
     ]
    },
    {
     "name": "stdout",
     "output_type": "stream",
     "text": [
      "54664.72\n"
     ]
    },
    {
     "name": "stderr",
     "output_type": "stream",
     "text": [
      "C:\\Users\\jan.deleeuw\\Anaconda3\\lib\\site-packages\\sklearn\\utils\\deprecation.py:87: FutureWarning: Function plot_confusion_matrix is deprecated; Function `plot_confusion_matrix` is deprecated in 1.0 and will be removed in 1.2. Use one of the class methods: ConfusionMatrixDisplay.from_predictions or ConfusionMatrixDisplay.from_estimator.\n",
      "  warnings.warn(msg, category=FutureWarning)\n"
     ]
    },
    {
     "data": {
      "image/png": "[encoded data removed]",
      "text/plain": [
       "<Figure size 432x288 with 2 Axes>"
      ]
     },
     "metadata": {
      "needs_background": "light"
     },
     "output_type": "display_data"
    },
    {
     "name": "stdout",
     "output_type": "stream",
     "text": [
      "[[77843  7430]\n",
      " [  124    94]]\n",
      "Test set results: Recall = 0.43119266055045874, Precision = 0.012493354598617756, ROC_AUC = 0.7283857178837487, balanced accuracy = 0.672030371530961,  Costs are 54664.72\n"
     ]
    },
    {
     "name": "stderr",
     "output_type": "stream",
     "text": [
      "C:\\Users\\jan.deleeuw\\AppData\\Local\\Temp\\ipykernel_12192\\770339783.py:222: DataConversionWarning: A column-vector y was passed when a 1d array was expected. Please change the shape of y to (n_samples,), for example using ravel().\n",
      "  model_optimized.fit(X_validate, y_validate)\n"
     ]
    },
    {
     "name": "stdout",
     "output_type": "stream",
     "text": [
      "Total misclassification costs are  78028.08000000007\n",
      "TN    77843\n",
      "FP     7430\n",
      "FN      124\n",
      "TP       94\n",
      "Name: classification, dtype: int64\n"
     ]
    },
    {
     "data": {
      "text/plain": [
       "78028.08000000007"
      ]
     },
     "execution_count": 68,
     "metadata": {},
     "output_type": "execute_result"
    }
   ],
   "source": [
    "# RECONSTRUCTION ERROR AS INPUT \n",
    "random_state = 1\n",
    "model_RF = RandomForestClassifier(random_state=random_state)\n",
    "\n",
    "param_grid = {\n",
    "    'criterion': ['entropy'],\n",
    "    'max_depth': [5,10, None],\n",
    "    'max_features': [2, 5, None],\n",
    "    'min_samples_split': [5, 10, None],\n",
    "    'n_estimators': [100, 500],\n",
    "    'class_weight': ['balanced', None]}\n",
    "\n",
    "#Autoencoder MSE\n",
    "#best_params_AE = find_optimal_parameters(model_RF, param_grid, 'balanced_accuracy', 3, AE_reconstruction_error_validate_mse, y_validate)\n",
    "best_params_AE_RF = {'n_estimators': 100, 'min_samples_split': 10, 'max_features': None, 'max_depth': 5, \n",
    "                     'criterion': 'entropy', 'class_weight': 'balanced'}\n",
    "#evaluate_DH_performance('RF', best_params_AE_RF, AE_reconstruction_error_validate_mse, y_validate,\n",
    "#                        AE_reconstruction_error_test_mse, y_test)  \n",
    "X_test_, y_test, y_pred = get_outcomes('RF', best_params_AE_RF, AE_reconstruction_error_validate_mse, y_validate,\n",
    "                        AE_reconstruction_error_test_mse, y_test)\n",
    "cost_test_set(X_test, y_test, y_pred)\n",
    "\n",
    "#Autoencoder MAE\n",
    "#evaluate_DH_performance('RF', best_params_AE_RF, AE_reconstruction_error_validate_mae, y_validate,\n",
    "#                        AE_reconstruction_error_test_mae, y_test)   \n",
    "\n",
    "#VAE MSE\n",
    "# start_time = time.time()\n",
    "# #evaluate_DH_performance('RF', best_params_VAE_RF, VAE_reconstruction_error_validate_mse, y_validate,\n",
    "# #                        VAE_reconstruction_error_test_mse, y_test)   \n",
    "X_test_, y_test, y_pred = get_outcomes('RF', best_params_VAE_RF, VAE_reconstruction_error_validate_mse, y_validate,\n",
    "                        VAE_reconstruction_error_test_mse, y_test)\n",
    "cost_test_set(X_test, y_test, y_pred)\n",
    "# print(\"--- %s seconds ---\" % (time.time() - start_time))\n",
    "\n",
    "#VAE MAE\n",
    "#evaluate_DH_performance('RF', best_params_VAE_RF, VAE_reconstruction_error_validate_mae, y_validate,\n",
    "#                        VAE_reconstruction_error_test_mae, y_test)   \n",
    "\n",
    "#DAE MSE\n",
    "# start_time = time.time()\n",
    "# #evaluate_DH_performance('RF', best_params_DAE_RF, DAE_reconstruction_error_validate_mse, y_validate,\n",
    "# #                        DAE_reconstruction_error_test_mse, y_test)   \n",
    "X_test_, y_test, y_pred = get_outcomes('RF', best_params_DAE_RF, DAE_reconstruction_error_validate_mse, y_validate,\n",
    "                        DAE_reconstruction_error_test_mse, y_test)\n",
    "cost_test_set(X_test, y_test, y_pred)\n",
    "# print(\"--- %s seconds ---\" % (time.time() - start_time))\n",
    "\n",
    "#DAE MAE\n",
    "#evaluate_DH_performance('RF', best_params_DAE_RF, DAE_reconstruction_error_validate_mae, y_validate,\n",
    "#                        DAE_reconstruction_error_test_mae, y_test)   "
   ]
  },
  {
   "cell_type": "markdown",
   "id": "d5d32137",
   "metadata": {
    "heading_collapsed": true,
    "hidden": true
   },
   "source": [
    "## 2.2 Logistic Regression"
   ]
  },
  {
   "cell_type": "markdown",
   "id": "a4758e9e",
   "metadata": {
    "hidden": true
   },
   "source": [
    "### 2.2.1 Latent representation as input "
   ]
  },
  {
   "cell_type": "code",
   "execution_count": 45,
   "id": "a93bb728",
   "metadata": {
    "hidden": true,
    "scrolled": true
   },
   "outputs": [
    {
     "name": "stderr",
     "output_type": "stream",
     "text": [
      "C:\\Users\\jan.deleeuw\\Anaconda3\\lib\\site-packages\\sklearn\\utils\\validation.py:993: DataConversionWarning: A column-vector y was passed when a 1d array was expected. Please change the shape of y to (n_samples, ), for example using ravel().\n",
      "  y = column_or_1d(y, warn=True)\n"
     ]
    },
    {
     "name": "stdout",
     "output_type": "stream",
     "text": [
      "100771.16\n"
     ]
    },
    {
     "name": "stderr",
     "output_type": "stream",
     "text": [
      "C:\\Users\\jan.deleeuw\\Anaconda3\\lib\\site-packages\\sklearn\\utils\\deprecation.py:87: FutureWarning: Function plot_confusion_matrix is deprecated; Function `plot_confusion_matrix` is deprecated in 1.0 and will be removed in 1.2. Use one of the class methods: ConfusionMatrixDisplay.from_predictions or ConfusionMatrixDisplay.from_estimator.\n",
      "  warnings.warn(msg, category=FutureWarning)\n"
     ]
    },
    {
     "data": {
      "image/png": "[encoded data removed]",
      "text/plain": [
       "<Figure size 432x288 with 2 Axes>"
      ]
     },
     "metadata": {
      "needs_background": "light"
     },
     "output_type": "display_data"
    },
    {
     "name": "stdout",
     "output_type": "stream",
     "text": [
      "[[45134 40139]\n",
      " [   98   120]]\n",
      "Test set results: Recall = 0.5504587155963303, Precision = 0.0029806999677090837, ROC_AUC = 0.575903221568891, balanced accuracy = 0.5398735007273455,  Costs are 100771.16\n"
     ]
    },
    {
     "name": "stderr",
     "output_type": "stream",
     "text": [
      "C:\\Users\\jan.deleeuw\\Anaconda3\\lib\\site-packages\\sklearn\\utils\\validation.py:993: DataConversionWarning: A column-vector y was passed when a 1d array was expected. Please change the shape of y to (n_samples, ), for example using ravel().\n",
      "  y = column_or_1d(y, warn=True)\n",
      "C:\\Users\\jan.deleeuw\\Anaconda3\\lib\\site-packages\\sklearn\\svm\\_base.py:1206: ConvergenceWarning: Liblinear failed to converge, increase the number of iterations.\n",
      "  warnings.warn(\n",
      "C:\\Users\\jan.deleeuw\\Anaconda3\\lib\\site-packages\\sklearn\\utils\\deprecation.py:87: FutureWarning: Function plot_confusion_matrix is deprecated; Function `plot_confusion_matrix` is deprecated in 1.0 and will be removed in 1.2. Use one of the class methods: ConfusionMatrixDisplay.from_predictions or ConfusionMatrixDisplay.from_estimator.\n",
      "  warnings.warn(msg, category=FutureWarning)\n"
     ]
    },
    {
     "name": "stdout",
     "output_type": "stream",
     "text": [
      "86945.94\n"
     ]
    },
    {
     "data": {
      "image/png": "[encoded data removed]",
      "text/plain": [
       "<Figure size 432x288 with 2 Axes>"
      ]
     },
     "metadata": {
      "needs_background": "light"
     },
     "output_type": "display_data"
    },
    {
     "name": "stdout",
     "output_type": "stream",
     "text": [
      "[[49921 35352]\n",
      " [   81   137]]\n",
      "Test set results: Recall = 0.6284403669724771, Precision = 0.0038603510947054017, ROC_AUC = 0.6644197906411109, balanced accuracy = 0.6069329999697679,  Costs are 86945.94\n"
     ]
    },
    {
     "name": "stderr",
     "output_type": "stream",
     "text": [
      "C:\\Users\\jan.deleeuw\\Anaconda3\\lib\\site-packages\\sklearn\\utils\\validation.py:993: DataConversionWarning: A column-vector y was passed when a 1d array was expected. Please change the shape of y to (n_samples, ), for example using ravel().\n",
      "  y = column_or_1d(y, warn=True)\n"
     ]
    },
    {
     "name": "stdout",
     "output_type": "stream",
     "text": [
      "79278.06\n"
     ]
    },
    {
     "name": "stderr",
     "output_type": "stream",
     "text": [
      "C:\\Users\\jan.deleeuw\\Anaconda3\\lib\\site-packages\\sklearn\\utils\\deprecation.py:87: FutureWarning: Function plot_confusion_matrix is deprecated; Function `plot_confusion_matrix` is deprecated in 1.0 and will be removed in 1.2. Use one of the class methods: ConfusionMatrixDisplay.from_predictions or ConfusionMatrixDisplay.from_estimator.\n",
      "  warnings.warn(msg, category=FutureWarning)\n"
     ]
    },
    {
     "data": {
      "image/png": "[encoded data removed]",
      "text/plain": [
       "<Figure size 432x288 with 2 Axes>"
      ]
     },
     "metadata": {
      "needs_background": "light"
     },
     "output_type": "display_data"
    },
    {
     "name": "stdout",
     "output_type": "stream",
     "text": [
      "[[58130 27143]\n",
      " [   99   119]]\n",
      "Test set results: Recall = 0.5458715596330275, Precision = 0.004365050253099552, ROC_AUC = 0.6620532952071796, balanced accuracy = 0.6137822376636635,  Costs are 79278.06\n"
     ]
    }
   ],
   "source": [
    "lr = LogisticRegression(random_state = random_state)\n",
    "\n",
    "param_grid = {\n",
    "    'penalty': ['l1', 'l2', 'elasticnet'],\n",
    "    'class_weight': ['balanced', None],\n",
    "    'solver': ['liblinear', 'lbfgs', 'saga']}\n",
    "\n",
    "#LATENT REPRESENTATION AS INPUT results \n",
    "#Autoencoder\n",
    "#best_params_AE = find_optimal_parameters(lr, param_grid, 'roc_auc', 3, AE_latent_representations_validate, y_validate)\n",
    "evaluate_DH_performance('LR', best_params_AE_LR, AE_latent_representations_validate, y_validate, AE_latent_representations_test, y_test)\n",
    "\n",
    "#VAE\n",
    "#best_params_VAE = find_optimal_parameters(lr, param_grid, 'roc_auc', 3, VAE_latent_representations_validate, y_validate)\n",
    "evaluate_DH_performance('LR', best_params_VAE_LR, VAE_latent_representations_validate, y_validate, VAE_latent_representations_test, y_test)\n",
    "\n",
    "#DAE\n",
    "#best_params_DAE = find_optimal_parameters(lr, param_grid, 'roc_auc', 3, DAE_latent_representations_validate, y_validate)\n",
    "evaluate_DH_performance('LR', best_params_DAE_LR, DAE_latent_representations_validate, y_validate, DAE_latent_representations_test, y_test)"
   ]
  },
  {
   "cell_type": "markdown",
   "id": "6d532dee",
   "metadata": {
    "hidden": true
   },
   "source": [
    "### 2.2.2 Reconstruction error as input "
   ]
  },
  {
   "cell_type": "code",
   "execution_count": 32,
   "id": "c66f2a1f",
   "metadata": {
    "hidden": true,
    "scrolled": true
   },
   "outputs": [
    {
     "name": "stderr",
     "output_type": "stream",
     "text": [
      "C:\\Users\\jan.deleeuw\\Anaconda3\\lib\\site-packages\\sklearn\\utils\\validation.py:993: DataConversionWarning: A column-vector y was passed when a 1d array was expected. Please change the shape of y to (n_samples, ), for example using ravel().\n",
      "  y = column_or_1d(y, warn=True)\n"
     ]
    },
    {
     "name": "stdout",
     "output_type": "stream",
     "text": [
      "74591.52\n"
     ]
    },
    {
     "name": "stderr",
     "output_type": "stream",
     "text": [
      "C:\\Users\\jan.deleeuw\\Anaconda3\\lib\\site-packages\\sklearn\\utils\\deprecation.py:87: FutureWarning: Function plot_confusion_matrix is deprecated; Function `plot_confusion_matrix` is deprecated in 1.0 and will be removed in 1.2. Use one of the class methods: ConfusionMatrixDisplay.from_predictions or ConfusionMatrixDisplay.from_estimator.\n",
      "  warnings.warn(msg, category=FutureWarning)\n"
     ]
    },
    {
     "data": {
      "image/png": "[encoded data removed]",
      "text/plain": [
       "<Figure size 432x288 with 2 Axes>"
      ]
     },
     "metadata": {
      "needs_background": "light"
     },
     "output_type": "display_data"
    },
    {
     "name": "stdout",
     "output_type": "stream",
     "text": [
      "[[62742 22531]\n",
      " [  108   110]]\n",
      "Test set results: Recall = 0.5045871559633027, Precision = 0.00485844264829292, ROC_AUC = 0.6694573618223694, balanced accuracy = 0.6201825932619862,  Costs are 74591.52\n"
     ]
    },
    {
     "name": "stderr",
     "output_type": "stream",
     "text": [
      "C:\\Users\\jan.deleeuw\\Anaconda3\\lib\\site-packages\\sklearn\\utils\\validation.py:993: DataConversionWarning: A column-vector y was passed when a 1d array was expected. Please change the shape of y to (n_samples, ), for example using ravel().\n",
      "  y = column_or_1d(y, warn=True)\n"
     ]
    },
    {
     "name": "stdout",
     "output_type": "stream",
     "text": [
      "70857.98\n"
     ]
    },
    {
     "name": "stderr",
     "output_type": "stream",
     "text": [
      "C:\\Users\\jan.deleeuw\\Anaconda3\\lib\\site-packages\\sklearn\\utils\\deprecation.py:87: FutureWarning: Function plot_confusion_matrix is deprecated; Function `plot_confusion_matrix` is deprecated in 1.0 and will be removed in 1.2. Use one of the class methods: ConfusionMatrixDisplay.from_predictions or ConfusionMatrixDisplay.from_estimator.\n",
      "  warnings.warn(msg, category=FutureWarning)\n"
     ]
    },
    {
     "data": {
      "image/png": "[encoded data removed]",
      "text/plain": [
       "<Figure size 432x288 with 2 Axes>"
      ]
     },
     "metadata": {
      "needs_background": "light"
     },
     "output_type": "display_data"
    },
    {
     "name": "stdout",
     "output_type": "stream",
     "text": [
      "[[62332 22941]\n",
      " [   95   123]]\n",
      "Test set results: Recall = 0.5642201834862385, Precision = 0.0053329864724245574, ROC_AUC = 0.7046025517396528, balanced accuracy = 0.6475950635395847,  Costs are 70857.98\n"
     ]
    },
    {
     "name": "stderr",
     "output_type": "stream",
     "text": [
      "C:\\Users\\jan.deleeuw\\Anaconda3\\lib\\site-packages\\sklearn\\utils\\validation.py:993: DataConversionWarning: A column-vector y was passed when a 1d array was expected. Please change the shape of y to (n_samples, ), for example using ravel().\n",
      "  y = column_or_1d(y, warn=True)\n"
     ]
    },
    {
     "name": "stdout",
     "output_type": "stream",
     "text": [
      "69355.70000000001\n"
     ]
    },
    {
     "name": "stderr",
     "output_type": "stream",
     "text": [
      "C:\\Users\\jan.deleeuw\\Anaconda3\\lib\\site-packages\\sklearn\\utils\\deprecation.py:87: FutureWarning: Function plot_confusion_matrix is deprecated; Function `plot_confusion_matrix` is deprecated in 1.0 and will be removed in 1.2. Use one of the class methods: ConfusionMatrixDisplay.from_predictions or ConfusionMatrixDisplay.from_estimator.\n",
      "  warnings.warn(msg, category=FutureWarning)\n"
     ]
    },
    {
     "data": {
      "image/png": "[encoded data removed]",
      "text/plain": [
       "<Figure size 432x288 with 2 Axes>"
      ]
     },
     "metadata": {
      "needs_background": "light"
     },
     "output_type": "display_data"
    },
    {
     "name": "stdout",
     "output_type": "stream",
     "text": [
      "[[66871 18402]\n",
      " [  113   105]]\n",
      "Test set results: Recall = 0.481651376146789, Precision = 0.005673528934997569, ROC_AUC = 0.6706366825942841, balanced accuracy = 0.6329251802925026,  Costs are 69355.70000000001\n"
     ]
    },
    {
     "name": "stderr",
     "output_type": "stream",
     "text": [
      "C:\\Users\\jan.deleeuw\\Anaconda3\\lib\\site-packages\\sklearn\\utils\\validation.py:993: DataConversionWarning: A column-vector y was passed when a 1d array was expected. Please change the shape of y to (n_samples, ), for example using ravel().\n",
      "  y = column_or_1d(y, warn=True)\n"
     ]
    },
    {
     "name": "stdout",
     "output_type": "stream",
     "text": [
      "71757.4\n"
     ]
    },
    {
     "name": "stderr",
     "output_type": "stream",
     "text": [
      "C:\\Users\\jan.deleeuw\\Anaconda3\\lib\\site-packages\\sklearn\\svm\\_base.py:1206: ConvergenceWarning: Liblinear failed to converge, increase the number of iterations.\n",
      "  warnings.warn(\n",
      "C:\\Users\\jan.deleeuw\\Anaconda3\\lib\\site-packages\\sklearn\\utils\\deprecation.py:87: FutureWarning: Function plot_confusion_matrix is deprecated; Function `plot_confusion_matrix` is deprecated in 1.0 and will be removed in 1.2. Use one of the class methods: ConfusionMatrixDisplay.from_predictions or ConfusionMatrixDisplay.from_estimator.\n",
      "  warnings.warn(msg, category=FutureWarning)\n"
     ]
    },
    {
     "data": {
      "image/png": "[encoded data removed]",
      "text/plain": [
       "<Figure size 432x288 with 2 Axes>"
      ]
     },
     "metadata": {
      "needs_background": "light"
     },
     "output_type": "display_data"
    },
    {
     "name": "stdout",
     "output_type": "stream",
     "text": [
      "[[64024 21249]\n",
      " [  106   112]]\n",
      "Test set results: Recall = 0.5137614678899083, Precision = 0.005243200224708581, ROC_AUC = 0.6738111066271016, balanced accuracy = 0.6322867827529004,  Costs are 71757.4\n"
     ]
    },
    {
     "name": "stderr",
     "output_type": "stream",
     "text": [
      "C:\\Users\\jan.deleeuw\\Anaconda3\\lib\\site-packages\\sklearn\\utils\\validation.py:993: DataConversionWarning: A column-vector y was passed when a 1d array was expected. Please change the shape of y to (n_samples, ), for example using ravel().\n",
      "  y = column_or_1d(y, warn=True)\n"
     ]
    },
    {
     "name": "stdout",
     "output_type": "stream",
     "text": [
      "71991.34\n"
     ]
    },
    {
     "name": "stderr",
     "output_type": "stream",
     "text": [
      "C:\\Users\\jan.deleeuw\\Anaconda3\\lib\\site-packages\\sklearn\\utils\\deprecation.py:87: FutureWarning: Function plot_confusion_matrix is deprecated; Function `plot_confusion_matrix` is deprecated in 1.0 and will be removed in 1.2. Use one of the class methods: ConfusionMatrixDisplay.from_predictions or ConfusionMatrixDisplay.from_estimator.\n",
      "  warnings.warn(msg, category=FutureWarning)\n"
     ]
    },
    {
     "data": {
      "image/png": "[encoded data removed]",
      "text/plain": [
       "<Figure size 432x288 with 2 Axes>"
      ]
     },
     "metadata": {
      "needs_background": "light"
     },
     "output_type": "display_data"
    },
    {
     "name": "stdout",
     "output_type": "stream",
     "text": [
      "[[68137 17136]\n",
      " [  127    91]]\n",
      "Test set results: Recall = 0.41743119266055045, Precision = 0.005282405526208858, ROC_AUC = 0.6498253262565121, balanced accuracy = 0.6082383057459168,  Costs are 71991.34\n"
     ]
    },
    {
     "name": "stderr",
     "output_type": "stream",
     "text": [
      "C:\\Users\\jan.deleeuw\\Anaconda3\\lib\\site-packages\\sklearn\\utils\\validation.py:993: DataConversionWarning: A column-vector y was passed when a 1d array was expected. Please change the shape of y to (n_samples, ), for example using ravel().\n",
      "  y = column_or_1d(y, warn=True)\n"
     ]
    },
    {
     "name": "stdout",
     "output_type": "stream",
     "text": [
      "73687.18\n"
     ]
    },
    {
     "name": "stderr",
     "output_type": "stream",
     "text": [
      "C:\\Users\\jan.deleeuw\\Anaconda3\\lib\\site-packages\\sklearn\\utils\\deprecation.py:87: FutureWarning: Function plot_confusion_matrix is deprecated; Function `plot_confusion_matrix` is deprecated in 1.0 and will be removed in 1.2. Use one of the class methods: ConfusionMatrixDisplay.from_predictions or ConfusionMatrixDisplay.from_estimator.\n",
      "  warnings.warn(msg, category=FutureWarning)\n"
     ]
    },
    {
     "data": {
      "image/png": "[encoded data removed]",
      "text/plain": [
       "<Figure size 432x288 with 2 Axes>"
      ]
     },
     "metadata": {
      "needs_background": "light"
     },
     "output_type": "display_data"
    },
    {
     "name": "stdout",
     "output_type": "stream",
     "text": [
      "[[59838 25435]\n",
      " [   91   127]]\n",
      "Test set results: Recall = 0.5825688073394495, Precision = 0.00496831233862765, ROC_AUC = 0.7060952750028859, balanced accuracy = 0.6421457548594331,  Costs are 73687.18\n"
     ]
    }
   ],
   "source": [
    "# RECONSTRUCTION ERROR AS INPUT \n",
    "random_state = 1\n",
    "lr = LogisticRegression(random_state = random_state)\n",
    "\n",
    "#Autoencoder MSE\n",
    "#best_params_AE = find_optimal_parameters(lr, param_grid, 'roc_auc', 3, AE_reconstruction_error_validate_mae, y_validate)\n",
    "#evaluate_DH_performance('LR', best_params_AE_LR, AE_reconstruction_error_validate_mse, y_validate,\n",
    "#                        AE_reconstruction_error_test_mse, y_test)\n",
    "X_test, y_test, y_pred = get_outcomes('LR', best_params_AE_LR, AE_reconstruction_error_validate_mse, y_validate,\n",
    "                        AE_reconstruction_error_test_mse, y_test)\n",
    "cost_test_set(X_test, y_test, y_pred)\n",
    "\n",
    "# #Autoencoder MAE\n",
    "# evaluate_DH_performance('LR', best_params_AE_LR, AE_reconstruction_error_validate_mae, y_validate,\n",
    "#                         AE_reconstruction_error_test_mae, y_test)   \n",
    "\n",
    "#VAE MSE\n",
    "# evaluate_DH_performance('LR', best_params_VAE_LR, VAE_reconstruction_error_validate_mse, y_validate,\n",
    "#                         VAE_reconstruction_error_test_mse, y_test)   \n",
    "X_test, y_test, y_pred = get_outcomes('LR', best_params_VAE_LR, VAE_reconstruction_error_validate_mse, y_validate,\n",
    "                        VAE_reconstruction_error_test_mse, y_test)\n",
    "cost_test_set(X_test, y_test, y_pred)\n",
    "\n",
    "# #VAE MAE\n",
    "# evaluate_DH_performance('LR', best_params_VAE_LR, VAE_reconstruction_error_validate_mae, y_validate,\n",
    "#                         VAE_reconstruction_error_test_mae, y_test)   \n",
    "\n",
    "#DAE MSE\n",
    "# evaluate_DH_performance('LR', best_params_DAE_LR, DAE_reconstruction_error_validate_mse, y_validate,\n",
    "#                         DAE_reconstruction_error_test_mse, y_test)   \n",
    "X_test, y_test, y_pred = get_outcomes('LR', best_params_DAE_LR, DAE_reconstruction_error_validate_mse, y_validate,\n",
    "                        DAE_reconstruction_error_test_mse, y_test)\n",
    "cost_test_set(X_test, y_test, y_pred)\n",
    "\n",
    "# #DAE MAE\n",
    "# evaluate_DH_performance('LR', best_params_DAE_LR, DAE_reconstruction_error_validate_mae, y_validate,\n",
    "#                         DAE_reconstruction_error_test_mae, y_test)   "
   ]
  },
  {
   "cell_type": "markdown",
   "id": "960e6139",
   "metadata": {
    "heading_collapsed": true,
    "hidden": true
   },
   "source": [
    "## 2.3 SVM"
   ]
  },
  {
   "cell_type": "markdown",
   "id": "3be0f954",
   "metadata": {
    "hidden": true
   },
   "source": [
    "### 2.3.1 Latent representation as input"
   ]
  },
  {
   "cell_type": "code",
   "execution_count": null,
   "id": "05cdb3a3",
   "metadata": {
    "hidden": true
   },
   "outputs": [],
   "source": [
    "#Regular SVM\n",
    "param_grid = {\n",
    "    'C': [1],\n",
    "    'kernel': ['linear', 'rbf ', 'sigmoid'],\n",
    "    'gamma': ['scale', 'auto'],\n",
    "    'class_weight': ['balanced']}\n",
    "\n",
    "svc = SVC(probability=True, random_state=random_state)\n",
    "\n",
    "#Autoencoder\n",
    "#best_params_AE = find_optimal_parameters(svc, param_grid, 'roc_auc', 3, AE_latent_representations_validate, y_validate)\n",
    "evaluate_DH_performance('svm', best_params_AE_SVM, AE_latent_representations_validate, y_validate, AE_latent_representations_test, y_test)\n",
    "\n",
    "#VAE\n",
    "#best_params_VAE = find_optimal_parameters(svc, param_grid, 'roc_auc', 3, VAE_latent_representations_validate, y_validate)\n",
    "evaluate_DH_performance('svm', best_params_VAE_SVM, VAE_latent_representations_validate, y_validate, VAE_latent_representations_test, y_test)\n",
    "\n",
    "#DAE\n",
    "#best_params_DAE = find_optimal_parameters(svc, param_grid, 'roc_auc', 3, DAE_latent_representations_validate, y_validate)\n",
    "evaluate_DH_performance('svm', best_params_DAE_SVM, DAE_latent_representations_validate, y_validate, DAE_latent_representations_test, y_test)"
   ]
  },
  {
   "cell_type": "markdown",
   "id": "16bf3c89",
   "metadata": {
    "hidden": true
   },
   "source": [
    "### 2.3.2 Reconstruction error as input "
   ]
  },
  {
   "cell_type": "code",
   "execution_count": null,
   "id": "4511da29",
   "metadata": {
    "hidden": true,
    "scrolled": true
   },
   "outputs": [],
   "source": [
    "# RECONSTRUCTION ERROR AS INPUT \n",
    "random_state = 1\n",
    "svc = SVC(probability=True, random_state=random_state)\n",
    "\n",
    "param_grid = {\n",
    "    'penalty': ['l1', 'l2', 'elasticnet'],\n",
    "    'class_weight': ['balanced', None],\n",
    "    'solver': ['liblinear', 'lbfgs', 'saga']}\n",
    "\n",
    "#Reconstruction error AS INPUT results \n",
    "#Autoencoder MSE\n",
    "#best_params_AE = find_optimal_parameters(svc, param_grid, 'roc_auc', 3, AE_reconstruction_error_validate_mse, y_validate)\n",
    "print('params used are ', best_params_AE_SVM)\n",
    "#evaluate_DH_performance('svm', best_params_AE_SVM, AE_reconstruction_error_validate_mse, y_validate,\n",
    "#                        AE_reconstruction_error_test_mse, y_test)   \n",
    "#Autoencoder MAE\n",
    "#evaluate_DH_performance('svm', best_params_AE_SVM, AE_reconstruction_error_validate_mae, y_validate,\n",
    "#                        AE_reconstruction_error_test_mae, y_test)   \n",
    "#VAE MSE\n",
    "evaluate_DH_performance('svm', best_params_VAE_SVM, VAE_reconstruction_error_validate_mse, y_validate,\n",
    "                        VAE_reconstruction_error_test_mse, y_test)   \n",
    "#VAE MAE\n",
    "evaluate_DH_performance('svm', best_params_VAE_SVM, VAE_reconstruction_error_validate_mae, y_validate,\n",
    "                        VAE_reconstruction_error_test_mae, y_test)   \n",
    "#DAE MSE\n",
    "evaluate_DH_performance('svm', best_params_DAE_SVM, DAE_reconstruction_error_validate_mse, y_validate,\n",
    "                        DAE_reconstruction_error_test_mse, y_test)   \n",
    "#DAE MAE\n",
    "evaluate_DH_performance('svm', best_params_DAE_SVM, DAE_reconstruction_error_validate_mae, y_validate,\n",
    "                        DAE_reconstruction_error_test_mae, y_test)   "
   ]
  },
  {
   "cell_type": "markdown",
   "id": "4f60b054",
   "metadata": {
    "heading_collapsed": true,
    "hidden": true
   },
   "source": [
    "## 2.4 XGBoost"
   ]
  },
  {
   "cell_type": "markdown",
   "id": "c01ac89b",
   "metadata": {
    "hidden": true
   },
   "source": [
    "### 2.4.1 Latent representation as input"
   ]
  },
  {
   "cell_type": "code",
   "execution_count": 47,
   "id": "953064ff",
   "metadata": {
    "hidden": true,
    "scrolled": true
   },
   "outputs": [
    {
     "name": "stdout",
     "output_type": "stream",
     "text": [
      "Fitting 3 folds for each of 10 candidates, totalling 30 fits\n",
      "{'tree_method': 'approx', 'subsample': 1, 'scale_pos_weight': 100, 'sampling_method': 'uniform', 'max_depth': 5, 'lambda': 1, 'gamma': 10, 'eta': 0.4, 'booster': 'dart', 'alpha': 1}\n",
      "best score is  0.6433693936890222\n",
      "99500.16\n"
     ]
    },
    {
     "name": "stderr",
     "output_type": "stream",
     "text": [
      "C:\\Users\\jan.deleeuw\\Anaconda3\\lib\\site-packages\\sklearn\\utils\\deprecation.py:87: FutureWarning: Function plot_confusion_matrix is deprecated; Function `plot_confusion_matrix` is deprecated in 1.0 and will be removed in 1.2. Use one of the class methods: ConfusionMatrixDisplay.from_predictions or ConfusionMatrixDisplay.from_estimator.\n",
      "  warnings.warn(msg, category=FutureWarning)\n"
     ]
    },
    {
     "data": {
      "image/png": "[encoded data removed]",
      "text/plain": [
       "<Figure size 432x288 with 2 Axes>"
      ]
     },
     "metadata": {
      "needs_background": "light"
     },
     "output_type": "display_data"
    },
    {
     "name": "stdout",
     "output_type": "stream",
     "text": [
      "[[38196 47077]\n",
      " [   60   158]]\n",
      "Test set results: Recall = 0.7247706422018348, Precision = 0.003344977241452313, ROC_AUC = 0.6470008844771304, balanced accuracy = 0.5863483574664727,  Costs are 99500.16\n",
      "Fitting 3 folds for each of 10 candidates, totalling 30 fits\n",
      "{'tree_method': 'auto', 'subsample': 1, 'scale_pos_weight': 1, 'sampling_method': 'uniform', 'max_depth': 5, 'lambda': 1, 'gamma': 10, 'eta': 0.4, 'booster': 'gbtree', 'alpha': 1}\n",
      "best score is  0.6570260892318885\n",
      "74169.32\n"
     ]
    },
    {
     "name": "stderr",
     "output_type": "stream",
     "text": [
      "C:\\Users\\jan.deleeuw\\Anaconda3\\lib\\site-packages\\sklearn\\utils\\deprecation.py:87: FutureWarning: Function plot_confusion_matrix is deprecated; Function `plot_confusion_matrix` is deprecated in 1.0 and will be removed in 1.2. Use one of the class methods: ConfusionMatrixDisplay.from_predictions or ConfusionMatrixDisplay.from_estimator.\n",
      "  warnings.warn(msg, category=FutureWarning)\n"
     ]
    },
    {
     "data": {
      "image/png": "[encoded data removed]",
      "text/plain": [
       "<Figure size 432x288 with 2 Axes>"
      ]
     },
     "metadata": {
      "needs_background": "light"
     },
     "output_type": "display_data"
    },
    {
     "name": "stdout",
     "output_type": "stream",
     "text": [
      "[[85267     6]\n",
      " [  218     0]]\n",
      "Test set results: Recall = 0.0, Precision = 0.0, ROC_AUC = 0.6620022718184025, balanced accuracy = 0.4999648188758458,  Costs are 74169.32\n",
      "Fitting 3 folds for each of 10 candidates, totalling 30 fits\n",
      "{'tree_method': 'auto', 'subsample': 1, 'scale_pos_weight': 1, 'sampling_method': 'uniform', 'max_depth': 5, 'lambda': 1, 'gamma': 10, 'eta': 0.4, 'booster': 'gbtree', 'alpha': 1}\n",
      "best score is  0.6593970658022801\n"
     ]
    },
    {
     "name": "stderr",
     "output_type": "stream",
     "text": [
      "C:\\Users\\jan.deleeuw\\Anaconda3\\lib\\site-packages\\sklearn\\metrics\\_classification.py:1318: UndefinedMetricWarning: Precision is ill-defined and being set to 0.0 due to no predicted samples. Use `zero_division` parameter to control this behavior.\n",
      "  _warn_prf(average, modifier, msg_start, len(result))\n",
      "C:\\Users\\jan.deleeuw\\Anaconda3\\lib\\site-packages\\sklearn\\utils\\deprecation.py:87: FutureWarning: Function plot_confusion_matrix is deprecated; Function `plot_confusion_matrix` is deprecated in 1.0 and will be removed in 1.2. Use one of the class methods: ConfusionMatrixDisplay.from_predictions or ConfusionMatrixDisplay.from_estimator.\n",
      "  warnings.warn(msg, category=FutureWarning)\n"
     ]
    },
    {
     "name": "stdout",
     "output_type": "stream",
     "text": [
      "74159.24\n"
     ]
    },
    {
     "data": {
      "image/png": "[encoded data removed]",
      "text/plain": [
       "<Figure size 432x288 with 2 Axes>"
      ]
     },
     "metadata": {
      "needs_background": "light"
     },
     "output_type": "display_data"
    },
    {
     "name": "stdout",
     "output_type": "stream",
     "text": [
      "[[85273     0]\n",
      " [  218     0]]\n",
      "Test set results: Recall = 0.0, Precision = 0.0, ROC_AUC = 0.6716550255159979, balanced accuracy = 0.5,  Costs are 74159.24\n"
     ]
    }
   ],
   "source": [
    "random_state =1\n",
    "xgb = XGBClassifier(random_state=random_state) \n",
    "\n",
    "param_grid = {\n",
    "    'booster': ['gbtree', 'gblinear', 'dart'],\n",
    "    'eta': [0.4],\n",
    "    'gamma': [10,50],\n",
    "    'max_depth': [5, None],\n",
    "    'subsample': [1],\n",
    "    'sampling_method': ['uniform', 'gradient_based'],\n",
    "    'lambda': [1],\n",
    "    'alpha': [1],\n",
    "    'tree_method': ['auto', 'approx'],\n",
    "    'scale_pos_weight': [1, 100]} #Check for undersampling if this still works?\n",
    "\n",
    "#Autoencoder\n",
    "best_params_AE = find_optimal_parameters(xgb, param_grid, 'roc_auc', 3, AE_latent_representations_validate, y_validate)\n",
    "evaluate_DH_performance('XGB', best_params_AE, AE_latent_representations_validate, y_validate, AE_latent_representations_test, y_test)   \n",
    "\n",
    "#VAE\n",
    "best_params_VAE = find_optimal_parameters(xgb, param_grid, 'roc_auc', 3, VAE_latent_representations_validate, y_validate)\n",
    "evaluate_DH_performance('XGB', best_params_VAE, VAE_latent_representations_validate, y_validate, VAE_latent_representations_test, y_test)   \n",
    "\n",
    "# #DAE\n",
    "best_params_DAE = find_optimal_parameters(xgb, param_grid, 'roc_auc', 3, DAE_latent_representations_validate, y_validate)\n",
    "evaluate_DH_performance('XGB', best_params_DAE, DAE_latent_representations_validate, y_validate, DAE_latent_representations_test, y_test)   "
   ]
  },
  {
   "cell_type": "markdown",
   "id": "2162bcb3",
   "metadata": {
    "hidden": true
   },
   "source": [
    "### 2.4.2 Reconstruction error as input "
   ]
  },
  {
   "cell_type": "code",
   "execution_count": 69,
   "id": "86131fa3",
   "metadata": {
    "hidden": true,
    "scrolled": false
   },
   "outputs": [
    {
     "name": "stdout",
     "output_type": "stream",
     "text": [
      "51930.92\n"
     ]
    },
    {
     "name": "stderr",
     "output_type": "stream",
     "text": [
      "C:\\Users\\jan.deleeuw\\Anaconda3\\lib\\site-packages\\sklearn\\utils\\deprecation.py:87: FutureWarning: Function plot_confusion_matrix is deprecated; Function `plot_confusion_matrix` is deprecated in 1.0 and will be removed in 1.2. Use one of the class methods: ConfusionMatrixDisplay.from_predictions or ConfusionMatrixDisplay.from_estimator.\n",
      "  warnings.warn(msg, category=FutureWarning)\n"
     ]
    },
    {
     "data": {
      "image/png": "[encoded data removed]",
      "text/plain": [
       "<Figure size 432x288 with 2 Axes>"
      ]
     },
     "metadata": {
      "needs_background": "light"
     },
     "output_type": "display_data"
    },
    {
     "name": "stdout",
     "output_type": "stream",
     "text": [
      "[[83925  1348]\n",
      " [  146    72]]\n",
      "Test set results: Recall = 0.3302752293577982, Precision = 0.05070422535211268, ROC_AUC = 0.7573336505731134, balanced accuracy = 0.6572335887855918,  Costs are 51930.92\n",
      "--- 0.5255265235900879 seconds ---\n",
      "51930.92\n"
     ]
    },
    {
     "name": "stderr",
     "output_type": "stream",
     "text": [
      "C:\\Users\\jan.deleeuw\\Anaconda3\\lib\\site-packages\\sklearn\\utils\\deprecation.py:87: FutureWarning: Function plot_confusion_matrix is deprecated; Function `plot_confusion_matrix` is deprecated in 1.0 and will be removed in 1.2. Use one of the class methods: ConfusionMatrixDisplay.from_predictions or ConfusionMatrixDisplay.from_estimator.\n",
      "  warnings.warn(msg, category=FutureWarning)\n"
     ]
    },
    {
     "data": {
      "image/png": "[encoded data removed]",
      "text/plain": [
       "<Figure size 432x288 with 2 Axes>"
      ]
     },
     "metadata": {
      "needs_background": "light"
     },
     "output_type": "display_data"
    },
    {
     "name": "stdout",
     "output_type": "stream",
     "text": [
      "[[83925  1348]\n",
      " [  146    72]]\n",
      "Test set results: Recall = 0.3302752293577982, Precision = 0.05070422535211268, ROC_AUC = 0.7573336505731134, balanced accuracy = 0.6572335887855918,  Costs are 51930.92\n",
      "Total misclassification costs are  72532.07000000007\n",
      "TN    83925\n",
      "FP     1348\n",
      "FN      146\n",
      "TP       72\n",
      "Name: classification, dtype: int64\n",
      "52680.159999999996\n"
     ]
    },
    {
     "name": "stderr",
     "output_type": "stream",
     "text": [
      "C:\\Users\\jan.deleeuw\\Anaconda3\\lib\\site-packages\\sklearn\\utils\\deprecation.py:87: FutureWarning: Function plot_confusion_matrix is deprecated; Function `plot_confusion_matrix` is deprecated in 1.0 and will be removed in 1.2. Use one of the class methods: ConfusionMatrixDisplay.from_predictions or ConfusionMatrixDisplay.from_estimator.\n",
      "  warnings.warn(msg, category=FutureWarning)\n"
     ]
    },
    {
     "data": {
      "image/png": "[encoded data removed]",
      "text/plain": [
       "<Figure size 432x288 with 2 Axes>"
      ]
     },
     "metadata": {
      "needs_background": "light"
     },
     "output_type": "display_data"
    },
    {
     "name": "stdout",
     "output_type": "stream",
     "text": [
      "[[83884  1389]\n",
      " [  148    70]]\n",
      "Test set results: Recall = 0.3211009174311927, Precision = 0.047978067169294036, ROC_AUC = 0.7318349473794743, balanced accuracy = 0.652406028473902,  Costs are 52680.159999999996\n",
      "Total misclassification costs are  73144.12000000004\n",
      "TN    83884\n",
      "FP     1389\n",
      "FN      148\n",
      "TP       70\n",
      "Name: classification, dtype: int64\n",
      "54189.54\n"
     ]
    },
    {
     "name": "stderr",
     "output_type": "stream",
     "text": [
      "C:\\Users\\jan.deleeuw\\Anaconda3\\lib\\site-packages\\sklearn\\utils\\deprecation.py:87: FutureWarning: Function plot_confusion_matrix is deprecated; Function `plot_confusion_matrix` is deprecated in 1.0 and will be removed in 1.2. Use one of the class methods: ConfusionMatrixDisplay.from_predictions or ConfusionMatrixDisplay.from_estimator.\n",
      "  warnings.warn(msg, category=FutureWarning)\n"
     ]
    },
    {
     "data": {
      "image/png": "[encoded data removed]",
      "text/plain": [
       "<Figure size 432x288 with 2 Axes>"
      ]
     },
     "metadata": {
      "needs_background": "light"
     },
     "output_type": "display_data"
    },
    {
     "name": "stdout",
     "output_type": "stream",
     "text": [
      "[[83998  1275]\n",
      " [  153    65]]\n",
      "Test set results: Recall = 0.2981651376146789, Precision = 0.048507462686567165, ROC_AUC = 0.7248756476366192, balanced accuracy = 0.6416065799245747,  Costs are 54189.54\n",
      "Total misclassification costs are  72377.64000000004\n",
      "TN    83998\n",
      "FP     1275\n",
      "FN      153\n",
      "TP       65\n",
      "Name: classification, dtype: int64\n"
     ]
    },
    {
     "data": {
      "text/plain": [
       "72377.64000000004"
      ]
     },
     "execution_count": 69,
     "metadata": {},
     "output_type": "execute_result"
    }
   ],
   "source": [
    "random_state = 1\n",
    "xgb = XGBClassifier(random_state=random_state) \n",
    "\n",
    "\n",
    "#Autoencoder MSE\n",
    "#best_params_AE = find_optimal_parameters(xgb, param_grid, 'roc_auc', 3, AE_reconstruction_error_validate_mse, y_validate)\n",
    "start_time = time.time()\n",
    "evaluate_DH_performance('XGB', best_params_AE_XGB, AE_reconstruction_error_validate_mse, y_validate,\n",
    "                        AE_reconstruction_error_test_mse, y_test)   \n",
    "print(\"--- %s seconds ---\" % (time.time() - start_time))\n",
    "\n",
    "X_test_, y_test, y_pred = get_outcomes('XGB', best_params_AE_XGB, AE_reconstruction_error_validate_mse, y_validate,\n",
    "                        AE_reconstruction_error_test_mse, y_test)\n",
    "cost_test_set(X_test, y_test, y_pred)\n",
    "\n",
    "#Autoencoder MAE\n",
    "# evaluate_DH_performance('XGB', best_params_AE_XGB, AE_reconstruction_error_validate_mae, y_validate,\n",
    "#                         AE_reconstruction_error_test_mae, y_test)   \n",
    "# #VAE MSE\n",
    "# evaluate_DH_performance('XGB', best_params_VAE_XGB, VAE_reconstruction_error_validate_mse, y_validate,\n",
    "#                         VAE_reconstruction_error_test_mse, y_test)   \n",
    "\n",
    "X_test_, y_test, y_pred = get_outcomes('XGB', best_params_VAE_XGB, VAE_reconstruction_error_validate_mse, y_validate,\n",
    "                        VAE_reconstruction_error_test_mse, y_test)\n",
    "cost_test_set(X_test, y_test, y_pred)\n",
    "\n",
    "# #VAE MAE\n",
    "# evaluate_DH_performance('XGB', best_params_VAE_XGB, VAE_reconstruction_error_validate_mae, y_validate,\n",
    "#                         VAE_reconstruction_error_test_mae, y_test)   \n",
    "# #DAE MSE\n",
    "# evaluate_DH_performance('XGB', best_params_DAE_XGB, DAE_reconstruction_error_validate_mse, y_validate,\n",
    "#                         DAE_reconstruction_error_test_mse, y_test)   \n",
    "\n",
    "X_test_, y_test, y_pred = get_outcomes('XGB', best_params_DAE_XGB, DAE_reconstruction_error_validate_mse, y_validate,\n",
    "                        DAE_reconstruction_error_test_mse, y_test)\n",
    "cost_test_set(X_test, y_test, y_pred)\n",
    "\n",
    "# #DAE MAE\n",
    "# evaluate_DH_performance('XGB', best_params_DAE_XGB, DAE_reconstruction_error_validate_mae, y_validate,\n",
    "#                         DAE_reconstruction_error_test_mae, y_test)   "
   ]
  },
  {
   "cell_type": "markdown",
   "id": "bec25642",
   "metadata": {
    "heading_collapsed": true,
    "hidden": true
   },
   "source": [
    "## 2.5 Decision Tree classifier "
   ]
  },
  {
   "cell_type": "markdown",
   "id": "0938f945",
   "metadata": {
    "hidden": true
   },
   "source": [
    "### 2.5.1 Latent representation as input"
   ]
  },
  {
   "cell_type": "code",
   "execution_count": null,
   "id": "6fc929c7",
   "metadata": {
    "hidden": true
   },
   "outputs": [],
   "source": [
    "DT = DecisionTreeClassifier(random_state=random_state)\n",
    "\n",
    "param_grid = {\n",
    "    'criterion': ['entropy', 'gini'],\n",
    "    'max_depth': [5,10, None],\n",
    "    'max_features': [5, 10, None],\n",
    "    'min_samples_split': [50, 150, None],\n",
    "    'class_weight': ['balanced', None]}\n",
    "\n",
    "\n",
    "#LATENT REPRESENTATION AS INPUT results \n",
    "#Autoencoder\n",
    "best_params_AE = find_optimal_parameters(DT, param_grid, 'balanced_accuracy', 3, AE_latent_representations_validate, y_validate)\n",
    "evaluate_DH_performance('DT', best_params_AE, AE_latent_representations_validate, y_validate, AE_latent_representations_test, y_test)\n",
    "\n",
    "#VAE\n",
    "best_params_VAE = find_optimal_parameters(DT, param_grid, 'roc_auc', 3, VAE_latent_representations_validate, y_validate)\n",
    "evaluate_DH_performance('DT', best_params_VAE, VAE_latent_representations_validate, y_validate, VAE_latent_representations_test, y_test)\n",
    "\n",
    "#DAE\n",
    "best_params_DAE = find_optimal_parameters(DT, param_grid, 'roc_auc', 3, DAE_latent_representations_validate, y_validate)\n",
    "evaluate_DH_performance('DT', best_params_DAE, DAE_latent_representations_validate, y_validate, DAE_latent_representations_test, y_test)"
   ]
  },
  {
   "cell_type": "markdown",
   "id": "5a2b4a12",
   "metadata": {
    "hidden": true
   },
   "source": [
    "### 2.5.2 Reconstruction error as input "
   ]
  },
  {
   "cell_type": "code",
   "execution_count": 74,
   "id": "4153336e",
   "metadata": {
    "collapsed": true,
    "hidden": true
   },
   "outputs": [
    {
     "name": "stdout",
     "output_type": "stream",
     "text": [
      "61497.600000000006\n"
     ]
    },
    {
     "name": "stderr",
     "output_type": "stream",
     "text": [
      "C:\\Users\\jan.deleeuw\\Anaconda3\\lib\\site-packages\\sklearn\\utils\\deprecation.py:87: FutureWarning: Function plot_confusion_matrix is deprecated; Function `plot_confusion_matrix` is deprecated in 1.0 and will be removed in 1.2. Use one of the class methods: ConfusionMatrixDisplay.from_predictions or ConfusionMatrixDisplay.from_estimator.\n",
      "  warnings.warn(msg, category=FutureWarning)\n"
     ]
    },
    {
     "data": {
      "image/png": "[encoded data removed]",
      "text/plain": [
       "<Figure size 432x288 with 2 Axes>"
      ]
     },
     "metadata": {
      "needs_background": "light"
     },
     "output_type": "display_data"
    },
    {
     "name": "stdout",
     "output_type": "stream",
     "text": [
      "[[70536 14737]\n",
      " [  108   110]]\n",
      "Test set results: Recall = 0.5045871559633027, Precision = 0.007408904155721694, ROC_AUC = 0.6966600364054704, balanced accuracy = 0.6658828735382754,  Costs are 61497.600000000006\n",
      "Total misclassification costs are  61045.85\n",
      "TN    70536\n",
      "FP    14737\n",
      "TP      110\n",
      "FN      108\n",
      "Name: classification, dtype: int64\n"
     ]
    },
    {
     "data": {
      "text/plain": [
       "61045.85"
      ]
     },
     "execution_count": 74,
     "metadata": {},
     "output_type": "execute_result"
    }
   ],
   "source": [
    "DT = DecisionTreeClassifier(random_state=random_state)\n",
    "\n",
    "param_grid = {\n",
    "    'criterion': ['entropy', 'gini'],\n",
    "    'max_depth': [5,10, None],\n",
    "    'max_features': [5, 10, None],\n",
    "    'min_samples_split': [50, 150, None],\n",
    "    'class_weight': ['balanced', None]}\n",
    "\n",
    "#Autoencoder MSE\n",
    "#best_params_AE = find_optimal_parameters(DT, param_grid, 'balanced_accuracy', 3, AE_reconstruction_error_validate_mse, y_validate)\n",
    "#best_params_VAE = find_optimal_parameters(DT, param_grid, 'roc_auc', 3, VAE_reconstruction_error_validate_mse, y_validate)\n",
    "#best_params_DAE = find_optimal_parameters(DT, param_grid, 'roc_auc', 3, DAE_reconstruction_error_validate_mse, y_validate)\n",
    "\n",
    "#evaluate_DH_performance('DT', best_params_AE, AE_reconstruction_error_validate_mse, y_validate,\n",
    "#                        AE_reconstruction_error_test_mse, y_test)   \n",
    "\n",
    "\n",
    "X_test_, y_test, y_pred = get_outcomes('DT', best_params_AE_DT, AE_reconstruction_error_validate_mse, y_validate,\n",
    "                        AE_reconstruction_error_test_mse, y_test)\n",
    "cost_test_set(X_test, y_test, y_pred)\n",
    "\n",
    "# #Autoencoder MAE\n",
    "# evaluate_DH_performance('DT', best_params_AE, AE_reconstruction_error_validate_mae, y_validate,\n",
    "#                         AE_reconstruction_error_test_mae, y_test)   \n",
    "# #VAE MSE\n",
    "# evaluate_DH_performance('DT', best_params_VAE, VAE_reconstruction_error_validate_mse, y_validate,\n",
    "#                         VAE_reconstruction_error_test_mse, y_test)   \n",
    "# #VAE MAE\n",
    "# evaluate_DH_performance('DT', best_params_VAE, VAE_reconstruction_error_validate_mae, y_validate,\n",
    "#                         VAE_reconstruction_error_test_mae, y_test)   \n",
    "# #DAE MSE\n",
    "# evaluate_DH_performance('DT', best_params_DAE, DAE_reconstruction_error_validate_mse, y_validate,\n",
    "#                         DAE_reconstruction_error_test_mse, y_test)   \n",
    "# #DAE MAE\n",
    "# evaluate_DH_performance('DT', best_params_DAE, DAE_reconstruction_error_validate_mae, y_validate,\n",
    "#                         DAE_reconstruction_error_test_mae, y_test)   "
   ]
  },
  {
   "cell_type": "markdown",
   "id": "25c05a6a",
   "metadata": {
    "hidden": true
   },
   "source": [
    "### 2.6 Insure everything and insure nothing"
   ]
  },
  {
   "cell_type": "code",
   "execution_count": 97,
   "id": "1e905431",
   "metadata": {
    "hidden": true
   },
   "outputs": [
    {
     "name": "stdout",
     "output_type": "stream",
     "text": [
      "Total misclassification costs are  92157.57000000007\n",
      "TN    85273\n",
      "FN      218\n",
      "Name: classification, dtype: int64\n",
      "Total misclassification costs are  177299.05\n",
      "FP    85273\n",
      "TP      218\n",
      "Name: classification, dtype: int64\n"
     ]
    },
    {
     "data": {
      "text/plain": [
       "177299.05"
      ]
     },
     "execution_count": 97,
     "metadata": {},
     "output_type": "execute_result"
    }
   ],
   "source": [
    "y_pred_0 = pd.DataFrame([0 for element in range(len(X_test_transformed))])\n",
    "y_pred_1 = pd.DataFrame([1 for element in range(len(X_test_transformed))])                         \n",
    "cost_test_set(X_test, y_test, y_pred_0)\n",
    "cost_test_set(X_test, y_test, y_pred_1)\n",
    "\n",
    "# test_df = merge_test_set(X_test['stock_value'], y_test, y_pred_0)\n",
    "# test_df['Pred'] = test_df.iloc[:,-1:]\n",
    "# test_df['stock_value_normal'] = np.exp(test_df[\"stock_value\"]) \n",
    "# test_df['classification'] = test_df.apply(lambda x: determine_misclass(x.Pred, x.Is_lost_item), axis=1)\n",
    "# test_df['misclass_cost'] = test_df.apply(lambda x: determine_misclass_cost(x.classification, x.stock_value_normal), axis=1)\n",
    "# print('Total misclassification costs are ', np.sum(test_df['misclass_cost']))\n",
    "# print(test_df['classification'].value_counts())"
   ]
  },
  {
   "cell_type": "code",
   "execution_count": 83,
   "id": "652b1b65",
   "metadata": {
    "hidden": true
   },
   "outputs": [
    {
     "data": {
      "text/plain": [
       "(85490, 1)"
      ]
     },
     "execution_count": 83,
     "metadata": {},
     "output_type": "execute_result"
    }
   ],
   "source": [
    "y_pred_0.shape"
   ]
  },
  {
   "cell_type": "code",
   "execution_count": 92,
   "id": "5c52a058",
   "metadata": {
    "hidden": true
   },
   "outputs": [
    {
     "data": {
      "text/plain": [
       "(85491, 1)"
      ]
     },
     "execution_count": 92,
     "metadata": {},
     "output_type": "execute_result"
    }
   ],
   "source": [
    "y_test.shape"
   ]
  },
  {
   "cell_type": "code",
   "execution_count": 85,
   "id": "7c92d929",
   "metadata": {
    "hidden": true
   },
   "outputs": [
    {
     "data": {
      "text/plain": [
       "(85490, 226)"
      ]
     },
     "execution_count": 85,
     "metadata": {},
     "output_type": "execute_result"
    }
   ],
   "source": []
  },
  {
   "cell_type": "code",
   "execution_count": 91,
   "id": "d724d75b",
   "metadata": {
    "hidden": true
   },
   "outputs": [
    {
     "data": {
      "text/plain": [
       "(85491, 25)"
      ]
     },
     "execution_count": 91,
     "metadata": {},
     "output_type": "execute_result"
    }
   ],
   "source": [
    "X_test_transformed.shape"
   ]
  },
  {
   "cell_type": "code",
   "execution_count": null,
   "id": "58c58b3d",
   "metadata": {
    "hidden": true
   },
   "outputs": [],
   "source": []
  }
 ],
 "metadata": {
  "kernelspec": {
   "display_name": "Python 3 (ipykernel)",
   "language": "python",
   "name": "python3"
  },
  "language_info": {
   "codemirror_mode": {
    "name": "ipython",
    "version": 3
   },
   "file_extension": ".py",
   "mimetype": "text/x-python",
   "name": "python",
   "nbconvert_exporter": "python",
   "pygments_lexer": "ipython3",
   "version": "3.11.5"
  }
 },
 "nbformat": 4,
 "nbformat_minor": 5
}
